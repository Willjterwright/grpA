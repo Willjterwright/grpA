{
 "cells": [
  {
   "cell_type": "code",
   "execution_count": 2,
   "metadata": {},
   "outputs": [],
   "source": [
    "#Loading modules\n",
    "\n",
    "import deepchem as dc\n",
    "from rdkit import Chem\n",
    "from rdkit.Chem import Draw\n",
    "from rdkit.Chem import Features\n",
    "from rdkit.Chem import Fragments as fr\n",
    "from rdkit.Chem import rdMolDescriptors\n",
    "import tensorflow as tf\n",
    "\n",
    "import pandas as pd\n",
    "\n",
    "from matplotlib import pyplot as plt\n",
    "\n",
    "import numpy as np\n",
    "\n",
    "from sklearn import metrics\n",
    "from sklearn.metrics import f1_score\n",
    "\n",
    "import warnings\n",
    "warnings.filterwarnings(\"ignore\")"
   ]
  },
  {
   "attachments": {},
   "cell_type": "markdown",
   "metadata": {},
   "source": [
    "# Ensemble learning\n"
   ]
  },
  {
   "cell_type": "code",
   "execution_count": 83,
   "metadata": {},
   "outputs": [
    {
     "data": {
      "text/html": [
       "<div>\n",
       "<style scoped>\n",
       "    .dataframe tbody tr th:only-of-type {\n",
       "        vertical-align: middle;\n",
       "    }\n",
       "\n",
       "    .dataframe tbody tr th {\n",
       "        vertical-align: top;\n",
       "    }\n",
       "\n",
       "    .dataframe thead th {\n",
       "        text-align: right;\n",
       "    }\n",
       "</style>\n",
       "<table border=\"1\" class=\"dataframe\">\n",
       "  <thead>\n",
       "    <tr style=\"text-align: right;\">\n",
       "      <th></th>\n",
       "      <th>X</th>\n",
       "      <th>y1</th>\n",
       "      <th>y2</th>\n",
       "      <th>y3</th>\n",
       "      <th>y4</th>\n",
       "      <th>y5</th>\n",
       "      <th>y6</th>\n",
       "      <th>y7</th>\n",
       "      <th>y8</th>\n",
       "      <th>y9</th>\n",
       "      <th>...</th>\n",
       "      <th>w4</th>\n",
       "      <th>w5</th>\n",
       "      <th>w6</th>\n",
       "      <th>w7</th>\n",
       "      <th>w8</th>\n",
       "      <th>w9</th>\n",
       "      <th>w10</th>\n",
       "      <th>w11</th>\n",
       "      <th>w12</th>\n",
       "      <th>ids</th>\n",
       "    </tr>\n",
       "  </thead>\n",
       "  <tbody>\n",
       "    <tr>\n",
       "      <th>0</th>\n",
       "      <td>&lt;deepchem.feat.mol_graphs.ConvMol object at 0x...</td>\n",
       "      <td>0.0</td>\n",
       "      <td>0.0</td>\n",
       "      <td>0.0</td>\n",
       "      <td>0.0</td>\n",
       "      <td>0.0</td>\n",
       "      <td>0.0</td>\n",
       "      <td>0.0</td>\n",
       "      <td>0.0</td>\n",
       "      <td>0.0</td>\n",
       "      <td>...</td>\n",
       "      <td>0.000000</td>\n",
       "      <td>0.000000</td>\n",
       "      <td>0.000000</td>\n",
       "      <td>0.000000</td>\n",
       "      <td>1.186419</td>\n",
       "      <td>0.000000</td>\n",
       "      <td>1.058113</td>\n",
       "      <td>0.000000</td>\n",
       "      <td>0.000000</td>\n",
       "      <td>CCOC(=O)C(=O)c1csc(NC=O)n1</td>\n",
       "    </tr>\n",
       "    <tr>\n",
       "      <th>1</th>\n",
       "      <td>&lt;deepchem.feat.mol_graphs.ConvMol object at 0x...</td>\n",
       "      <td>1.0</td>\n",
       "      <td>0.0</td>\n",
       "      <td>0.0</td>\n",
       "      <td>0.0</td>\n",
       "      <td>0.0</td>\n",
       "      <td>0.0</td>\n",
       "      <td>0.0</td>\n",
       "      <td>0.0</td>\n",
       "      <td>0.0</td>\n",
       "      <td>...</td>\n",
       "      <td>0.000000</td>\n",
       "      <td>1.145708</td>\n",
       "      <td>1.050492</td>\n",
       "      <td>1.029118</td>\n",
       "      <td>1.186419</td>\n",
       "      <td>1.038037</td>\n",
       "      <td>1.058113</td>\n",
       "      <td>0.000000</td>\n",
       "      <td>1.063423</td>\n",
       "      <td>CN(CCOc1ccc(NS(C)(=O)=O)cc1)CCc1ccc(NS(C)(=O)=...</td>\n",
       "    </tr>\n",
       "    <tr>\n",
       "      <th>2</th>\n",
       "      <td>&lt;deepchem.feat.mol_graphs.ConvMol object at 0x...</td>\n",
       "      <td>0.0</td>\n",
       "      <td>0.0</td>\n",
       "      <td>0.0</td>\n",
       "      <td>0.0</td>\n",
       "      <td>0.0</td>\n",
       "      <td>0.0</td>\n",
       "      <td>0.0</td>\n",
       "      <td>0.0</td>\n",
       "      <td>0.0</td>\n",
       "      <td>...</td>\n",
       "      <td>1.054158</td>\n",
       "      <td>1.145708</td>\n",
       "      <td>1.050492</td>\n",
       "      <td>1.029118</td>\n",
       "      <td>1.186419</td>\n",
       "      <td>1.038037</td>\n",
       "      <td>1.058113</td>\n",
       "      <td>1.182927</td>\n",
       "      <td>1.063423</td>\n",
       "      <td>CCCCCCCCCCCCCCCC(=O)OCC</td>\n",
       "    </tr>\n",
       "    <tr>\n",
       "      <th>3</th>\n",
       "      <td>&lt;deepchem.feat.mol_graphs.ConvMol object at 0x...</td>\n",
       "      <td>0.0</td>\n",
       "      <td>0.0</td>\n",
       "      <td>0.0</td>\n",
       "      <td>0.0</td>\n",
       "      <td>0.0</td>\n",
       "      <td>0.0</td>\n",
       "      <td>0.0</td>\n",
       "      <td>0.0</td>\n",
       "      <td>0.0</td>\n",
       "      <td>...</td>\n",
       "      <td>1.054158</td>\n",
       "      <td>1.145708</td>\n",
       "      <td>1.050492</td>\n",
       "      <td>1.029118</td>\n",
       "      <td>0.000000</td>\n",
       "      <td>1.038037</td>\n",
       "      <td>0.000000</td>\n",
       "      <td>1.182927</td>\n",
       "      <td>1.063423</td>\n",
       "      <td>O=c1oc2cc(O)ccc2s1</td>\n",
       "    </tr>\n",
       "    <tr>\n",
       "      <th>4</th>\n",
       "      <td>&lt;deepchem.feat.mol_graphs.ConvMol object at 0x...</td>\n",
       "      <td>0.0</td>\n",
       "      <td>0.0</td>\n",
       "      <td>1.0</td>\n",
       "      <td>0.0</td>\n",
       "      <td>0.0</td>\n",
       "      <td>0.0</td>\n",
       "      <td>0.0</td>\n",
       "      <td>1.0</td>\n",
       "      <td>0.0</td>\n",
       "      <td>...</td>\n",
       "      <td>1.054158</td>\n",
       "      <td>1.145708</td>\n",
       "      <td>1.050492</td>\n",
       "      <td>1.029118</td>\n",
       "      <td>6.364256</td>\n",
       "      <td>1.038037</td>\n",
       "      <td>1.058113</td>\n",
       "      <td>6.466667</td>\n",
       "      <td>1.063423</td>\n",
       "      <td>CCOP(=S)(OCC)Oc1nc(Cl)c(Cl)cc1Cl</td>\n",
       "    </tr>\n",
       "    <tr>\n",
       "      <th>...</th>\n",
       "      <td>...</td>\n",
       "      <td>...</td>\n",
       "      <td>...</td>\n",
       "      <td>...</td>\n",
       "      <td>...</td>\n",
       "      <td>...</td>\n",
       "      <td>...</td>\n",
       "      <td>...</td>\n",
       "      <td>...</td>\n",
       "      <td>...</td>\n",
       "      <td>...</td>\n",
       "      <td>...</td>\n",
       "      <td>...</td>\n",
       "      <td>...</td>\n",
       "      <td>...</td>\n",
       "      <td>...</td>\n",
       "      <td>...</td>\n",
       "      <td>...</td>\n",
       "      <td>...</td>\n",
       "      <td>...</td>\n",
       "      <td>...</td>\n",
       "    </tr>\n",
       "    <tr>\n",
       "      <th>778</th>\n",
       "      <td>&lt;deepchem.feat.mol_graphs.ConvMol object at 0x...</td>\n",
       "      <td>0.0</td>\n",
       "      <td>0.0</td>\n",
       "      <td>0.0</td>\n",
       "      <td>0.0</td>\n",
       "      <td>0.0</td>\n",
       "      <td>0.0</td>\n",
       "      <td>0.0</td>\n",
       "      <td>1.0</td>\n",
       "      <td>0.0</td>\n",
       "      <td>...</td>\n",
       "      <td>0.000000</td>\n",
       "      <td>0.000000</td>\n",
       "      <td>0.000000</td>\n",
       "      <td>0.000000</td>\n",
       "      <td>6.364256</td>\n",
       "      <td>0.000000</td>\n",
       "      <td>0.000000</td>\n",
       "      <td>0.000000</td>\n",
       "      <td>0.000000</td>\n",
       "      <td>NC(=O)C(=O)NN=Cc1ccc([N+](=O)[O-])o1</td>\n",
       "    </tr>\n",
       "    <tr>\n",
       "      <th>779</th>\n",
       "      <td>&lt;deepchem.feat.mol_graphs.ConvMol object at 0x...</td>\n",
       "      <td>0.0</td>\n",
       "      <td>0.0</td>\n",
       "      <td>0.0</td>\n",
       "      <td>0.0</td>\n",
       "      <td>0.0</td>\n",
       "      <td>0.0</td>\n",
       "      <td>0.0</td>\n",
       "      <td>0.0</td>\n",
       "      <td>0.0</td>\n",
       "      <td>...</td>\n",
       "      <td>1.054158</td>\n",
       "      <td>1.145708</td>\n",
       "      <td>1.050492</td>\n",
       "      <td>1.029118</td>\n",
       "      <td>0.000000</td>\n",
       "      <td>1.038037</td>\n",
       "      <td>0.000000</td>\n",
       "      <td>1.182927</td>\n",
       "      <td>1.063423</td>\n",
       "      <td>CC(=O)OC[C@H]1O[C@@H](O)[C@H](OC(=O)c2ccccc2C(...</td>\n",
       "    </tr>\n",
       "    <tr>\n",
       "      <th>780</th>\n",
       "      <td>&lt;deepchem.feat.mol_graphs.ConvMol object at 0x...</td>\n",
       "      <td>0.0</td>\n",
       "      <td>1.0</td>\n",
       "      <td>0.0</td>\n",
       "      <td>0.0</td>\n",
       "      <td>0.0</td>\n",
       "      <td>0.0</td>\n",
       "      <td>0.0</td>\n",
       "      <td>1.0</td>\n",
       "      <td>0.0</td>\n",
       "      <td>...</td>\n",
       "      <td>1.054158</td>\n",
       "      <td>1.145708</td>\n",
       "      <td>1.050492</td>\n",
       "      <td>1.029118</td>\n",
       "      <td>6.364256</td>\n",
       "      <td>1.038037</td>\n",
       "      <td>1.058113</td>\n",
       "      <td>1.182927</td>\n",
       "      <td>16.767081</td>\n",
       "      <td>c1cc2ccc3ccc4ccc5cccc6c(c1)c2c3c4c56</td>\n",
       "    </tr>\n",
       "    <tr>\n",
       "      <th>781</th>\n",
       "      <td>&lt;deepchem.feat.mol_graphs.ConvMol object at 0x...</td>\n",
       "      <td>0.0</td>\n",
       "      <td>0.0</td>\n",
       "      <td>0.0</td>\n",
       "      <td>0.0</td>\n",
       "      <td>0.0</td>\n",
       "      <td>0.0</td>\n",
       "      <td>0.0</td>\n",
       "      <td>0.0</td>\n",
       "      <td>0.0</td>\n",
       "      <td>...</td>\n",
       "      <td>1.054158</td>\n",
       "      <td>1.145708</td>\n",
       "      <td>1.050492</td>\n",
       "      <td>1.029118</td>\n",
       "      <td>1.186419</td>\n",
       "      <td>1.038037</td>\n",
       "      <td>1.058113</td>\n",
       "      <td>0.000000</td>\n",
       "      <td>16.767081</td>\n",
       "      <td>O=Cc1ccccc1[N+](=O)[O-]</td>\n",
       "    </tr>\n",
       "    <tr>\n",
       "      <th>782</th>\n",
       "      <td>&lt;deepchem.feat.mol_graphs.ConvMol object at 0x...</td>\n",
       "      <td>0.0</td>\n",
       "      <td>0.0</td>\n",
       "      <td>0.0</td>\n",
       "      <td>0.0</td>\n",
       "      <td>0.0</td>\n",
       "      <td>0.0</td>\n",
       "      <td>0.0</td>\n",
       "      <td>1.0</td>\n",
       "      <td>0.0</td>\n",
       "      <td>...</td>\n",
       "      <td>1.054158</td>\n",
       "      <td>1.145708</td>\n",
       "      <td>1.050492</td>\n",
       "      <td>1.029118</td>\n",
       "      <td>6.364256</td>\n",
       "      <td>1.038037</td>\n",
       "      <td>1.058113</td>\n",
       "      <td>1.182927</td>\n",
       "      <td>1.063423</td>\n",
       "      <td>CC(C)C(Br)C(=O)NC(N)=O</td>\n",
       "    </tr>\n",
       "  </tbody>\n",
       "</table>\n",
       "<p>7831 rows × 26 columns</p>\n",
       "</div>"
      ],
      "text/plain": [
       "                                                     X   y1   y2   y3   y4  \\\n",
       "0    <deepchem.feat.mol_graphs.ConvMol object at 0x...  0.0  0.0  0.0  0.0   \n",
       "1    <deepchem.feat.mol_graphs.ConvMol object at 0x...  1.0  0.0  0.0  0.0   \n",
       "2    <deepchem.feat.mol_graphs.ConvMol object at 0x...  0.0  0.0  0.0  0.0   \n",
       "3    <deepchem.feat.mol_graphs.ConvMol object at 0x...  0.0  0.0  0.0  0.0   \n",
       "4    <deepchem.feat.mol_graphs.ConvMol object at 0x...  0.0  0.0  1.0  0.0   \n",
       "..                                                 ...  ...  ...  ...  ...   \n",
       "778  <deepchem.feat.mol_graphs.ConvMol object at 0x...  0.0  0.0  0.0  0.0   \n",
       "779  <deepchem.feat.mol_graphs.ConvMol object at 0x...  0.0  0.0  0.0  0.0   \n",
       "780  <deepchem.feat.mol_graphs.ConvMol object at 0x...  0.0  1.0  0.0  0.0   \n",
       "781  <deepchem.feat.mol_graphs.ConvMol object at 0x...  0.0  0.0  0.0  0.0   \n",
       "782  <deepchem.feat.mol_graphs.ConvMol object at 0x...  0.0  0.0  0.0  0.0   \n",
       "\n",
       "      y5   y6   y7   y8   y9  ...        w4        w5        w6        w7  \\\n",
       "0    0.0  0.0  0.0  0.0  0.0  ...  0.000000  0.000000  0.000000  0.000000   \n",
       "1    0.0  0.0  0.0  0.0  0.0  ...  0.000000  1.145708  1.050492  1.029118   \n",
       "2    0.0  0.0  0.0  0.0  0.0  ...  1.054158  1.145708  1.050492  1.029118   \n",
       "3    0.0  0.0  0.0  0.0  0.0  ...  1.054158  1.145708  1.050492  1.029118   \n",
       "4    0.0  0.0  0.0  1.0  0.0  ...  1.054158  1.145708  1.050492  1.029118   \n",
       "..   ...  ...  ...  ...  ...  ...       ...       ...       ...       ...   \n",
       "778  0.0  0.0  0.0  1.0  0.0  ...  0.000000  0.000000  0.000000  0.000000   \n",
       "779  0.0  0.0  0.0  0.0  0.0  ...  1.054158  1.145708  1.050492  1.029118   \n",
       "780  0.0  0.0  0.0  1.0  0.0  ...  1.054158  1.145708  1.050492  1.029118   \n",
       "781  0.0  0.0  0.0  0.0  0.0  ...  1.054158  1.145708  1.050492  1.029118   \n",
       "782  0.0  0.0  0.0  1.0  0.0  ...  1.054158  1.145708  1.050492  1.029118   \n",
       "\n",
       "           w8        w9       w10       w11        w12  \\\n",
       "0    1.186419  0.000000  1.058113  0.000000   0.000000   \n",
       "1    1.186419  1.038037  1.058113  0.000000   1.063423   \n",
       "2    1.186419  1.038037  1.058113  1.182927   1.063423   \n",
       "3    0.000000  1.038037  0.000000  1.182927   1.063423   \n",
       "4    6.364256  1.038037  1.058113  6.466667   1.063423   \n",
       "..        ...       ...       ...       ...        ...   \n",
       "778  6.364256  0.000000  0.000000  0.000000   0.000000   \n",
       "779  0.000000  1.038037  0.000000  1.182927   1.063423   \n",
       "780  6.364256  1.038037  1.058113  1.182927  16.767081   \n",
       "781  1.186419  1.038037  1.058113  0.000000  16.767081   \n",
       "782  6.364256  1.038037  1.058113  1.182927   1.063423   \n",
       "\n",
       "                                                   ids  \n",
       "0                           CCOC(=O)C(=O)c1csc(NC=O)n1  \n",
       "1    CN(CCOc1ccc(NS(C)(=O)=O)cc1)CCc1ccc(NS(C)(=O)=...  \n",
       "2                              CCCCCCCCCCCCCCCC(=O)OCC  \n",
       "3                                   O=c1oc2cc(O)ccc2s1  \n",
       "4                     CCOP(=S)(OCC)Oc1nc(Cl)c(Cl)cc1Cl  \n",
       "..                                                 ...  \n",
       "778               NC(=O)C(=O)NN=Cc1ccc([N+](=O)[O-])o1  \n",
       "779  CC(=O)OC[C@H]1O[C@@H](O)[C@H](OC(=O)c2ccccc2C(...  \n",
       "780               c1cc2ccc3ccc4ccc5cccc6c(c1)c2c3c4c56  \n",
       "781                            O=Cc1ccccc1[N+](=O)[O-]  \n",
       "782                             CC(C)C(Br)C(=O)NC(N)=O  \n",
       "\n",
       "[7831 rows x 26 columns]"
      ]
     },
     "execution_count": 83,
     "metadata": {},
     "output_type": "execute_result"
    }
   ],
   "source": [
    "#First lets take Richard's featurisation method (shortened):\n",
    "\n",
    "#Loading the datasets\n",
    "datasets = dc.molnet.load_tox21(featurizer='GraphConv', splitter='random')\n",
    "\n",
    "\n",
    "tasks, datasets, transformers = datasets\n",
    "\n",
    "\n",
    "\n",
    "#Transforming dataset into a pandas dataframe\n",
    "train_dataset, valid_dataset, test_dataset = datasets\n",
    "\n",
    "train_df = train_dataset.to_dataframe()\n",
    "test_dataset = test_dataset.to_dataframe()\n",
    "valid_dataset = valid_dataset.to_dataframe()\n",
    "\n",
    "#This line concatenates all the dataframes, we will resplit them later with SKLEARN\n",
    "dataset = pd.concat([train_df, test_dataset, valid_dataset])\n",
    "\n",
    "dataset"
   ]
  },
  {
   "cell_type": "code",
   "execution_count": 84,
   "metadata": {},
   "outputs": [
    {
     "data": {
      "text/html": [
       "<div>\n",
       "<style scoped>\n",
       "    .dataframe tbody tr th:only-of-type {\n",
       "        vertical-align: middle;\n",
       "    }\n",
       "\n",
       "    .dataframe tbody tr th {\n",
       "        vertical-align: top;\n",
       "    }\n",
       "\n",
       "    .dataframe thead th {\n",
       "        text-align: right;\n",
       "    }\n",
       "</style>\n",
       "<table border=\"1\" class=\"dataframe\">\n",
       "  <thead>\n",
       "    <tr style=\"text-align: right;\">\n",
       "      <th></th>\n",
       "      <th>ids</th>\n",
       "      <th>y1</th>\n",
       "      <th>y2</th>\n",
       "      <th>y3</th>\n",
       "      <th>y4</th>\n",
       "      <th>y5</th>\n",
       "      <th>y6</th>\n",
       "      <th>y7</th>\n",
       "      <th>tox</th>\n",
       "      <th>tox_bin</th>\n",
       "    </tr>\n",
       "  </thead>\n",
       "  <tbody>\n",
       "    <tr>\n",
       "      <th>1</th>\n",
       "      <td>CN(CCOc1ccc(NS(C)(=O)=O)cc1)CCc1ccc(NS(C)(=O)=...</td>\n",
       "      <td>1.0</td>\n",
       "      <td>0.0</td>\n",
       "      <td>0.0</td>\n",
       "      <td>0.0</td>\n",
       "      <td>0.0</td>\n",
       "      <td>0.0</td>\n",
       "      <td>0.0</td>\n",
       "      <td>1.0</td>\n",
       "      <td>1</td>\n",
       "    </tr>\n",
       "    <tr>\n",
       "      <th>2</th>\n",
       "      <td>CCCCCCCCCCCCCCCC(=O)OCC</td>\n",
       "      <td>0.0</td>\n",
       "      <td>0.0</td>\n",
       "      <td>0.0</td>\n",
       "      <td>0.0</td>\n",
       "      <td>0.0</td>\n",
       "      <td>0.0</td>\n",
       "      <td>0.0</td>\n",
       "      <td>0.0</td>\n",
       "      <td>0</td>\n",
       "    </tr>\n",
       "    <tr>\n",
       "      <th>3</th>\n",
       "      <td>O=c1oc2cc(O)ccc2s1</td>\n",
       "      <td>0.0</td>\n",
       "      <td>0.0</td>\n",
       "      <td>0.0</td>\n",
       "      <td>0.0</td>\n",
       "      <td>0.0</td>\n",
       "      <td>0.0</td>\n",
       "      <td>0.0</td>\n",
       "      <td>0.0</td>\n",
       "      <td>0</td>\n",
       "    </tr>\n",
       "    <tr>\n",
       "      <th>4</th>\n",
       "      <td>CCOP(=S)(OCC)Oc1nc(Cl)c(Cl)cc1Cl</td>\n",
       "      <td>0.0</td>\n",
       "      <td>0.0</td>\n",
       "      <td>1.0</td>\n",
       "      <td>0.0</td>\n",
       "      <td>0.0</td>\n",
       "      <td>0.0</td>\n",
       "      <td>0.0</td>\n",
       "      <td>1.0</td>\n",
       "      <td>1</td>\n",
       "    </tr>\n",
       "    <tr>\n",
       "      <th>5</th>\n",
       "      <td>CCCCCCCC1CCCC1=O</td>\n",
       "      <td>0.0</td>\n",
       "      <td>0.0</td>\n",
       "      <td>0.0</td>\n",
       "      <td>0.0</td>\n",
       "      <td>0.0</td>\n",
       "      <td>0.0</td>\n",
       "      <td>0.0</td>\n",
       "      <td>0.0</td>\n",
       "      <td>0</td>\n",
       "    </tr>\n",
       "    <tr>\n",
       "      <th>...</th>\n",
       "      <td>...</td>\n",
       "      <td>...</td>\n",
       "      <td>...</td>\n",
       "      <td>...</td>\n",
       "      <td>...</td>\n",
       "      <td>...</td>\n",
       "      <td>...</td>\n",
       "      <td>...</td>\n",
       "      <td>...</td>\n",
       "      <td>...</td>\n",
       "    </tr>\n",
       "    <tr>\n",
       "      <th>95</th>\n",
       "      <td>CNS(=O)(=O)c1cc(C(=O)N2CCC(CCN3C4CCC3CC(n3c(C)...</td>\n",
       "      <td>0.0</td>\n",
       "      <td>0.0</td>\n",
       "      <td>0.0</td>\n",
       "      <td>0.0</td>\n",
       "      <td>0.0</td>\n",
       "      <td>0.0</td>\n",
       "      <td>0.0</td>\n",
       "      <td>0.0</td>\n",
       "      <td>0</td>\n",
       "    </tr>\n",
       "    <tr>\n",
       "      <th>96</th>\n",
       "      <td>Cc1ncc([N+](=O)[O-])n1C</td>\n",
       "      <td>0.0</td>\n",
       "      <td>0.0</td>\n",
       "      <td>0.0</td>\n",
       "      <td>0.0</td>\n",
       "      <td>0.0</td>\n",
       "      <td>0.0</td>\n",
       "      <td>0.0</td>\n",
       "      <td>0.0</td>\n",
       "      <td>0</td>\n",
       "    </tr>\n",
       "    <tr>\n",
       "      <th>97</th>\n",
       "      <td>O=C(O)c1cc(I)cc(I)c1I</td>\n",
       "      <td>0.0</td>\n",
       "      <td>0.0</td>\n",
       "      <td>0.0</td>\n",
       "      <td>0.0</td>\n",
       "      <td>0.0</td>\n",
       "      <td>0.0</td>\n",
       "      <td>1.0</td>\n",
       "      <td>1.0</td>\n",
       "      <td>1</td>\n",
       "    </tr>\n",
       "    <tr>\n",
       "      <th>98</th>\n",
       "      <td>CCCN(CC)C(CC)C(=O)Nc1c(C)cccc1C</td>\n",
       "      <td>0.0</td>\n",
       "      <td>0.0</td>\n",
       "      <td>0.0</td>\n",
       "      <td>0.0</td>\n",
       "      <td>0.0</td>\n",
       "      <td>0.0</td>\n",
       "      <td>0.0</td>\n",
       "      <td>0.0</td>\n",
       "      <td>0</td>\n",
       "    </tr>\n",
       "    <tr>\n",
       "      <th>99</th>\n",
       "      <td>C=CCN1C[C@H](C(=O)N(CCCN(C)C)C(=O)NCC)C[C@@H]2...</td>\n",
       "      <td>0.0</td>\n",
       "      <td>0.0</td>\n",
       "      <td>0.0</td>\n",
       "      <td>0.0</td>\n",
       "      <td>0.0</td>\n",
       "      <td>0.0</td>\n",
       "      <td>0.0</td>\n",
       "      <td>0.0</td>\n",
       "      <td>0</td>\n",
       "    </tr>\n",
       "  </tbody>\n",
       "</table>\n",
       "<p>99 rows × 10 columns</p>\n",
       "</div>"
      ],
      "text/plain": [
       "                                                  ids   y1   y2   y3   y4  \\\n",
       "1   CN(CCOc1ccc(NS(C)(=O)=O)cc1)CCc1ccc(NS(C)(=O)=...  1.0  0.0  0.0  0.0   \n",
       "2                             CCCCCCCCCCCCCCCC(=O)OCC  0.0  0.0  0.0  0.0   \n",
       "3                                  O=c1oc2cc(O)ccc2s1  0.0  0.0  0.0  0.0   \n",
       "4                    CCOP(=S)(OCC)Oc1nc(Cl)c(Cl)cc1Cl  0.0  0.0  1.0  0.0   \n",
       "5                                    CCCCCCCC1CCCC1=O  0.0  0.0  0.0  0.0   \n",
       "..                                                ...  ...  ...  ...  ...   \n",
       "95  CNS(=O)(=O)c1cc(C(=O)N2CCC(CCN3C4CCC3CC(n3c(C)...  0.0  0.0  0.0  0.0   \n",
       "96                            Cc1ncc([N+](=O)[O-])n1C  0.0  0.0  0.0  0.0   \n",
       "97                              O=C(O)c1cc(I)cc(I)c1I  0.0  0.0  0.0  0.0   \n",
       "98                    CCCN(CC)C(CC)C(=O)Nc1c(C)cccc1C  0.0  0.0  0.0  0.0   \n",
       "99  C=CCN1C[C@H](C(=O)N(CCCN(C)C)C(=O)NCC)C[C@@H]2...  0.0  0.0  0.0  0.0   \n",
       "\n",
       "     y5   y6   y7  tox  tox_bin  \n",
       "1   0.0  0.0  0.0  1.0        1  \n",
       "2   0.0  0.0  0.0  0.0        0  \n",
       "3   0.0  0.0  0.0  0.0        0  \n",
       "4   0.0  0.0  0.0  1.0        1  \n",
       "5   0.0  0.0  0.0  0.0        0  \n",
       "..  ...  ...  ...  ...      ...  \n",
       "95  0.0  0.0  0.0  0.0        0  \n",
       "96  0.0  0.0  0.0  0.0        0  \n",
       "97  0.0  0.0  1.0  1.0        1  \n",
       "98  0.0  0.0  0.0  0.0        0  \n",
       "99  0.0  0.0  0.0  0.0        0  \n",
       "\n",
       "[99 rows x 10 columns]"
      ]
     },
     "execution_count": 84,
     "metadata": {},
     "output_type": "execute_result"
    }
   ],
   "source": [
    "#Lets take just the y values and concatenate them into a single value (1 = toxic, 0 = non-toxic)\n",
    "\n",
    "dataset = dataset[['ids', 'y1', 'y2', 'y3', 'y4', 'y5', 'y6', 'y7']]\n",
    "\n",
    "dataset['tox'] = dataset.sum(axis=1)\n",
    "dataset['tox_bin'] = dataset['tox'].apply(lambda x: 1 if x > 0 else 0)\n",
    "\n",
    "dataset.iloc[1:100]"
   ]
  },
  {
   "cell_type": "code",
   "execution_count": 85,
   "metadata": {},
   "outputs": [],
   "source": [
    "#Next lets featurise our dataset using Richard's featurisation method\n",
    "#However I will only take the top most toxic functional groups\n",
    "\n",
    "toxic_grps = {\n",
    "    'isothiocyanate' : fr.fr_isothiocyan,\n",
    "    'C_S': fr.fr_C_S,\n",
    "    'dihydropyridine' : fr.fr_dihydropyridine,\n",
    "    'nitro_arom' : fr.fr_nitro_arom,\n",
    "    'phenol_not_ortho': fr.fr_phenol_noOrthoHbond,\n",
    "    'nitro_non_ortho' : fr.fr_nitro_arom_nonortho,\n",
    "    'phenol' : fr.fr_phenol,\n",
    "    'aromatic_OH': fr.fr_Ar_OH,\n",
    "    'furan' : fr.fr_furan,\n",
    "    'terminal_acetylene' : fr.fr_term_acetylene,\n",
    "    'thiazole' : fr.fr_thiazole,\n",
    "    'nitro' : fr.fr_nitro,\n",
    "    'hydrazone' : fr.fr_hdrzone,\n",
    "    'allylic_oxide' : fr.fr_allylic_oxid,\n",
    "    'ketone': fr.fr_ketone,\n",
    "    'bicyclic': fr.fr_bicyclic,\n",
    "    'azo' : fr.fr_azo,\n",
    "    'aromatic_N': fr.fr_ArN,\n",
    "    'aliphatic_COO': fr.fr_Al_COO,\n",
    "    'epoxide' : fr.fr_epoxide,\n",
    "    'thiocyanate' : fr.fr_thiocyan,\n",
    "    'aniline' : fr.fr_aniline,\n",
    "    'alkyl_halide' : fr.fr_alkyl_halide,\n",
    "    'pyridine' : fr.fr_pyridine,\n",
    "    'isocyanate' : fr.fr_isocyan,\n",
    "    'oxazole' : fr.fr_oxazole,\n",
    "    'ketone_topliss' : fr.fr_ketone_Topliss,\n",
    "    'imidazole' : fr.fr_imidazole,\n",
    "    'para_hydroxylation' : fr.fr_para_hydroxylation,\n",
    "    'benzene' : fr.fr_benzene,\n",
    "    'thiophene' : fr.fr_thiophene,\n",
    "    'hydrzine' : fr.fr_hdrzine,\n",
    "    'phos_ester' : fr.fr_phos_ester,\n",
    "    'phos_acid' : fr.fr_phos_acid,\n",
    "}"
   ]
  },
  {
   "cell_type": "code",
   "execution_count": 86,
   "metadata": {},
   "outputs": [
    {
     "name": "stderr",
     "output_type": "stream",
     "text": [
      "[08:56:06] WARNING: not removing hydrogen atom without neighbors\n"
     ]
    },
    {
     "data": {
      "text/html": [
       "<div>\n",
       "<style scoped>\n",
       "    .dataframe tbody tr th:only-of-type {\n",
       "        vertical-align: middle;\n",
       "    }\n",
       "\n",
       "    .dataframe tbody tr th {\n",
       "        vertical-align: top;\n",
       "    }\n",
       "\n",
       "    .dataframe thead th {\n",
       "        text-align: right;\n",
       "    }\n",
       "</style>\n",
       "<table border=\"1\" class=\"dataframe\">\n",
       "  <thead>\n",
       "    <tr style=\"text-align: right;\">\n",
       "      <th></th>\n",
       "      <th>ids</th>\n",
       "      <th>y1</th>\n",
       "      <th>y2</th>\n",
       "      <th>y3</th>\n",
       "      <th>y4</th>\n",
       "      <th>y5</th>\n",
       "      <th>y6</th>\n",
       "      <th>y7</th>\n",
       "      <th>tox</th>\n",
       "      <th>tox_bin</th>\n",
       "      <th>...</th>\n",
       "      <th>imidazole</th>\n",
       "      <th>para_hydroxylation</th>\n",
       "      <th>benzene</th>\n",
       "      <th>thiophene</th>\n",
       "      <th>hydrzine</th>\n",
       "      <th>phos_ester</th>\n",
       "      <th>phos_acid</th>\n",
       "      <th>pain</th>\n",
       "      <th>brenk</th>\n",
       "      <th>nih</th>\n",
       "    </tr>\n",
       "  </thead>\n",
       "  <tbody>\n",
       "    <tr>\n",
       "      <th>0</th>\n",
       "      <td>CCOC(=O)C(=O)c1csc(NC=O)n1</td>\n",
       "      <td>0.0</td>\n",
       "      <td>0.0</td>\n",
       "      <td>0.0</td>\n",
       "      <td>0.0</td>\n",
       "      <td>0.0</td>\n",
       "      <td>0.0</td>\n",
       "      <td>0.0</td>\n",
       "      <td>0.0</td>\n",
       "      <td>0</td>\n",
       "      <td>...</td>\n",
       "      <td>0.0</td>\n",
       "      <td>0.0</td>\n",
       "      <td>0.0</td>\n",
       "      <td>0.0</td>\n",
       "      <td>0.0</td>\n",
       "      <td>0.0</td>\n",
       "      <td>0.0</td>\n",
       "      <td>0.0</td>\n",
       "      <td>0.0</td>\n",
       "      <td>0.0</td>\n",
       "    </tr>\n",
       "    <tr>\n",
       "      <th>1</th>\n",
       "      <td>CN(CCOc1ccc(NS(C)(=O)=O)cc1)CCc1ccc(NS(C)(=O)=...</td>\n",
       "      <td>1.0</td>\n",
       "      <td>0.0</td>\n",
       "      <td>0.0</td>\n",
       "      <td>0.0</td>\n",
       "      <td>0.0</td>\n",
       "      <td>0.0</td>\n",
       "      <td>0.0</td>\n",
       "      <td>1.0</td>\n",
       "      <td>1</td>\n",
       "      <td>...</td>\n",
       "      <td>0.0</td>\n",
       "      <td>0.0</td>\n",
       "      <td>2.0</td>\n",
       "      <td>0.0</td>\n",
       "      <td>0.0</td>\n",
       "      <td>0.0</td>\n",
       "      <td>0.0</td>\n",
       "      <td>0.0</td>\n",
       "      <td>0.0</td>\n",
       "      <td>0.0</td>\n",
       "    </tr>\n",
       "    <tr>\n",
       "      <th>2</th>\n",
       "      <td>CCCCCCCCCCCCCCCC(=O)OCC</td>\n",
       "      <td>0.0</td>\n",
       "      <td>0.0</td>\n",
       "      <td>0.0</td>\n",
       "      <td>0.0</td>\n",
       "      <td>0.0</td>\n",
       "      <td>0.0</td>\n",
       "      <td>0.0</td>\n",
       "      <td>0.0</td>\n",
       "      <td>0</td>\n",
       "      <td>...</td>\n",
       "      <td>0.0</td>\n",
       "      <td>0.0</td>\n",
       "      <td>0.0</td>\n",
       "      <td>0.0</td>\n",
       "      <td>0.0</td>\n",
       "      <td>0.0</td>\n",
       "      <td>0.0</td>\n",
       "      <td>0.0</td>\n",
       "      <td>0.0</td>\n",
       "      <td>0.0</td>\n",
       "    </tr>\n",
       "    <tr>\n",
       "      <th>3</th>\n",
       "      <td>O=c1oc2cc(O)ccc2s1</td>\n",
       "      <td>0.0</td>\n",
       "      <td>0.0</td>\n",
       "      <td>0.0</td>\n",
       "      <td>0.0</td>\n",
       "      <td>0.0</td>\n",
       "      <td>0.0</td>\n",
       "      <td>0.0</td>\n",
       "      <td>0.0</td>\n",
       "      <td>0</td>\n",
       "      <td>...</td>\n",
       "      <td>0.0</td>\n",
       "      <td>0.0</td>\n",
       "      <td>1.0</td>\n",
       "      <td>0.0</td>\n",
       "      <td>0.0</td>\n",
       "      <td>0.0</td>\n",
       "      <td>0.0</td>\n",
       "      <td>0.0</td>\n",
       "      <td>0.0</td>\n",
       "      <td>0.0</td>\n",
       "    </tr>\n",
       "    <tr>\n",
       "      <th>4</th>\n",
       "      <td>CCOP(=S)(OCC)Oc1nc(Cl)c(Cl)cc1Cl</td>\n",
       "      <td>0.0</td>\n",
       "      <td>0.0</td>\n",
       "      <td>1.0</td>\n",
       "      <td>0.0</td>\n",
       "      <td>0.0</td>\n",
       "      <td>0.0</td>\n",
       "      <td>0.0</td>\n",
       "      <td>1.0</td>\n",
       "      <td>1</td>\n",
       "      <td>...</td>\n",
       "      <td>0.0</td>\n",
       "      <td>0.0</td>\n",
       "      <td>0.0</td>\n",
       "      <td>0.0</td>\n",
       "      <td>0.0</td>\n",
       "      <td>0.0</td>\n",
       "      <td>0.0</td>\n",
       "      <td>0.0</td>\n",
       "      <td>0.0</td>\n",
       "      <td>0.0</td>\n",
       "    </tr>\n",
       "    <tr>\n",
       "      <th>...</th>\n",
       "      <td>...</td>\n",
       "      <td>...</td>\n",
       "      <td>...</td>\n",
       "      <td>...</td>\n",
       "      <td>...</td>\n",
       "      <td>...</td>\n",
       "      <td>...</td>\n",
       "      <td>...</td>\n",
       "      <td>...</td>\n",
       "      <td>...</td>\n",
       "      <td>...</td>\n",
       "      <td>...</td>\n",
       "      <td>...</td>\n",
       "      <td>...</td>\n",
       "      <td>...</td>\n",
       "      <td>...</td>\n",
       "      <td>...</td>\n",
       "      <td>...</td>\n",
       "      <td>...</td>\n",
       "      <td>...</td>\n",
       "      <td>...</td>\n",
       "    </tr>\n",
       "    <tr>\n",
       "      <th>778</th>\n",
       "      <td>NC(=O)C(=O)NN=Cc1ccc([N+](=O)[O-])o1</td>\n",
       "      <td>0.0</td>\n",
       "      <td>0.0</td>\n",
       "      <td>0.0</td>\n",
       "      <td>0.0</td>\n",
       "      <td>0.0</td>\n",
       "      <td>0.0</td>\n",
       "      <td>0.0</td>\n",
       "      <td>0.0</td>\n",
       "      <td>0</td>\n",
       "      <td>...</td>\n",
       "      <td>0.0</td>\n",
       "      <td>0.0</td>\n",
       "      <td>2.0</td>\n",
       "      <td>0.0</td>\n",
       "      <td>0.0</td>\n",
       "      <td>0.0</td>\n",
       "      <td>0.0</td>\n",
       "      <td>0.0</td>\n",
       "      <td>0.0</td>\n",
       "      <td>0.0</td>\n",
       "    </tr>\n",
       "    <tr>\n",
       "      <th>779</th>\n",
       "      <td>CC(=O)OC[C@H]1O[C@@H](O)[C@H](OC(=O)c2ccccc2C(...</td>\n",
       "      <td>0.0</td>\n",
       "      <td>0.0</td>\n",
       "      <td>0.0</td>\n",
       "      <td>0.0</td>\n",
       "      <td>0.0</td>\n",
       "      <td>0.0</td>\n",
       "      <td>0.0</td>\n",
       "      <td>0.0</td>\n",
       "      <td>0</td>\n",
       "      <td>...</td>\n",
       "      <td>0.0</td>\n",
       "      <td>1.0</td>\n",
       "      <td>1.0</td>\n",
       "      <td>0.0</td>\n",
       "      <td>0.0</td>\n",
       "      <td>0.0</td>\n",
       "      <td>0.0</td>\n",
       "      <td>0.0</td>\n",
       "      <td>0.0</td>\n",
       "      <td>0.0</td>\n",
       "    </tr>\n",
       "    <tr>\n",
       "      <th>780</th>\n",
       "      <td>c1cc2ccc3ccc4ccc5cccc6c(c1)c2c3c4c56</td>\n",
       "      <td>0.0</td>\n",
       "      <td>1.0</td>\n",
       "      <td>0.0</td>\n",
       "      <td>0.0</td>\n",
       "      <td>0.0</td>\n",
       "      <td>0.0</td>\n",
       "      <td>0.0</td>\n",
       "      <td>1.0</td>\n",
       "      <td>1</td>\n",
       "      <td>...</td>\n",
       "      <td>0.0</td>\n",
       "      <td>0.0</td>\n",
       "      <td>2.0</td>\n",
       "      <td>0.0</td>\n",
       "      <td>0.0</td>\n",
       "      <td>0.0</td>\n",
       "      <td>0.0</td>\n",
       "      <td>1.0</td>\n",
       "      <td>1.0</td>\n",
       "      <td>1.0</td>\n",
       "    </tr>\n",
       "    <tr>\n",
       "      <th>781</th>\n",
       "      <td>O=Cc1ccccc1[N+](=O)[O-]</td>\n",
       "      <td>0.0</td>\n",
       "      <td>0.0</td>\n",
       "      <td>0.0</td>\n",
       "      <td>0.0</td>\n",
       "      <td>0.0</td>\n",
       "      <td>0.0</td>\n",
       "      <td>0.0</td>\n",
       "      <td>0.0</td>\n",
       "      <td>0</td>\n",
       "      <td>...</td>\n",
       "      <td>0.0</td>\n",
       "      <td>0.0</td>\n",
       "      <td>1.0</td>\n",
       "      <td>0.0</td>\n",
       "      <td>0.0</td>\n",
       "      <td>0.0</td>\n",
       "      <td>0.0</td>\n",
       "      <td>0.0</td>\n",
       "      <td>0.0</td>\n",
       "      <td>0.0</td>\n",
       "    </tr>\n",
       "    <tr>\n",
       "      <th>782</th>\n",
       "      <td>CC(C)C(Br)C(=O)NC(N)=O</td>\n",
       "      <td>0.0</td>\n",
       "      <td>0.0</td>\n",
       "      <td>0.0</td>\n",
       "      <td>0.0</td>\n",
       "      <td>0.0</td>\n",
       "      <td>0.0</td>\n",
       "      <td>0.0</td>\n",
       "      <td>0.0</td>\n",
       "      <td>0</td>\n",
       "      <td>...</td>\n",
       "      <td>0.0</td>\n",
       "      <td>0.0</td>\n",
       "      <td>1.0</td>\n",
       "      <td>0.0</td>\n",
       "      <td>0.0</td>\n",
       "      <td>0.0</td>\n",
       "      <td>0.0</td>\n",
       "      <td>0.0</td>\n",
       "      <td>0.0</td>\n",
       "      <td>0.0</td>\n",
       "    </tr>\n",
       "  </tbody>\n",
       "</table>\n",
       "<p>7831 rows × 47 columns</p>\n",
       "</div>"
      ],
      "text/plain": [
       "                                                   ids   y1   y2   y3   y4  \\\n",
       "0                           CCOC(=O)C(=O)c1csc(NC=O)n1  0.0  0.0  0.0  0.0   \n",
       "1    CN(CCOc1ccc(NS(C)(=O)=O)cc1)CCc1ccc(NS(C)(=O)=...  1.0  0.0  0.0  0.0   \n",
       "2                              CCCCCCCCCCCCCCCC(=O)OCC  0.0  0.0  0.0  0.0   \n",
       "3                                   O=c1oc2cc(O)ccc2s1  0.0  0.0  0.0  0.0   \n",
       "4                     CCOP(=S)(OCC)Oc1nc(Cl)c(Cl)cc1Cl  0.0  0.0  1.0  0.0   \n",
       "..                                                 ...  ...  ...  ...  ...   \n",
       "778               NC(=O)C(=O)NN=Cc1ccc([N+](=O)[O-])o1  0.0  0.0  0.0  0.0   \n",
       "779  CC(=O)OC[C@H]1O[C@@H](O)[C@H](OC(=O)c2ccccc2C(...  0.0  0.0  0.0  0.0   \n",
       "780               c1cc2ccc3ccc4ccc5cccc6c(c1)c2c3c4c56  0.0  1.0  0.0  0.0   \n",
       "781                            O=Cc1ccccc1[N+](=O)[O-]  0.0  0.0  0.0  0.0   \n",
       "782                             CC(C)C(Br)C(=O)NC(N)=O  0.0  0.0  0.0  0.0   \n",
       "\n",
       "      y5   y6   y7  tox  tox_bin  ...  imidazole  para_hydroxylation  benzene  \\\n",
       "0    0.0  0.0  0.0  0.0        0  ...        0.0                 0.0      0.0   \n",
       "1    0.0  0.0  0.0  1.0        1  ...        0.0                 0.0      2.0   \n",
       "2    0.0  0.0  0.0  0.0        0  ...        0.0                 0.0      0.0   \n",
       "3    0.0  0.0  0.0  0.0        0  ...        0.0                 0.0      1.0   \n",
       "4    0.0  0.0  0.0  1.0        1  ...        0.0                 0.0      0.0   \n",
       "..   ...  ...  ...  ...      ...  ...        ...                 ...      ...   \n",
       "778  0.0  0.0  0.0  0.0        0  ...        0.0                 0.0      2.0   \n",
       "779  0.0  0.0  0.0  0.0        0  ...        0.0                 1.0      1.0   \n",
       "780  0.0  0.0  0.0  1.0        1  ...        0.0                 0.0      2.0   \n",
       "781  0.0  0.0  0.0  0.0        0  ...        0.0                 0.0      1.0   \n",
       "782  0.0  0.0  0.0  0.0        0  ...        0.0                 0.0      1.0   \n",
       "\n",
       "     thiophene  hydrzine  phos_ester  phos_acid  pain  brenk  nih  \n",
       "0          0.0       0.0         0.0        0.0   0.0    0.0  0.0  \n",
       "1          0.0       0.0         0.0        0.0   0.0    0.0  0.0  \n",
       "2          0.0       0.0         0.0        0.0   0.0    0.0  0.0  \n",
       "3          0.0       0.0         0.0        0.0   0.0    0.0  0.0  \n",
       "4          0.0       0.0         0.0        0.0   0.0    0.0  0.0  \n",
       "..         ...       ...         ...        ...   ...    ...  ...  \n",
       "778        0.0       0.0         0.0        0.0   0.0    0.0  0.0  \n",
       "779        0.0       0.0         0.0        0.0   0.0    0.0  0.0  \n",
       "780        0.0       0.0         0.0        0.0   1.0    1.0  1.0  \n",
       "781        0.0       0.0         0.0        0.0   0.0    0.0  0.0  \n",
       "782        0.0       0.0         0.0        0.0   0.0    0.0  0.0  \n",
       "\n",
       "[7831 rows x 47 columns]"
      ]
     },
     "execution_count": 86,
     "metadata": {},
     "output_type": "execute_result"
    }
   ],
   "source": [
    "featurized = dataset\n",
    "\n",
    "from rdkit.Chem.FilterCatalog import FilterCatalog, FilterCatalogParams\n",
    "from rdkit.Chem import Descriptors as ds\n",
    "\n",
    "params_pains = FilterCatalogParams()\n",
    "params_pains.AddCatalog(FilterCatalogParams.FilterCatalogs.PAINS)\n",
    "pains = FilterCatalog(params_pains)\n",
    "\n",
    "params_brenk = FilterCatalogParams()\n",
    "params_brenk.AddCatalog(FilterCatalogParams.FilterCatalogs.BRENK)\n",
    "brenk = FilterCatalog(params_brenk)\n",
    "\n",
    "params_nih = FilterCatalogParams()\n",
    "params_nih.AddCatalog(FilterCatalogParams.FilterCatalogs.NIH)\n",
    "nih = FilterCatalog(params_nih)\n",
    "\n",
    "\n",
    "SMILES_strings = dataset['ids']\n",
    "mol = [Chem.MolFromSmiles(formula) for formula in SMILES_strings]\n",
    "\n",
    "for row in featurized.index:\n",
    "    molecule = mol[row]\n",
    "    for grp in toxic_grps.keys():\n",
    "        featurized.loc[row, grp] = toxic_grps[grp](molecule)\n",
    "    featurized.loc[row, 'pain'] = 1 if pains.HasMatch(molecule) else 0\n",
    "    featurized.loc[row, 'brenk'] = 1 if pains.HasMatch(molecule) else 0\n",
    "    featurized.loc[row, 'nih'] = 1 if pains.HasMatch(molecule) else 0\n",
    "\n",
    "\n",
    "\n",
    "\n",
    "featurized\n"
   ]
  },
  {
   "cell_type": "code",
   "execution_count": 87,
   "metadata": {},
   "outputs": [
    {
     "data": {
      "text/html": [
       "<div>\n",
       "<style scoped>\n",
       "    .dataframe tbody tr th:only-of-type {\n",
       "        vertical-align: middle;\n",
       "    }\n",
       "\n",
       "    .dataframe tbody tr th {\n",
       "        vertical-align: top;\n",
       "    }\n",
       "\n",
       "    .dataframe thead th {\n",
       "        text-align: right;\n",
       "    }\n",
       "</style>\n",
       "<table border=\"1\" class=\"dataframe\">\n",
       "  <thead>\n",
       "    <tr style=\"text-align: right;\">\n",
       "      <th></th>\n",
       "      <th>ids</th>\n",
       "      <th>y1</th>\n",
       "      <th>y2</th>\n",
       "      <th>y3</th>\n",
       "      <th>y4</th>\n",
       "      <th>y5</th>\n",
       "      <th>y6</th>\n",
       "      <th>y7</th>\n",
       "      <th>tox</th>\n",
       "      <th>tox_bin</th>\n",
       "      <th>...</th>\n",
       "      <th>phos_ester</th>\n",
       "      <th>phos_acid</th>\n",
       "      <th>pain</th>\n",
       "      <th>brenk</th>\n",
       "      <th>nih</th>\n",
       "      <th>molWt</th>\n",
       "      <th>het_atoms</th>\n",
       "      <th>aromatic_ring</th>\n",
       "      <th>halogens</th>\n",
       "      <th>heavy_atoms</th>\n",
       "    </tr>\n",
       "  </thead>\n",
       "  <tbody>\n",
       "    <tr>\n",
       "      <th>0</th>\n",
       "      <td>CCOC(=O)C(=O)c1csc(NC=O)n1</td>\n",
       "      <td>0.0</td>\n",
       "      <td>0.0</td>\n",
       "      <td>0.0</td>\n",
       "      <td>0.0</td>\n",
       "      <td>0.0</td>\n",
       "      <td>0.0</td>\n",
       "      <td>0.0</td>\n",
       "      <td>0.0</td>\n",
       "      <td>0</td>\n",
       "      <td>...</td>\n",
       "      <td>0.0</td>\n",
       "      <td>0.0</td>\n",
       "      <td>0.0</td>\n",
       "      <td>0.0</td>\n",
       "      <td>0.0</td>\n",
       "      <td>228.229</td>\n",
       "      <td>7</td>\n",
       "      <td>1</td>\n",
       "      <td>0</td>\n",
       "      <td>1</td>\n",
       "    </tr>\n",
       "    <tr>\n",
       "      <th>1</th>\n",
       "      <td>CN(CCOc1ccc(NS(C)(=O)=O)cc1)CCc1ccc(NS(C)(=O)=...</td>\n",
       "      <td>1.0</td>\n",
       "      <td>0.0</td>\n",
       "      <td>0.0</td>\n",
       "      <td>0.0</td>\n",
       "      <td>0.0</td>\n",
       "      <td>0.0</td>\n",
       "      <td>0.0</td>\n",
       "      <td>1.0</td>\n",
       "      <td>1</td>\n",
       "      <td>...</td>\n",
       "      <td>0.0</td>\n",
       "      <td>0.0</td>\n",
       "      <td>0.0</td>\n",
       "      <td>0.0</td>\n",
       "      <td>0.0</td>\n",
       "      <td>441.575</td>\n",
       "      <td>10</td>\n",
       "      <td>2</td>\n",
       "      <td>0</td>\n",
       "      <td>2</td>\n",
       "    </tr>\n",
       "    <tr>\n",
       "      <th>2</th>\n",
       "      <td>CCCCCCCCCCCCCCCC(=O)OCC</td>\n",
       "      <td>0.0</td>\n",
       "      <td>0.0</td>\n",
       "      <td>0.0</td>\n",
       "      <td>0.0</td>\n",
       "      <td>0.0</td>\n",
       "      <td>0.0</td>\n",
       "      <td>0.0</td>\n",
       "      <td>0.0</td>\n",
       "      <td>0</td>\n",
       "      <td>...</td>\n",
       "      <td>0.0</td>\n",
       "      <td>0.0</td>\n",
       "      <td>0.0</td>\n",
       "      <td>0.0</td>\n",
       "      <td>0.0</td>\n",
       "      <td>284.484</td>\n",
       "      <td>2</td>\n",
       "      <td>0</td>\n",
       "      <td>0</td>\n",
       "      <td>0</td>\n",
       "    </tr>\n",
       "    <tr>\n",
       "      <th>3</th>\n",
       "      <td>O=c1oc2cc(O)ccc2s1</td>\n",
       "      <td>0.0</td>\n",
       "      <td>0.0</td>\n",
       "      <td>0.0</td>\n",
       "      <td>0.0</td>\n",
       "      <td>0.0</td>\n",
       "      <td>0.0</td>\n",
       "      <td>0.0</td>\n",
       "      <td>0.0</td>\n",
       "      <td>0</td>\n",
       "      <td>...</td>\n",
       "      <td>0.0</td>\n",
       "      <td>0.0</td>\n",
       "      <td>0.0</td>\n",
       "      <td>0.0</td>\n",
       "      <td>0.0</td>\n",
       "      <td>168.173</td>\n",
       "      <td>4</td>\n",
       "      <td>2</td>\n",
       "      <td>0</td>\n",
       "      <td>1</td>\n",
       "    </tr>\n",
       "    <tr>\n",
       "      <th>4</th>\n",
       "      <td>CCOP(=S)(OCC)Oc1nc(Cl)c(Cl)cc1Cl</td>\n",
       "      <td>0.0</td>\n",
       "      <td>0.0</td>\n",
       "      <td>1.0</td>\n",
       "      <td>0.0</td>\n",
       "      <td>0.0</td>\n",
       "      <td>0.0</td>\n",
       "      <td>0.0</td>\n",
       "      <td>1.0</td>\n",
       "      <td>1</td>\n",
       "      <td>...</td>\n",
       "      <td>0.0</td>\n",
       "      <td>0.0</td>\n",
       "      <td>0.0</td>\n",
       "      <td>0.0</td>\n",
       "      <td>0.0</td>\n",
       "      <td>350.591</td>\n",
       "      <td>9</td>\n",
       "      <td>1</td>\n",
       "      <td>3</td>\n",
       "      <td>5</td>\n",
       "    </tr>\n",
       "    <tr>\n",
       "      <th>...</th>\n",
       "      <td>...</td>\n",
       "      <td>...</td>\n",
       "      <td>...</td>\n",
       "      <td>...</td>\n",
       "      <td>...</td>\n",
       "      <td>...</td>\n",
       "      <td>...</td>\n",
       "      <td>...</td>\n",
       "      <td>...</td>\n",
       "      <td>...</td>\n",
       "      <td>...</td>\n",
       "      <td>...</td>\n",
       "      <td>...</td>\n",
       "      <td>...</td>\n",
       "      <td>...</td>\n",
       "      <td>...</td>\n",
       "      <td>...</td>\n",
       "      <td>...</td>\n",
       "      <td>...</td>\n",
       "      <td>...</td>\n",
       "      <td>...</td>\n",
       "    </tr>\n",
       "    <tr>\n",
       "      <th>778</th>\n",
       "      <td>NC(=O)C(=O)NN=Cc1ccc([N+](=O)[O-])o1</td>\n",
       "      <td>0.0</td>\n",
       "      <td>0.0</td>\n",
       "      <td>0.0</td>\n",
       "      <td>0.0</td>\n",
       "      <td>0.0</td>\n",
       "      <td>0.0</td>\n",
       "      <td>0.0</td>\n",
       "      <td>0.0</td>\n",
       "      <td>0</td>\n",
       "      <td>...</td>\n",
       "      <td>0.0</td>\n",
       "      <td>0.0</td>\n",
       "      <td>0.0</td>\n",
       "      <td>0.0</td>\n",
       "      <td>0.0</td>\n",
       "      <td>226.148</td>\n",
       "      <td>9</td>\n",
       "      <td>1</td>\n",
       "      <td>0</td>\n",
       "      <td>0</td>\n",
       "    </tr>\n",
       "    <tr>\n",
       "      <th>779</th>\n",
       "      <td>CC(=O)OC[C@H]1O[C@@H](O)[C@H](OC(=O)c2ccccc2C(...</td>\n",
       "      <td>0.0</td>\n",
       "      <td>0.0</td>\n",
       "      <td>0.0</td>\n",
       "      <td>0.0</td>\n",
       "      <td>0.0</td>\n",
       "      <td>0.0</td>\n",
       "      <td>0.0</td>\n",
       "      <td>0.0</td>\n",
       "      <td>0</td>\n",
       "      <td>...</td>\n",
       "      <td>0.0</td>\n",
       "      <td>0.0</td>\n",
       "      <td>0.0</td>\n",
       "      <td>0.0</td>\n",
       "      <td>0.0</td>\n",
       "      <td>722.605</td>\n",
       "      <td>19</td>\n",
       "      <td>2</td>\n",
       "      <td>0</td>\n",
       "      <td>0</td>\n",
       "    </tr>\n",
       "    <tr>\n",
       "      <th>780</th>\n",
       "      <td>c1cc2ccc3ccc4ccc5cccc6c(c1)c2c3c4c56</td>\n",
       "      <td>0.0</td>\n",
       "      <td>1.0</td>\n",
       "      <td>0.0</td>\n",
       "      <td>0.0</td>\n",
       "      <td>0.0</td>\n",
       "      <td>0.0</td>\n",
       "      <td>0.0</td>\n",
       "      <td>1.0</td>\n",
       "      <td>1</td>\n",
       "      <td>...</td>\n",
       "      <td>0.0</td>\n",
       "      <td>0.0</td>\n",
       "      <td>1.0</td>\n",
       "      <td>1.0</td>\n",
       "      <td>1.0</td>\n",
       "      <td>276.338</td>\n",
       "      <td>0</td>\n",
       "      <td>6</td>\n",
       "      <td>0</td>\n",
       "      <td>0</td>\n",
       "    </tr>\n",
       "    <tr>\n",
       "      <th>781</th>\n",
       "      <td>O=Cc1ccccc1[N+](=O)[O-]</td>\n",
       "      <td>0.0</td>\n",
       "      <td>0.0</td>\n",
       "      <td>0.0</td>\n",
       "      <td>0.0</td>\n",
       "      <td>0.0</td>\n",
       "      <td>0.0</td>\n",
       "      <td>0.0</td>\n",
       "      <td>0.0</td>\n",
       "      <td>0</td>\n",
       "      <td>...</td>\n",
       "      <td>0.0</td>\n",
       "      <td>0.0</td>\n",
       "      <td>0.0</td>\n",
       "      <td>0.0</td>\n",
       "      <td>0.0</td>\n",
       "      <td>151.121</td>\n",
       "      <td>4</td>\n",
       "      <td>1</td>\n",
       "      <td>0</td>\n",
       "      <td>0</td>\n",
       "    </tr>\n",
       "    <tr>\n",
       "      <th>782</th>\n",
       "      <td>CC(C)C(Br)C(=O)NC(N)=O</td>\n",
       "      <td>0.0</td>\n",
       "      <td>0.0</td>\n",
       "      <td>0.0</td>\n",
       "      <td>0.0</td>\n",
       "      <td>0.0</td>\n",
       "      <td>0.0</td>\n",
       "      <td>0.0</td>\n",
       "      <td>0.0</td>\n",
       "      <td>0</td>\n",
       "      <td>...</td>\n",
       "      <td>0.0</td>\n",
       "      <td>0.0</td>\n",
       "      <td>0.0</td>\n",
       "      <td>0.0</td>\n",
       "      <td>0.0</td>\n",
       "      <td>223.070</td>\n",
       "      <td>5</td>\n",
       "      <td>0</td>\n",
       "      <td>1</td>\n",
       "      <td>1</td>\n",
       "    </tr>\n",
       "  </tbody>\n",
       "</table>\n",
       "<p>7831 rows × 52 columns</p>\n",
       "</div>"
      ],
      "text/plain": [
       "                                                   ids   y1   y2   y3   y4  \\\n",
       "0                           CCOC(=O)C(=O)c1csc(NC=O)n1  0.0  0.0  0.0  0.0   \n",
       "1    CN(CCOc1ccc(NS(C)(=O)=O)cc1)CCc1ccc(NS(C)(=O)=...  1.0  0.0  0.0  0.0   \n",
       "2                              CCCCCCCCCCCCCCCC(=O)OCC  0.0  0.0  0.0  0.0   \n",
       "3                                   O=c1oc2cc(O)ccc2s1  0.0  0.0  0.0  0.0   \n",
       "4                     CCOP(=S)(OCC)Oc1nc(Cl)c(Cl)cc1Cl  0.0  0.0  1.0  0.0   \n",
       "..                                                 ...  ...  ...  ...  ...   \n",
       "778               NC(=O)C(=O)NN=Cc1ccc([N+](=O)[O-])o1  0.0  0.0  0.0  0.0   \n",
       "779  CC(=O)OC[C@H]1O[C@@H](O)[C@H](OC(=O)c2ccccc2C(...  0.0  0.0  0.0  0.0   \n",
       "780               c1cc2ccc3ccc4ccc5cccc6c(c1)c2c3c4c56  0.0  1.0  0.0  0.0   \n",
       "781                            O=Cc1ccccc1[N+](=O)[O-]  0.0  0.0  0.0  0.0   \n",
       "782                             CC(C)C(Br)C(=O)NC(N)=O  0.0  0.0  0.0  0.0   \n",
       "\n",
       "      y5   y6   y7  tox  tox_bin  ...  phos_ester  phos_acid  pain  brenk  \\\n",
       "0    0.0  0.0  0.0  0.0        0  ...         0.0        0.0   0.0    0.0   \n",
       "1    0.0  0.0  0.0  1.0        1  ...         0.0        0.0   0.0    0.0   \n",
       "2    0.0  0.0  0.0  0.0        0  ...         0.0        0.0   0.0    0.0   \n",
       "3    0.0  0.0  0.0  0.0        0  ...         0.0        0.0   0.0    0.0   \n",
       "4    0.0  0.0  0.0  1.0        1  ...         0.0        0.0   0.0    0.0   \n",
       "..   ...  ...  ...  ...      ...  ...         ...        ...   ...    ...   \n",
       "778  0.0  0.0  0.0  0.0        0  ...         0.0        0.0   0.0    0.0   \n",
       "779  0.0  0.0  0.0  0.0        0  ...         0.0        0.0   0.0    0.0   \n",
       "780  0.0  0.0  0.0  1.0        1  ...         0.0        0.0   1.0    1.0   \n",
       "781  0.0  0.0  0.0  0.0        0  ...         0.0        0.0   0.0    0.0   \n",
       "782  0.0  0.0  0.0  0.0        0  ...         0.0        0.0   0.0    0.0   \n",
       "\n",
       "     nih    molWt  het_atoms  aromatic_ring  halogens  heavy_atoms  \n",
       "0    0.0  228.229          7              1         0            1  \n",
       "1    0.0  441.575         10              2         0            2  \n",
       "2    0.0  284.484          2              0         0            0  \n",
       "3    0.0  168.173          4              2         0            1  \n",
       "4    0.0  350.591          9              1         3            5  \n",
       "..   ...      ...        ...            ...       ...          ...  \n",
       "778  0.0  226.148          9              1         0            0  \n",
       "779  0.0  722.605         19              2         0            0  \n",
       "780  1.0  276.338          0              6         0            0  \n",
       "781  0.0  151.121          4              1         0            0  \n",
       "782  0.0  223.070          5              0         1            1  \n",
       "\n",
       "[7831 rows x 52 columns]"
      ]
     },
     "execution_count": 87,
     "metadata": {},
     "output_type": "execute_result"
    }
   ],
   "source": [
    "#Great, lets also add a few extra features such as halogens and heavy atoms (>=F)\n",
    "\n",
    "#This function will count the number of halogens:\n",
    "def halogen_count(molecule):\n",
    "    return fr.fr_halogen(molecule)\n",
    "\n",
    "def heavy_atom_count(molecule):\n",
    "    count = 0\n",
    "    for atom in molecule.GetAtoms():\n",
    "        if atom.GetAtomicNum() >= 9:\n",
    "            count += 1\n",
    "    return count\n",
    "\n",
    "\n",
    "halogens = [halogen_count(molecule) for molecule in mol]\n",
    "heaviest_atoms = [heavy_atom_count(molecule) for molecule in mol]\n",
    "molWt = [ds.MolWt(molecule) for molecule in mol]\n",
    "het_atoms = [ds.NumHeteroatoms(molecule) for molecule in mol]\n",
    "aromatic_ring = [ds.NumAromaticRings(molecule) for molecule in mol]\n",
    "\n",
    "\n",
    "featurized['molWt'] = molWt\n",
    "featurized['het_atoms'] = het_atoms\n",
    "featurized['aromatic_ring'] = aromatic_ring\n",
    "featurized['halogens'] = halogens\n",
    "featurized['heavy_atoms'] = heaviest_atoms\n",
    "\n",
    "featurized"
   ]
  },
  {
   "cell_type": "code",
   "execution_count": 88,
   "metadata": {},
   "outputs": [
    {
     "data": {
      "text/plain": [
       "<matplotlib.legend.Legend at 0x25235e0c320>"
      ]
     },
     "execution_count": 88,
     "metadata": {},
     "output_type": "execute_result"
    },
    {
     "data": {
      "image/png": "[encoded data removed]",
      "text/plain": [
       "<Figure size 640x480 with 1 Axes>"
      ]
     },
     "metadata": {},
     "output_type": "display_data"
    }
   ],
   "source": [
    "#We can also drop the 'y' columns\n",
    "\n",
    "#lets first drop our 'y' values\n",
    "featurized_dropped = featurized.drop(['y1', 'y2', 'y3', 'y4', 'y5', 'y6', 'y7'], axis=1)\n",
    "\n",
    "\n",
    "#Now lets do a test train split\n",
    "from sklearn.model_selection import train_test_split\n",
    "\n",
    "\n",
    "train, test = train_test_split(featurized_dropped, test_size=0.1)\n",
    "\n",
    "percent_toxic = len(train[train['tox'] == 1]) / len(train)\n",
    "percent_non_toxic = 1- percent_toxic\n",
    "\n",
    "\n",
    "#Lets plot the train_df as a stacked bar graph:\n",
    "ax=plt.bar('Toxicity',percent_toxic, label='Toxic')\n",
    "plt.bar('Toxicity',percent_non_toxic, bottom= percent_toxic, label='Non-Toxic')\n",
    "plt.xticks(rotation=-45, ha='left')\n",
    "plt.ylabel(\"Molecules %\")\n",
    "plt.legend()\n",
    "\n"
   ]
  },
  {
   "cell_type": "code",
   "execution_count": 89,
   "metadata": {},
   "outputs": [
    {
     "name": "stdout",
     "output_type": "stream",
     "text": [
      "1073\n",
      "5331\n"
     ]
    },
    {
     "data": {
      "text/html": [
       "<div>\n",
       "<style scoped>\n",
       "    .dataframe tbody tr th:only-of-type {\n",
       "        vertical-align: middle;\n",
       "    }\n",
       "\n",
       "    .dataframe tbody tr th {\n",
       "        vertical-align: top;\n",
       "    }\n",
       "\n",
       "    .dataframe thead th {\n",
       "        text-align: right;\n",
       "    }\n",
       "</style>\n",
       "<table border=\"1\" class=\"dataframe\">\n",
       "  <thead>\n",
       "    <tr style=\"text-align: right;\">\n",
       "      <th></th>\n",
       "      <th>ids</th>\n",
       "      <th>tox</th>\n",
       "      <th>tox_bin</th>\n",
       "      <th>isothiocyanate</th>\n",
       "      <th>C_S</th>\n",
       "      <th>dihydropyridine</th>\n",
       "      <th>nitro_arom</th>\n",
       "      <th>phenol_not_ortho</th>\n",
       "      <th>nitro_non_ortho</th>\n",
       "      <th>phenol</th>\n",
       "      <th>...</th>\n",
       "      <th>phos_ester</th>\n",
       "      <th>phos_acid</th>\n",
       "      <th>pain</th>\n",
       "      <th>brenk</th>\n",
       "      <th>nih</th>\n",
       "      <th>molWt</th>\n",
       "      <th>het_atoms</th>\n",
       "      <th>aromatic_ring</th>\n",
       "      <th>halogens</th>\n",
       "      <th>heavy_atoms</th>\n",
       "    </tr>\n",
       "  </thead>\n",
       "  <tbody>\n",
       "    <tr>\n",
       "      <th>5952</th>\n",
       "      <td>CCOP(=O)(OCC)Oc1ccc([N+](=O)[O-])cc1</td>\n",
       "      <td>1.0</td>\n",
       "      <td>1</td>\n",
       "      <td>0.0</td>\n",
       "      <td>0.0</td>\n",
       "      <td>0.0</td>\n",
       "      <td>1.0</td>\n",
       "      <td>0.0</td>\n",
       "      <td>1.0</td>\n",
       "      <td>0.0</td>\n",
       "      <td>...</td>\n",
       "      <td>1.0</td>\n",
       "      <td>1.0</td>\n",
       "      <td>0.0</td>\n",
       "      <td>0.0</td>\n",
       "      <td>0.0</td>\n",
       "      <td>275.197</td>\n",
       "      <td>8</td>\n",
       "      <td>1</td>\n",
       "      <td>0</td>\n",
       "      <td>1</td>\n",
       "    </tr>\n",
       "    <tr>\n",
       "      <th>6114</th>\n",
       "      <td>C[C@@H]1O[C@@H](OC[C@H]2O[C@@H](Oc3c(-c4ccc(O)...</td>\n",
       "      <td>1.0</td>\n",
       "      <td>1</td>\n",
       "      <td>0.0</td>\n",
       "      <td>0.0</td>\n",
       "      <td>0.0</td>\n",
       "      <td>0.0</td>\n",
       "      <td>4.0</td>\n",
       "      <td>0.0</td>\n",
       "      <td>4.0</td>\n",
       "      <td>...</td>\n",
       "      <td>0.0</td>\n",
       "      <td>0.0</td>\n",
       "      <td>1.0</td>\n",
       "      <td>1.0</td>\n",
       "      <td>1.0</td>\n",
       "      <td>610.521</td>\n",
       "      <td>16</td>\n",
       "      <td>3</td>\n",
       "      <td>0</td>\n",
       "      <td>0</td>\n",
       "    </tr>\n",
       "    <tr>\n",
       "      <th>3130</th>\n",
       "      <td>CCCCNC(=O)n1c(NC(=O)OC)nc2ccccc21</td>\n",
       "      <td>1.0</td>\n",
       "      <td>1</td>\n",
       "      <td>0.0</td>\n",
       "      <td>0.0</td>\n",
       "      <td>0.0</td>\n",
       "      <td>0.0</td>\n",
       "      <td>0.0</td>\n",
       "      <td>0.0</td>\n",
       "      <td>0.0</td>\n",
       "      <td>...</td>\n",
       "      <td>0.0</td>\n",
       "      <td>0.0</td>\n",
       "      <td>0.0</td>\n",
       "      <td>0.0</td>\n",
       "      <td>0.0</td>\n",
       "      <td>290.323</td>\n",
       "      <td>7</td>\n",
       "      <td>2</td>\n",
       "      <td>0</td>\n",
       "      <td>0</td>\n",
       "    </tr>\n",
       "    <tr>\n",
       "      <th>2491</th>\n",
       "      <td>COc1cc([C@@H]2c3cc4c(cc3C(O[C@@H]3O[C@@H]5CO[C...</td>\n",
       "      <td>1.0</td>\n",
       "      <td>1</td>\n",
       "      <td>0.0</td>\n",
       "      <td>0.0</td>\n",
       "      <td>0.0</td>\n",
       "      <td>0.0</td>\n",
       "      <td>0.0</td>\n",
       "      <td>0.0</td>\n",
       "      <td>0.0</td>\n",
       "      <td>...</td>\n",
       "      <td>1.0</td>\n",
       "      <td>1.0</td>\n",
       "      <td>0.0</td>\n",
       "      <td>0.0</td>\n",
       "      <td>0.0</td>\n",
       "      <td>668.541</td>\n",
       "      <td>17</td>\n",
       "      <td>2</td>\n",
       "      <td>0</td>\n",
       "      <td>1</td>\n",
       "    </tr>\n",
       "    <tr>\n",
       "      <th>1312</th>\n",
       "      <td>CCCCC(CC)COC(=O)c1ccc(C(=O)OCC(CC)CCCC)c(C(=O)...</td>\n",
       "      <td>1.0</td>\n",
       "      <td>1</td>\n",
       "      <td>0.0</td>\n",
       "      <td>0.0</td>\n",
       "      <td>0.0</td>\n",
       "      <td>0.0</td>\n",
       "      <td>0.0</td>\n",
       "      <td>0.0</td>\n",
       "      <td>0.0</td>\n",
       "      <td>...</td>\n",
       "      <td>0.0</td>\n",
       "      <td>0.0</td>\n",
       "      <td>0.0</td>\n",
       "      <td>0.0</td>\n",
       "      <td>0.0</td>\n",
       "      <td>546.789</td>\n",
       "      <td>6</td>\n",
       "      <td>1</td>\n",
       "      <td>0</td>\n",
       "      <td>0</td>\n",
       "    </tr>\n",
       "    <tr>\n",
       "      <th>...</th>\n",
       "      <td>...</td>\n",
       "      <td>...</td>\n",
       "      <td>...</td>\n",
       "      <td>...</td>\n",
       "      <td>...</td>\n",
       "      <td>...</td>\n",
       "      <td>...</td>\n",
       "      <td>...</td>\n",
       "      <td>...</td>\n",
       "      <td>...</td>\n",
       "      <td>...</td>\n",
       "      <td>...</td>\n",
       "      <td>...</td>\n",
       "      <td>...</td>\n",
       "      <td>...</td>\n",
       "      <td>...</td>\n",
       "      <td>...</td>\n",
       "      <td>...</td>\n",
       "      <td>...</td>\n",
       "      <td>...</td>\n",
       "      <td>...</td>\n",
       "    </tr>\n",
       "    <tr>\n",
       "      <th>1899</th>\n",
       "      <td>O=P(O)(Oc1ccccc1)Oc1ccccc1</td>\n",
       "      <td>0.0</td>\n",
       "      <td>0</td>\n",
       "      <td>0.0</td>\n",
       "      <td>0.0</td>\n",
       "      <td>0.0</td>\n",
       "      <td>0.0</td>\n",
       "      <td>0.0</td>\n",
       "      <td>0.0</td>\n",
       "      <td>0.0</td>\n",
       "      <td>...</td>\n",
       "      <td>1.0</td>\n",
       "      <td>1.0</td>\n",
       "      <td>0.0</td>\n",
       "      <td>0.0</td>\n",
       "      <td>0.0</td>\n",
       "      <td>250.190</td>\n",
       "      <td>5</td>\n",
       "      <td>2</td>\n",
       "      <td>0</td>\n",
       "      <td>1</td>\n",
       "    </tr>\n",
       "    <tr>\n",
       "      <th>2763</th>\n",
       "      <td>O=C1c2ccccc2C(=O)C1c1ccc(Cl)cc1</td>\n",
       "      <td>0.0</td>\n",
       "      <td>0</td>\n",
       "      <td>0.0</td>\n",
       "      <td>0.0</td>\n",
       "      <td>0.0</td>\n",
       "      <td>0.0</td>\n",
       "      <td>0.0</td>\n",
       "      <td>0.0</td>\n",
       "      <td>0.0</td>\n",
       "      <td>...</td>\n",
       "      <td>0.0</td>\n",
       "      <td>0.0</td>\n",
       "      <td>1.0</td>\n",
       "      <td>1.0</td>\n",
       "      <td>1.0</td>\n",
       "      <td>256.688</td>\n",
       "      <td>3</td>\n",
       "      <td>2</td>\n",
       "      <td>1</td>\n",
       "      <td>1</td>\n",
       "    </tr>\n",
       "    <tr>\n",
       "      <th>4538</th>\n",
       "      <td>Cc1ncc(CO)c(CN)c1O</td>\n",
       "      <td>0.0</td>\n",
       "      <td>0</td>\n",
       "      <td>0.0</td>\n",
       "      <td>0.0</td>\n",
       "      <td>0.0</td>\n",
       "      <td>0.0</td>\n",
       "      <td>0.0</td>\n",
       "      <td>0.0</td>\n",
       "      <td>0.0</td>\n",
       "      <td>...</td>\n",
       "      <td>0.0</td>\n",
       "      <td>0.0</td>\n",
       "      <td>0.0</td>\n",
       "      <td>0.0</td>\n",
       "      <td>0.0</td>\n",
       "      <td>168.196</td>\n",
       "      <td>4</td>\n",
       "      <td>1</td>\n",
       "      <td>0</td>\n",
       "      <td>0</td>\n",
       "    </tr>\n",
       "    <tr>\n",
       "      <th>4237</th>\n",
       "      <td>NC(=O)Cc1cccc(C(=O)c2ccccc2)c1N</td>\n",
       "      <td>0.0</td>\n",
       "      <td>0</td>\n",
       "      <td>0.0</td>\n",
       "      <td>0.0</td>\n",
       "      <td>0.0</td>\n",
       "      <td>0.0</td>\n",
       "      <td>0.0</td>\n",
       "      <td>0.0</td>\n",
       "      <td>0.0</td>\n",
       "      <td>...</td>\n",
       "      <td>0.0</td>\n",
       "      <td>0.0</td>\n",
       "      <td>1.0</td>\n",
       "      <td>1.0</td>\n",
       "      <td>1.0</td>\n",
       "      <td>254.289</td>\n",
       "      <td>4</td>\n",
       "      <td>2</td>\n",
       "      <td>0</td>\n",
       "      <td>0</td>\n",
       "    </tr>\n",
       "    <tr>\n",
       "      <th>1354</th>\n",
       "      <td>O=C(O)CCn1c2c(c3ccccc31)C[C@H](NS(=O)(=O)c1ccc...</td>\n",
       "      <td>0.0</td>\n",
       "      <td>0</td>\n",
       "      <td>0.0</td>\n",
       "      <td>0.0</td>\n",
       "      <td>0.0</td>\n",
       "      <td>0.0</td>\n",
       "      <td>0.0</td>\n",
       "      <td>0.0</td>\n",
       "      <td>0.0</td>\n",
       "      <td>...</td>\n",
       "      <td>0.0</td>\n",
       "      <td>0.0</td>\n",
       "      <td>1.0</td>\n",
       "      <td>1.0</td>\n",
       "      <td>1.0</td>\n",
       "      <td>416.474</td>\n",
       "      <td>8</td>\n",
       "      <td>3</td>\n",
       "      <td>1</td>\n",
       "      <td>2</td>\n",
       "    </tr>\n",
       "  </tbody>\n",
       "</table>\n",
       "<p>5884 rows × 45 columns</p>\n",
       "</div>"
      ],
      "text/plain": [
       "                                                    ids  tox  tox_bin  \\\n",
       "5952               CCOP(=O)(OCC)Oc1ccc([N+](=O)[O-])cc1  1.0        1   \n",
       "6114  C[C@@H]1O[C@@H](OC[C@H]2O[C@@H](Oc3c(-c4ccc(O)...  1.0        1   \n",
       "3130                  CCCCNC(=O)n1c(NC(=O)OC)nc2ccccc21  1.0        1   \n",
       "2491  COc1cc([C@@H]2c3cc4c(cc3C(O[C@@H]3O[C@@H]5CO[C...  1.0        1   \n",
       "1312  CCCCC(CC)COC(=O)c1ccc(C(=O)OCC(CC)CCCC)c(C(=O)...  1.0        1   \n",
       "...                                                 ...  ...      ...   \n",
       "1899                         O=P(O)(Oc1ccccc1)Oc1ccccc1  0.0        0   \n",
       "2763                    O=C1c2ccccc2C(=O)C1c1ccc(Cl)cc1  0.0        0   \n",
       "4538                                 Cc1ncc(CO)c(CN)c1O  0.0        0   \n",
       "4237                    NC(=O)Cc1cccc(C(=O)c2ccccc2)c1N  0.0        0   \n",
       "1354  O=C(O)CCn1c2c(c3ccccc31)C[C@H](NS(=O)(=O)c1ccc...  0.0        0   \n",
       "\n",
       "      isothiocyanate  C_S  dihydropyridine  nitro_arom  phenol_not_ortho  \\\n",
       "5952             0.0  0.0              0.0         1.0               0.0   \n",
       "6114             0.0  0.0              0.0         0.0               4.0   \n",
       "3130             0.0  0.0              0.0         0.0               0.0   \n",
       "2491             0.0  0.0              0.0         0.0               0.0   \n",
       "1312             0.0  0.0              0.0         0.0               0.0   \n",
       "...              ...  ...              ...         ...               ...   \n",
       "1899             0.0  0.0              0.0         0.0               0.0   \n",
       "2763             0.0  0.0              0.0         0.0               0.0   \n",
       "4538             0.0  0.0              0.0         0.0               0.0   \n",
       "4237             0.0  0.0              0.0         0.0               0.0   \n",
       "1354             0.0  0.0              0.0         0.0               0.0   \n",
       "\n",
       "      nitro_non_ortho  phenol  ...  phos_ester  phos_acid  pain  brenk  nih  \\\n",
       "5952              1.0     0.0  ...         1.0        1.0   0.0    0.0  0.0   \n",
       "6114              0.0     4.0  ...         0.0        0.0   1.0    1.0  1.0   \n",
       "3130              0.0     0.0  ...         0.0        0.0   0.0    0.0  0.0   \n",
       "2491              0.0     0.0  ...         1.0        1.0   0.0    0.0  0.0   \n",
       "1312              0.0     0.0  ...         0.0        0.0   0.0    0.0  0.0   \n",
       "...               ...     ...  ...         ...        ...   ...    ...  ...   \n",
       "1899              0.0     0.0  ...         1.0        1.0   0.0    0.0  0.0   \n",
       "2763              0.0     0.0  ...         0.0        0.0   1.0    1.0  1.0   \n",
       "4538              0.0     0.0  ...         0.0        0.0   0.0    0.0  0.0   \n",
       "4237              0.0     0.0  ...         0.0        0.0   1.0    1.0  1.0   \n",
       "1354              0.0     0.0  ...         0.0        0.0   1.0    1.0  1.0   \n",
       "\n",
       "        molWt  het_atoms  aromatic_ring  halogens  heavy_atoms  \n",
       "5952  275.197          8              1         0            1  \n",
       "6114  610.521         16              3         0            0  \n",
       "3130  290.323          7              2         0            0  \n",
       "2491  668.541         17              2         0            1  \n",
       "1312  546.789          6              1         0            0  \n",
       "...       ...        ...            ...       ...          ...  \n",
       "1899  250.190          5              2         0            1  \n",
       "2763  256.688          3              2         1            1  \n",
       "4538  168.196          4              1         0            0  \n",
       "4237  254.289          4              2         0            0  \n",
       "1354  416.474          8              3         1            2  \n",
       "\n",
       "[5884 rows x 45 columns]"
      ]
     },
     "execution_count": 89,
     "metadata": {},
     "output_type": "execute_result"
    }
   ],
   "source": [
    "#We have a heavily unbalanced dataset, lets fix that!\n",
    "\n",
    "print(len(train[train['tox'] == 1]))\n",
    "print(len(train[train['tox'] == 0]))\n",
    "\n",
    "from sklearn.utils import resample\n",
    "\n",
    "\n",
    "train_majority = train[train['tox'] == 0]\n",
    "train_minority = train[train['tox'] == 1]\n",
    "\n",
    "train_min_upsampled = resample(train_minority, \n",
    "                               replace=True, \n",
    "                               n_samples=int(len(train_majority)/2))\n",
    "\n",
    "train_max_downsampled = resample(train_majority, \n",
    "                                 replace=False, \n",
    "                                 n_samples=int(len(train_minority)*3))\n",
    "\n",
    "\n",
    "train_upsampled = pd.concat([train_min_upsampled, train_max_downsampled])\n",
    "train_upsampled"
   ]
  },
  {
   "cell_type": "code",
   "execution_count": 90,
   "metadata": {},
   "outputs": [
    {
     "data": {
      "text/plain": [
       "<matplotlib.legend.Legend at 0x25235dc8d30>"
      ]
     },
     "execution_count": 90,
     "metadata": {},
     "output_type": "execute_result"
    },
    {
     "data": {
      "image/png": "[encoded data removed]",
      "text/plain": [
       "<Figure size 640x480 with 1 Axes>"
      ]
     },
     "metadata": {},
     "output_type": "display_data"
    }
   ],
   "source": [
    "percent_toxic = len(train_upsampled[train_upsampled['tox'] == 1]) / len(train_upsampled)\n",
    "percent_non_toxic = 1- percent_toxic\n",
    "\n",
    "\n",
    "#Lets plot the train_df as a stacked bar graph:\n",
    "ax=plt.bar('Toxicity',percent_toxic, label='Toxic')\n",
    "plt.bar('Toxicity',percent_non_toxic, bottom= percent_toxic, label='Non-Toxic')\n",
    "plt.xticks(rotation=-45, ha='left')\n",
    "plt.ylabel(\"Molecules %\")\n",
    "plt.legend()"
   ]
  },
  {
   "cell_type": "code",
   "execution_count": 91,
   "metadata": {},
   "outputs": [
    {
     "data": {
      "text/html": [
       "<div>\n",
       "<style scoped>\n",
       "    .dataframe tbody tr th:only-of-type {\n",
       "        vertical-align: middle;\n",
       "    }\n",
       "\n",
       "    .dataframe tbody tr th {\n",
       "        vertical-align: top;\n",
       "    }\n",
       "\n",
       "    .dataframe thead th {\n",
       "        text-align: right;\n",
       "    }\n",
       "</style>\n",
       "<table border=\"1\" class=\"dataframe\">\n",
       "  <thead>\n",
       "    <tr style=\"text-align: right;\">\n",
       "      <th></th>\n",
       "      <th>isothiocyanate</th>\n",
       "      <th>C_S</th>\n",
       "      <th>dihydropyridine</th>\n",
       "      <th>nitro_arom</th>\n",
       "      <th>phenol_not_ortho</th>\n",
       "      <th>nitro_non_ortho</th>\n",
       "      <th>phenol</th>\n",
       "      <th>aromatic_OH</th>\n",
       "      <th>furan</th>\n",
       "      <th>terminal_acetylene</th>\n",
       "      <th>...</th>\n",
       "      <th>phos_ester</th>\n",
       "      <th>phos_acid</th>\n",
       "      <th>pain</th>\n",
       "      <th>brenk</th>\n",
       "      <th>nih</th>\n",
       "      <th>molWt</th>\n",
       "      <th>het_atoms</th>\n",
       "      <th>aromatic_ring</th>\n",
       "      <th>halogens</th>\n",
       "      <th>heavy_atoms</th>\n",
       "    </tr>\n",
       "  </thead>\n",
       "  <tbody>\n",
       "    <tr>\n",
       "      <th>5952</th>\n",
       "      <td>0.0</td>\n",
       "      <td>0.0</td>\n",
       "      <td>0.0</td>\n",
       "      <td>1.0</td>\n",
       "      <td>0.0</td>\n",
       "      <td>1.0</td>\n",
       "      <td>0.0</td>\n",
       "      <td>0.0</td>\n",
       "      <td>0.0</td>\n",
       "      <td>0.0</td>\n",
       "      <td>...</td>\n",
       "      <td>1.0</td>\n",
       "      <td>1.0</td>\n",
       "      <td>0.0</td>\n",
       "      <td>0.0</td>\n",
       "      <td>0.0</td>\n",
       "      <td>275.197</td>\n",
       "      <td>8</td>\n",
       "      <td>1</td>\n",
       "      <td>0</td>\n",
       "      <td>1</td>\n",
       "    </tr>\n",
       "    <tr>\n",
       "      <th>6114</th>\n",
       "      <td>0.0</td>\n",
       "      <td>0.0</td>\n",
       "      <td>0.0</td>\n",
       "      <td>0.0</td>\n",
       "      <td>4.0</td>\n",
       "      <td>0.0</td>\n",
       "      <td>4.0</td>\n",
       "      <td>4.0</td>\n",
       "      <td>0.0</td>\n",
       "      <td>0.0</td>\n",
       "      <td>...</td>\n",
       "      <td>0.0</td>\n",
       "      <td>0.0</td>\n",
       "      <td>1.0</td>\n",
       "      <td>1.0</td>\n",
       "      <td>1.0</td>\n",
       "      <td>610.521</td>\n",
       "      <td>16</td>\n",
       "      <td>3</td>\n",
       "      <td>0</td>\n",
       "      <td>0</td>\n",
       "    </tr>\n",
       "    <tr>\n",
       "      <th>3130</th>\n",
       "      <td>0.0</td>\n",
       "      <td>0.0</td>\n",
       "      <td>0.0</td>\n",
       "      <td>0.0</td>\n",
       "      <td>0.0</td>\n",
       "      <td>0.0</td>\n",
       "      <td>0.0</td>\n",
       "      <td>0.0</td>\n",
       "      <td>0.0</td>\n",
       "      <td>0.0</td>\n",
       "      <td>...</td>\n",
       "      <td>0.0</td>\n",
       "      <td>0.0</td>\n",
       "      <td>0.0</td>\n",
       "      <td>0.0</td>\n",
       "      <td>0.0</td>\n",
       "      <td>290.323</td>\n",
       "      <td>7</td>\n",
       "      <td>2</td>\n",
       "      <td>0</td>\n",
       "      <td>0</td>\n",
       "    </tr>\n",
       "    <tr>\n",
       "      <th>2491</th>\n",
       "      <td>0.0</td>\n",
       "      <td>0.0</td>\n",
       "      <td>0.0</td>\n",
       "      <td>0.0</td>\n",
       "      <td>0.0</td>\n",
       "      <td>0.0</td>\n",
       "      <td>0.0</td>\n",
       "      <td>0.0</td>\n",
       "      <td>0.0</td>\n",
       "      <td>0.0</td>\n",
       "      <td>...</td>\n",
       "      <td>1.0</td>\n",
       "      <td>1.0</td>\n",
       "      <td>0.0</td>\n",
       "      <td>0.0</td>\n",
       "      <td>0.0</td>\n",
       "      <td>668.541</td>\n",
       "      <td>17</td>\n",
       "      <td>2</td>\n",
       "      <td>0</td>\n",
       "      <td>1</td>\n",
       "    </tr>\n",
       "    <tr>\n",
       "      <th>1312</th>\n",
       "      <td>0.0</td>\n",
       "      <td>0.0</td>\n",
       "      <td>0.0</td>\n",
       "      <td>0.0</td>\n",
       "      <td>0.0</td>\n",
       "      <td>0.0</td>\n",
       "      <td>0.0</td>\n",
       "      <td>0.0</td>\n",
       "      <td>0.0</td>\n",
       "      <td>0.0</td>\n",
       "      <td>...</td>\n",
       "      <td>0.0</td>\n",
       "      <td>0.0</td>\n",
       "      <td>0.0</td>\n",
       "      <td>0.0</td>\n",
       "      <td>0.0</td>\n",
       "      <td>546.789</td>\n",
       "      <td>6</td>\n",
       "      <td>1</td>\n",
       "      <td>0</td>\n",
       "      <td>0</td>\n",
       "    </tr>\n",
       "    <tr>\n",
       "      <th>...</th>\n",
       "      <td>...</td>\n",
       "      <td>...</td>\n",
       "      <td>...</td>\n",
       "      <td>...</td>\n",
       "      <td>...</td>\n",
       "      <td>...</td>\n",
       "      <td>...</td>\n",
       "      <td>...</td>\n",
       "      <td>...</td>\n",
       "      <td>...</td>\n",
       "      <td>...</td>\n",
       "      <td>...</td>\n",
       "      <td>...</td>\n",
       "      <td>...</td>\n",
       "      <td>...</td>\n",
       "      <td>...</td>\n",
       "      <td>...</td>\n",
       "      <td>...</td>\n",
       "      <td>...</td>\n",
       "      <td>...</td>\n",
       "      <td>...</td>\n",
       "    </tr>\n",
       "    <tr>\n",
       "      <th>1899</th>\n",
       "      <td>0.0</td>\n",
       "      <td>0.0</td>\n",
       "      <td>0.0</td>\n",
       "      <td>0.0</td>\n",
       "      <td>0.0</td>\n",
       "      <td>0.0</td>\n",
       "      <td>0.0</td>\n",
       "      <td>0.0</td>\n",
       "      <td>0.0</td>\n",
       "      <td>0.0</td>\n",
       "      <td>...</td>\n",
       "      <td>1.0</td>\n",
       "      <td>1.0</td>\n",
       "      <td>0.0</td>\n",
       "      <td>0.0</td>\n",
       "      <td>0.0</td>\n",
       "      <td>250.190</td>\n",
       "      <td>5</td>\n",
       "      <td>2</td>\n",
       "      <td>0</td>\n",
       "      <td>1</td>\n",
       "    </tr>\n",
       "    <tr>\n",
       "      <th>2763</th>\n",
       "      <td>0.0</td>\n",
       "      <td>0.0</td>\n",
       "      <td>0.0</td>\n",
       "      <td>0.0</td>\n",
       "      <td>0.0</td>\n",
       "      <td>0.0</td>\n",
       "      <td>0.0</td>\n",
       "      <td>0.0</td>\n",
       "      <td>0.0</td>\n",
       "      <td>0.0</td>\n",
       "      <td>...</td>\n",
       "      <td>0.0</td>\n",
       "      <td>0.0</td>\n",
       "      <td>1.0</td>\n",
       "      <td>1.0</td>\n",
       "      <td>1.0</td>\n",
       "      <td>256.688</td>\n",
       "      <td>3</td>\n",
       "      <td>2</td>\n",
       "      <td>1</td>\n",
       "      <td>1</td>\n",
       "    </tr>\n",
       "    <tr>\n",
       "      <th>4538</th>\n",
       "      <td>0.0</td>\n",
       "      <td>0.0</td>\n",
       "      <td>0.0</td>\n",
       "      <td>0.0</td>\n",
       "      <td>0.0</td>\n",
       "      <td>0.0</td>\n",
       "      <td>0.0</td>\n",
       "      <td>1.0</td>\n",
       "      <td>0.0</td>\n",
       "      <td>0.0</td>\n",
       "      <td>...</td>\n",
       "      <td>0.0</td>\n",
       "      <td>0.0</td>\n",
       "      <td>0.0</td>\n",
       "      <td>0.0</td>\n",
       "      <td>0.0</td>\n",
       "      <td>168.196</td>\n",
       "      <td>4</td>\n",
       "      <td>1</td>\n",
       "      <td>0</td>\n",
       "      <td>0</td>\n",
       "    </tr>\n",
       "    <tr>\n",
       "      <th>4237</th>\n",
       "      <td>0.0</td>\n",
       "      <td>0.0</td>\n",
       "      <td>0.0</td>\n",
       "      <td>0.0</td>\n",
       "      <td>0.0</td>\n",
       "      <td>0.0</td>\n",
       "      <td>0.0</td>\n",
       "      <td>0.0</td>\n",
       "      <td>0.0</td>\n",
       "      <td>0.0</td>\n",
       "      <td>...</td>\n",
       "      <td>0.0</td>\n",
       "      <td>0.0</td>\n",
       "      <td>1.0</td>\n",
       "      <td>1.0</td>\n",
       "      <td>1.0</td>\n",
       "      <td>254.289</td>\n",
       "      <td>4</td>\n",
       "      <td>2</td>\n",
       "      <td>0</td>\n",
       "      <td>0</td>\n",
       "    </tr>\n",
       "    <tr>\n",
       "      <th>1354</th>\n",
       "      <td>0.0</td>\n",
       "      <td>0.0</td>\n",
       "      <td>0.0</td>\n",
       "      <td>0.0</td>\n",
       "      <td>0.0</td>\n",
       "      <td>0.0</td>\n",
       "      <td>0.0</td>\n",
       "      <td>0.0</td>\n",
       "      <td>0.0</td>\n",
       "      <td>0.0</td>\n",
       "      <td>...</td>\n",
       "      <td>0.0</td>\n",
       "      <td>0.0</td>\n",
       "      <td>1.0</td>\n",
       "      <td>1.0</td>\n",
       "      <td>1.0</td>\n",
       "      <td>416.474</td>\n",
       "      <td>8</td>\n",
       "      <td>3</td>\n",
       "      <td>1</td>\n",
       "      <td>2</td>\n",
       "    </tr>\n",
       "  </tbody>\n",
       "</table>\n",
       "<p>5884 rows × 42 columns</p>\n",
       "</div>"
      ],
      "text/plain": [
       "      isothiocyanate  C_S  dihydropyridine  nitro_arom  phenol_not_ortho  \\\n",
       "5952             0.0  0.0              0.0         1.0               0.0   \n",
       "6114             0.0  0.0              0.0         0.0               4.0   \n",
       "3130             0.0  0.0              0.0         0.0               0.0   \n",
       "2491             0.0  0.0              0.0         0.0               0.0   \n",
       "1312             0.0  0.0              0.0         0.0               0.0   \n",
       "...              ...  ...              ...         ...               ...   \n",
       "1899             0.0  0.0              0.0         0.0               0.0   \n",
       "2763             0.0  0.0              0.0         0.0               0.0   \n",
       "4538             0.0  0.0              0.0         0.0               0.0   \n",
       "4237             0.0  0.0              0.0         0.0               0.0   \n",
       "1354             0.0  0.0              0.0         0.0               0.0   \n",
       "\n",
       "      nitro_non_ortho  phenol  aromatic_OH  furan  terminal_acetylene  ...  \\\n",
       "5952              1.0     0.0          0.0    0.0                 0.0  ...   \n",
       "6114              0.0     4.0          4.0    0.0                 0.0  ...   \n",
       "3130              0.0     0.0          0.0    0.0                 0.0  ...   \n",
       "2491              0.0     0.0          0.0    0.0                 0.0  ...   \n",
       "1312              0.0     0.0          0.0    0.0                 0.0  ...   \n",
       "...               ...     ...          ...    ...                 ...  ...   \n",
       "1899              0.0     0.0          0.0    0.0                 0.0  ...   \n",
       "2763              0.0     0.0          0.0    0.0                 0.0  ...   \n",
       "4538              0.0     0.0          1.0    0.0                 0.0  ...   \n",
       "4237              0.0     0.0          0.0    0.0                 0.0  ...   \n",
       "1354              0.0     0.0          0.0    0.0                 0.0  ...   \n",
       "\n",
       "      phos_ester  phos_acid  pain  brenk  nih    molWt  het_atoms  \\\n",
       "5952         1.0        1.0   0.0    0.0  0.0  275.197          8   \n",
       "6114         0.0        0.0   1.0    1.0  1.0  610.521         16   \n",
       "3130         0.0        0.0   0.0    0.0  0.0  290.323          7   \n",
       "2491         1.0        1.0   0.0    0.0  0.0  668.541         17   \n",
       "1312         0.0        0.0   0.0    0.0  0.0  546.789          6   \n",
       "...          ...        ...   ...    ...  ...      ...        ...   \n",
       "1899         1.0        1.0   0.0    0.0  0.0  250.190          5   \n",
       "2763         0.0        0.0   1.0    1.0  1.0  256.688          3   \n",
       "4538         0.0        0.0   0.0    0.0  0.0  168.196          4   \n",
       "4237         0.0        0.0   1.0    1.0  1.0  254.289          4   \n",
       "1354         0.0        0.0   1.0    1.0  1.0  416.474          8   \n",
       "\n",
       "      aromatic_ring  halogens  heavy_atoms  \n",
       "5952              1         0            1  \n",
       "6114              3         0            0  \n",
       "3130              2         0            0  \n",
       "2491              2         0            1  \n",
       "1312              1         0            0  \n",
       "...             ...       ...          ...  \n",
       "1899              2         0            1  \n",
       "2763              2         1            1  \n",
       "4538              1         0            0  \n",
       "4237              2         0            0  \n",
       "1354              3         1            2  \n",
       "\n",
       "[5884 rows x 42 columns]"
      ]
     },
     "execution_count": 91,
     "metadata": {},
     "output_type": "execute_result"
    }
   ],
   "source": [
    "#Thats better, lets now split our data into X and y\n",
    "\n",
    "train_X = train_upsampled.drop(['ids'], axis=1).drop(['tox'], axis=1).drop(['tox_bin'], axis=1)\n",
    "train_y = train_upsampled['tox_bin']\n",
    "\n",
    "test_X = test.drop(['ids'], axis=1).drop(['tox'], axis=1).drop(['tox_bin'], axis=1)\n",
    "test_y = test['tox_bin']\n",
    "\n",
    "train_X"
   ]
  },
  {
   "cell_type": "code",
   "execution_count": 92,
   "metadata": {},
   "outputs": [
    {
     "data": {
      "text/plain": [
       "0    3219\n",
       "1    2665\n",
       "Name: tox_bin, dtype: int64"
      ]
     },
     "execution_count": 92,
     "metadata": {},
     "output_type": "execute_result"
    }
   ],
   "source": [
    "#Lets see how balanced the dataset is:\n",
    "train_y.value_counts()"
   ]
  },
  {
   "cell_type": "code",
   "execution_count": 93,
   "metadata": {},
   "outputs": [
    {
     "data": {
      "text/plain": [
       "SGDClassifier()"
      ]
     },
     "execution_count": 93,
     "metadata": {},
     "output_type": "execute_result"
    }
   ],
   "source": [
    "#Lets first train a simple SGD Classifier\n",
    "\n",
    "from sklearn.preprocessing import StandardScaler\n",
    "from sklearn.model_selection import cross_val_score\n",
    "from sklearn.linear_model import SGDClassifier\n",
    "\n",
    "#We should first scale our data\n",
    "scaler = StandardScaler()\n",
    "\n",
    "train_X = scaler.fit_transform(train_X)\n",
    "test_X = scaler.transform(test_X)\n",
    "\n",
    "sgd = SGDClassifier()\n",
    "sgd.fit(train_X, train_y)"
   ]
  },
  {
   "cell_type": "code",
   "execution_count": 94,
   "metadata": {},
   "outputs": [
    {
     "data": {
      "text/plain": [
       "array([0.68152866, 0.70700637, 0.7133758 , 0.65605096, 0.72435897])"
      ]
     },
     "execution_count": 94,
     "metadata": {},
     "output_type": "execute_result"
    }
   ],
   "source": [
    "cross_val_score(sgd, test_X, test_y, cv =5, scoring='accuracy')"
   ]
  },
  {
   "cell_type": "code",
   "execution_count": 95,
   "metadata": {},
   "outputs": [
    {
     "data": {
      "text/plain": [
       "array([0.75159236, 0.75159236, 0.75159236, 0.74522293, 0.75      ])"
      ]
     },
     "execution_count": 95,
     "metadata": {},
     "output_type": "execute_result"
    }
   ],
   "source": [
    "#Thats not too bad, lets compare it to a random classifier\n",
    "\n",
    "from sklearn.dummy import DummyClassifier\n",
    "\n",
    "dummy_clf = DummyClassifier()\n",
    "dummy_clf.fit(train_X, train_y)\n",
    "\n",
    "cross_val_score(dummy_clf, test_X, test_y, cv =5, scoring='accuracy')"
   ]
  },
  {
   "cell_type": "code",
   "execution_count": 96,
   "metadata": {},
   "outputs": [
    {
     "data": {
      "text/plain": [
       "<sklearn.metrics._plot.confusion_matrix.ConfusionMatrixDisplay at 0x25235dbd8d0>"
      ]
     },
     "execution_count": 96,
     "metadata": {},
     "output_type": "execute_result"
    },
    {
     "data": {
      "image/png": "[encoded data removed]",
      "text/plain": [
       "<Figure size 640x480 with 2 Axes>"
      ]
     },
     "metadata": {},
     "output_type": "display_data"
    }
   ],
   "source": [
    "#Lets look at our confusion matrix\n",
    "from sklearn.metrics import ConfusionMatrixDisplay\n",
    "from sklearn.metrics import confusion_matrix\n",
    "\n",
    "\n",
    "cm = confusion_matrix(test_y, sgd.predict(test_X))\n",
    "\n",
    "ConfusionMatrixDisplay(confusion_matrix=cm).plot()"
   ]
  },
  {
   "cell_type": "code",
   "execution_count": 97,
   "metadata": {},
   "outputs": [
    {
     "data": {
      "text/plain": [
       "<sklearn.metrics._plot.confusion_matrix.ConfusionMatrixDisplay at 0x2523774e080>"
      ]
     },
     "execution_count": 97,
     "metadata": {},
     "output_type": "execute_result"
    },
    {
     "data": {
      "image/png": "[encoded data removed]",
      "text/plain": [
       "<Figure size 640x480 with 2 Axes>"
      ]
     },
     "metadata": {},
     "output_type": "display_data"
    }
   ],
   "source": [
    "cm_dummy = confusion_matrix(test_y, dummy_clf.predict(test_X))\n",
    "\n",
    "ConfusionMatrixDisplay(confusion_matrix=cm_dummy).plot()"
   ]
  },
  {
   "cell_type": "code",
   "execution_count": 98,
   "metadata": {},
   "outputs": [
    {
     "data": {
      "text/plain": [
       "RandomForestClassifier()"
      ]
     },
     "execution_count": 98,
     "metadata": {},
     "output_type": "execute_result"
    }
   ],
   "source": [
    "#Hmm, these arent very good, lets train a random forest:\n",
    "\n",
    "from sklearn.ensemble import RandomForestClassifier\n",
    "\n",
    "rf_clf = RandomForestClassifier()\n",
    "\n",
    "rf_clf.fit(train_X, train_y)\n"
   ]
  },
  {
   "cell_type": "code",
   "execution_count": 99,
   "metadata": {},
   "outputs": [
    {
     "data": {
      "text/plain": [
       "array([0.72611465, 0.75796178, 0.76433121, 0.77070064, 0.74358974])"
      ]
     },
     "execution_count": 99,
     "metadata": {},
     "output_type": "execute_result"
    }
   ],
   "source": [
    "cross_val_score(rf_clf, test_X, test_y, cv =5, scoring='accuracy')"
   ]
  },
  {
   "cell_type": "code",
   "execution_count": 100,
   "metadata": {},
   "outputs": [
    {
     "name": "stdout",
     "output_type": "stream",
     "text": [
      "Model score: 0.32758620689655166\n"
     ]
    },
    {
     "data": {
      "text/plain": [
       "<sklearn.metrics._plot.confusion_matrix.ConfusionMatrixDisplay at 0x2523441e4e0>"
      ]
     },
     "execution_count": 100,
     "metadata": {},
     "output_type": "execute_result"
    },
    {
     "data": {
      "image/png": "[encoded data removed]",
      "text/plain": [
       "<Figure size 640x480 with 2 Axes>"
      ]
     },
     "metadata": {},
     "output_type": "display_data"
    }
   ],
   "source": [
    "from sklearn.metrics import f1_score\n",
    "predicted = rf_clf.predict(test_X)\n",
    "\n",
    "score = f1_score(test_y, predicted)\n",
    "cm = confusion_matrix(test_y, predicted)\n",
    "\n",
    "print(f'Model score: {score}')\n",
    "ConfusionMatrixDisplay(confusion_matrix=cm).plot()"
   ]
  },
  {
   "cell_type": "code",
   "execution_count": 101,
   "metadata": {},
   "outputs": [],
   "source": [
    "#Lets see if we can optimise this using GridSearchCV\n",
    "\n",
    "from sklearn.model_selection import GridSearchCV\n"
   ]
  },
  {
   "cell_type": "code",
   "execution_count": 102,
   "metadata": {},
   "outputs": [
    {
     "data": {
      "text/plain": [
       "GridSearchCV(estimator=RandomForestClassifier(max_features='log2'),\n",
       "             param_grid={'max_depth': [13, 14, 15, 16],\n",
       "                         'n_estimators': [350, 400, 450]})"
      ]
     },
     "execution_count": 102,
     "metadata": {},
     "output_type": "execute_result"
    }
   ],
   "source": [
    "\n",
    "rf_clf = RandomForestClassifier(criterion='gini', max_features='log2')\n",
    "\n",
    "grid = {\n",
    "    'n_estimators': [350,400,450],\n",
    "    'max_depth' : [13,14,15,16],\n",
    "}\n",
    "\n",
    "\n",
    "grid_search = GridSearchCV(estimator=rf_clf, param_grid=grid)\n",
    "\n",
    "grid_search.fit(train_X, train_y)"
   ]
  },
  {
   "cell_type": "code",
   "execution_count": 103,
   "metadata": {},
   "outputs": [
    {
     "data": {
      "text/plain": [
       "{'max_depth': 16, 'n_estimators': 400}"
      ]
     },
     "execution_count": 103,
     "metadata": {},
     "output_type": "execute_result"
    }
   ],
   "source": [
    "grid_search.best_params_"
   ]
  },
  {
   "cell_type": "code",
   "execution_count": 104,
   "metadata": {},
   "outputs": [
    {
     "data": {
      "text/plain": [
       "RandomForestClassifier(max_depth=16, n_estimators=400)"
      ]
     },
     "execution_count": 104,
     "metadata": {},
     "output_type": "execute_result"
    }
   ],
   "source": [
    "rf_clf = RandomForestClassifier(**grid_search.best_params_)\n",
    "rf_clf.fit(train_X, train_y)"
   ]
  },
  {
   "cell_type": "code",
   "execution_count": 105,
   "metadata": {},
   "outputs": [
    {
     "name": "stdout",
     "output_type": "stream",
     "text": [
      "f1 score: 0.42245989304812837\n"
     ]
    }
   ],
   "source": [
    "pred = rf_clf.predict(test_X)\n",
    "\n",
    "score = f1_score(test_y, pred)\n",
    "print(f'f1 score: {score}')"
   ]
  },
  {
   "cell_type": "code",
   "execution_count": 106,
   "metadata": {},
   "outputs": [
    {
     "data": {
      "text/plain": [
       "<sklearn.metrics._plot.confusion_matrix.ConfusionMatrixDisplay at 0x2523621f898>"
      ]
     },
     "execution_count": 106,
     "metadata": {},
     "output_type": "execute_result"
    },
    {
     "data": {
      "image/png": "[encoded data removed]",
      "text/plain": [
       "<Figure size 640x480 with 2 Axes>"
      ]
     },
     "metadata": {},
     "output_type": "display_data"
    }
   ],
   "source": [
    "cm = confusion_matrix(test_y, pred)\n",
    "ConfusionMatrixDisplay(confusion_matrix=cm).plot()"
   ]
  },
  {
   "cell_type": "code",
   "execution_count": 107,
   "metadata": {},
   "outputs": [
    {
     "data": {
      "text/plain": [
       "Text(0.5, 1.0, 'Precision Recall Curve')"
      ]
     },
     "execution_count": 107,
     "metadata": {},
     "output_type": "execute_result"
    },
    {
     "data": {
      "image/png": "[encoded data removed]",
      "text/plain": [
       "<Figure size 640x480 with 1 Axes>"
      ]
     },
     "metadata": {},
     "output_type": "display_data"
    }
   ],
   "source": [
    "from sklearn.metrics import precision_recall_curve\n",
    "\n",
    "precision, recall, _ = precision_recall_curve(test_y, pred)\n",
    "\n",
    "plt.plot(recall, precision, marker='.')\n",
    "plt.xlabel('Recall')\n",
    "plt.ylabel('Precision')\n",
    "plt.title('Precision Recall Curve')"
   ]
  },
  {
   "cell_type": "code",
   "execution_count": 108,
   "metadata": {},
   "outputs": [
    {
     "data": {
      "text/plain": [
       "<matplotlib.legend.Legend at 0x2523734ba58>"
      ]
     },
     "execution_count": 108,
     "metadata": {},
     "output_type": "execute_result"
    },
    {
     "data": {
      "image/png": "[encoded data removed]",
      "text/plain": [
       "<Figure size 640x480 with 1 Axes>"
      ]
     },
     "metadata": {},
     "output_type": "display_data"
    }
   ],
   "source": [
    "from sklearn.metrics import roc_curve, auc\n",
    "\n",
    "fpr, tpr, thresholds = roc_curve(test_y, pred)\n",
    "\n",
    "roc = auc(fpr, tpr)\n",
    "\n",
    "plt.plot(fpr, tpr, label='ROC curve (area = %0.2f)' % roc)\n",
    "plt.plot([0, 1], [0, 1], linestyle='--', label='Random Classifier')\n",
    "plt.xlabel('False Positive Rate')\n",
    "plt.ylabel('True Positive Rate')\n",
    "plt.title('Receiver Operating Characteristic')\n",
    "plt.legend()"
   ]
  },
  {
   "cell_type": "code",
   "execution_count": 109,
   "metadata": {},
   "outputs": [
    {
     "name": "stdout",
     "output_type": "stream",
     "text": [
      "f1 score: 0.4084507042253521\n"
     ]
    }
   ],
   "source": [
    "from sklearn.svm import SVC\n",
    "\n",
    "#Lets train an SVC classifier\n",
    "svc_clf = SVC(probability=True)\n",
    "svc_clf.fit(train_X, train_y)\n",
    "\n",
    "y_pred = svc_clf.predict(test_X)\n",
    "score = f1_score(test_y, y_pred)\n",
    "print(f'f1 score: {score}')"
   ]
  },
  {
   "cell_type": "code",
   "execution_count": 110,
   "metadata": {},
   "outputs": [
    {
     "data": {
      "text/plain": [
       "<sklearn.metrics._plot.confusion_matrix.ConfusionMatrixDisplay at 0x2523605fda0>"
      ]
     },
     "execution_count": 110,
     "metadata": {},
     "output_type": "execute_result"
    },
    {
     "data": {
      "image/png": "[encoded data removed]",
      "text/plain": [
       "<Figure size 640x480 with 2 Axes>"
      ]
     },
     "metadata": {},
     "output_type": "display_data"
    }
   ],
   "source": [
    "#This isn't too bad, lets look at the confusion matrix\n",
    "\n",
    "cm = confusion_matrix(test_y, y_pred)\n",
    "ConfusionMatrixDisplay(confusion_matrix=cm).plot()"
   ]
  },
  {
   "cell_type": "code",
   "execution_count": 111,
   "metadata": {},
   "outputs": [
    {
     "name": "stdout",
     "output_type": "stream",
     "text": [
      "f1 score: 0.4065040650406504\n"
     ]
    }
   ],
   "source": [
    "#We can see the biggest error is from false positives which isn't too bad for us\n",
    "#We can set this threshold ourselves to reduce the false negatives even further:\n",
    "\n",
    "class_probability = svc_clf.predict_proba(test_X)\n",
    "\n",
    "threshold = 0.45\n",
    "y_pred = np.where(class_probability[:,1] > threshold, 1, 0)\n",
    "score = f1_score(test_y, y_pred)\n",
    "print(f'f1 score: {score}')"
   ]
  },
  {
   "cell_type": "code",
   "execution_count": 112,
   "metadata": {},
   "outputs": [
    {
     "data": {
      "text/plain": [
       "<sklearn.metrics._plot.confusion_matrix.ConfusionMatrixDisplay at 0x252379ae198>"
      ]
     },
     "execution_count": 112,
     "metadata": {},
     "output_type": "execute_result"
    },
    {
     "data": {
      "image/png": "[encoded data removed]",
      "text/plain": [
       "<Figure size 640x480 with 2 Axes>"
      ]
     },
     "metadata": {},
     "output_type": "display_data"
    }
   ],
   "source": [
    "cm = confusion_matrix(test_y, y_pred)\n",
    "ConfusionMatrixDisplay(confusion_matrix=cm).plot()"
   ]
  },
  {
   "cell_type": "code",
   "execution_count": 113,
   "metadata": {},
   "outputs": [],
   "source": [
    "#As you can see we have decreased the number of false negatives but \n",
    "#increased the number of false positives. Setting the threshold is a balanci9ng act"
   ]
  },
  {
   "cell_type": "code",
   "execution_count": 114,
   "metadata": {},
   "outputs": [
    {
     "data": {
      "text/plain": [
       "KNeighborsClassifier()"
      ]
     },
     "execution_count": 114,
     "metadata": {},
     "output_type": "execute_result"
    }
   ],
   "source": [
    "#Lets try another classifier:\n",
    "#K nearest neighbors:\n",
    "\n",
    "from sklearn.neighbors import KNeighborsClassifier\n",
    "\n",
    "knn = KNeighborsClassifier()\n",
    "knn.fit(train_X, train_y)"
   ]
  },
  {
   "cell_type": "code",
   "execution_count": 115,
   "metadata": {},
   "outputs": [
    {
     "name": "stdout",
     "output_type": "stream",
     "text": [
      "f1 score: 0.3898635477582846\n"
     ]
    }
   ],
   "source": [
    "y_pred = knn.predict(test_X)\n",
    "\n",
    "score = f1_score(test_y, y_pred)\n",
    "print(f'f1 score: {score}')"
   ]
  },
  {
   "cell_type": "code",
   "execution_count": 116,
   "metadata": {},
   "outputs": [
    {
     "data": {
      "text/plain": [
       "GridSearchCV(cv=5, estimator=KNeighborsClassifier(),\n",
       "             param_grid={'metric': ['euclidean', 'manhattan'],\n",
       "                         'n_neighbors': [3, 5, 7],\n",
       "                         'weights': ['uniform', 'distance']})"
      ]
     },
     "execution_count": 116,
     "metadata": {},
     "output_type": "execute_result"
    }
   ],
   "source": [
    "#Lets do another grid search:\n",
    "\n",
    "grid = {\n",
    "    'n_neighbors': [3, 5, 7],\n",
    "    'metric': ['euclidean', 'manhattan'],\n",
    "    'weights': ['uniform', 'distance']\n",
    "}\n",
    "\n",
    "grid_clf = GridSearchCV(knn, grid, cv=5)\n",
    "grid_clf.fit(train_X, train_y)"
   ]
  },
  {
   "cell_type": "code",
   "execution_count": 117,
   "metadata": {},
   "outputs": [
    {
     "data": {
      "text/plain": [
       "KNeighborsClassifier(metric='manhattan', n_neighbors=3, weights='distance')"
      ]
     },
     "execution_count": 117,
     "metadata": {},
     "output_type": "execute_result"
    }
   ],
   "source": [
    "grid_clf.best_estimator_"
   ]
  },
  {
   "cell_type": "code",
   "execution_count": 118,
   "metadata": {},
   "outputs": [
    {
     "name": "stdout",
     "output_type": "stream",
     "text": [
      "f1 score: 0.3856502242152466\n"
     ]
    }
   ],
   "source": [
    "best_knn = grid_clf.best_estimator_\n",
    "\n",
    "y_pred = best_knn.predict(test_X)\n",
    "\n",
    "score = f1_score(test_y, y_pred)\n",
    "print(f'f1 score: {score}')"
   ]
  },
  {
   "cell_type": "code",
   "execution_count": 119,
   "metadata": {},
   "outputs": [
    {
     "data": {
      "text/plain": [
       "<sklearn.metrics._plot.confusion_matrix.ConfusionMatrixDisplay at 0x25237472c50>"
      ]
     },
     "execution_count": 119,
     "metadata": {},
     "output_type": "execute_result"
    },
    {
     "data": {
      "image/png": "[encoded data removed]",
      "text/plain": [
       "<Figure size 640x480 with 2 Axes>"
      ]
     },
     "metadata": {},
     "output_type": "display_data"
    }
   ],
   "source": [
    "cm = confusion_matrix(test_y, y_pred)\n",
    "ConfusionMatrixDisplay(confusion_matrix=cm).plot()"
   ]
  },
  {
   "cell_type": "code",
   "execution_count": 120,
   "metadata": {},
   "outputs": [
    {
     "data": {
      "text/plain": [
       "GaussianNB()"
      ]
     },
     "execution_count": 120,
     "metadata": {},
     "output_type": "execute_result"
    }
   ],
   "source": [
    "from sklearn.naive_bayes import GaussianNB\n",
    "\n",
    "nb_clf = GaussianNB()\n",
    "\n",
    "nb_clf.fit(train_X, train_y)"
   ]
  },
  {
   "cell_type": "code",
   "execution_count": 121,
   "metadata": {},
   "outputs": [
    {
     "name": "stdout",
     "output_type": "stream",
     "text": [
      "f1 score: 0.35492957746478876\n"
     ]
    }
   ],
   "source": [
    "y_pred = nb_clf.predict(test_X)\n",
    "\n",
    "score = f1_score(test_y, y_pred)\n",
    "print(f'f1 score: {score}')"
   ]
  },
  {
   "cell_type": "code",
   "execution_count": 122,
   "metadata": {},
   "outputs": [
    {
     "data": {
      "text/plain": [
       "<sklearn.metrics._plot.confusion_matrix.ConfusionMatrixDisplay at 0x252361b1c88>"
      ]
     },
     "execution_count": 122,
     "metadata": {},
     "output_type": "execute_result"
    },
    {
     "data": {
      "image/png": "[encoded data removed]",
      "text/plain": [
       "<Figure size 640x480 with 2 Axes>"
      ]
     },
     "metadata": {},
     "output_type": "display_data"
    }
   ],
   "source": [
    "cm = confusion_matrix(test_y, y_pred)\n",
    "ConfusionMatrixDisplay(confusion_matrix=cm).plot()"
   ]
  },
  {
   "cell_type": "code",
   "execution_count": 123,
   "metadata": {},
   "outputs": [
    {
     "data": {
      "text/plain": [
       "VotingClassifier(estimators=[('lr', LogisticRegression()),\n",
       "                             ('dt', DecisionTreeClassifier()),\n",
       "                             ('nb', GaussianNB()),\n",
       "                             ('knn', KNeighborsClassifier()), ('svc', SVC()),\n",
       "                             ('rf',\n",
       "                              RandomForestClassifier(max_depth=16,\n",
       "                                                     n_estimators=400))])"
      ]
     },
     "execution_count": 123,
     "metadata": {},
     "output_type": "execute_result"
    }
   ],
   "source": [
    "#Now lets try to ensemble them all together!\n",
    "\n",
    "from sklearn.ensemble import VotingClassifier\n",
    "from sklearn.linear_model import LogisticRegression\n",
    "from sklearn.tree import DecisionTreeClassifier\n",
    "\n",
    "\n",
    "clf1 = LogisticRegression()\n",
    "clf2 = DecisionTreeClassifier()\n",
    "clf3 = GaussianNB()\n",
    "clf4 = KNeighborsClassifier()\n",
    "clf5 = SVC()\n",
    "clf6 = rf_clf\n",
    "\n",
    "ensemble = VotingClassifier(\n",
    "    estimators=[('lr', clf1), \n",
    "                ('dt', clf2), \n",
    "                ('nb', clf3), \n",
    "                ('knn', clf4), \n",
    "                ('svc', clf5), \n",
    "                ('rf', clf6)], voting='hard')\n",
    "\n",
    "ensemble.fit(train_X, train_y)"
   ]
  },
  {
   "cell_type": "code",
   "execution_count": 124,
   "metadata": {},
   "outputs": [
    {
     "name": "stdout",
     "output_type": "stream",
     "text": [
      "f1 score: 0.3932584269662921 \n",
      " accuracy score: 0.7244897959183674\n"
     ]
    }
   ],
   "source": [
    "from sklearn.metrics import accuracy_score\n",
    "\n",
    "y_pred = ensemble.predict(test_X)\n",
    "\n",
    "acc = accuracy_score(test_y, y_pred)\n",
    "score = f1_score(test_y, y_pred)\n",
    "print(f'f1 score: {score} \\n accuracy score: {acc}')\n"
   ]
  },
  {
   "cell_type": "code",
   "execution_count": 125,
   "metadata": {},
   "outputs": [
    {
     "data": {
      "text/plain": [
       "<sklearn.metrics._plot.confusion_matrix.ConfusionMatrixDisplay at 0x2523760a198>"
      ]
     },
     "execution_count": 125,
     "metadata": {},
     "output_type": "execute_result"
    },
    {
     "data": {
      "image/png": "[encoded data removed]",
      "text/plain": [
       "<Figure size 640x480 with 2 Axes>"
      ]
     },
     "metadata": {},
     "output_type": "display_data"
    }
   ],
   "source": [
    "cm = confusion_matrix(test_y, y_pred)\n",
    "ConfusionMatrixDisplay(confusion_matrix=cm).plot()"
   ]
  },
  {
   "cell_type": "code",
   "execution_count": 126,
   "metadata": {},
   "outputs": [
    {
     "data": {
      "text/plain": [
       "MLPClassifier(hidden_layer_sizes=(500, 100, 50), max_iter=100)"
      ]
     },
     "execution_count": 126,
     "metadata": {},
     "output_type": "execute_result"
    }
   ],
   "source": [
    "# Lets make a neural network\n",
    "\n",
    "from sklearn.neural_network import MLPClassifier\n",
    "\n",
    "mlp = MLPClassifier(hidden_layer_sizes=(500,100, 50), max_iter=100, activation='relu', solver='adam')\n",
    "\n",
    "mlp.fit(train_X, train_y)"
   ]
  },
  {
   "cell_type": "code",
   "execution_count": 127,
   "metadata": {},
   "outputs": [
    {
     "name": "stdout",
     "output_type": "stream",
     "text": [
      "f1 score: 0.3850267379679144\n"
     ]
    },
    {
     "data": {
      "text/plain": [
       "<sklearn.metrics._plot.confusion_matrix.ConfusionMatrixDisplay at 0x252379ae080>"
      ]
     },
     "execution_count": 127,
     "metadata": {},
     "output_type": "execute_result"
    },
    {
     "data": {
      "image/png": "[encoded data removed]",
      "text/plain": [
       "<Figure size 640x480 with 2 Axes>"
      ]
     },
     "metadata": {},
     "output_type": "display_data"
    }
   ],
   "source": [
    "y_pred = mlp.predict(test_X)\n",
    "\n",
    "score = f1_score(test_y, y_pred)\n",
    "print(f'f1 score: {score}')\n",
    "\n",
    "cm = confusion_matrix(test_y, y_pred)\n",
    "ConfusionMatrixDisplay(confusion_matrix=cm).plot()"
   ]
  },
  {
   "cell_type": "code",
   "execution_count": 128,
   "metadata": {},
   "outputs": [],
   "source": [
    "\n",
    "\n",
    "keras_model = tf.keras.Sequential([\n",
    "    tf.keras.layers.Dense(1000, activation='relu'),\n",
    "    tf.keras.layers.BatchNormalization(),\n",
    "    tf.keras.layers.Dropout(0.7),\n",
    "    tf.keras.layers.Dense(300, activation='relu'),\n",
    "    tf.keras.layers.BatchNormalization(),\n",
    "    tf.keras.layers.Dropout(0.7),\n",
    "    tf.keras.layers.Dense(50, activation='relu'),\n",
    "    tf.keras.layers.BatchNormalization(),\n",
    "    tf.keras.layers.Dropout(0.5),\n",
    "    tf.keras.layers.Dense(1, activation='sigmoid'),\n",
    "])"
   ]
  },
  {
   "cell_type": "code",
   "execution_count": 129,
   "metadata": {},
   "outputs": [
    {
     "name": "stdout",
     "output_type": "stream",
     "text": [
      "Epoch 1/200\n",
      "WARNING:tensorflow:Layer dense_12 is casting an input tensor from dtype float64 to the layer's dtype of float32, which is new behavior in TensorFlow 2.  The layer has dtype float32 because its dtype defaults to floatx.\n",
      "\n",
      "If you intended to run this layer in float32, you can safely ignore this warning. If in doubt, this warning is likely only an issue if you are porting a TensorFlow 1.X model to TensorFlow 2.\n",
      "\n",
      "To change all layers to have dtype float64 by default, call `tf.keras.backend.set_floatx('float64')`. To change just this layer, pass dtype='float64' to the layer constructor. If you are the author of this layer, you can disable autocasting by passing autocast=False to the base Layer constructor.\n",
      "\n"
     ]
    },
    {
     "name": "stdout",
     "output_type": "stream",
     "text": [
      "182/184 [============================>.] - ETA: 0s - loss: 0.7192 - accuracy: 0.5666 - recall_1: 0.4441 - precision_1: 0.5253WARNING:tensorflow:Callbacks method `on_test_batch_end` is slow compared to the batch time (batch time: 0.0000s vs `on_test_batch_end` time: 0.0010s). Check your callbacks.\n",
      "184/184 [==============================] - 1s 6ms/step - loss: 0.7183 - accuracy: 0.5666 - recall_1: 0.4435 - precision_1: 0.5256 - val_loss: 0.6702 - val_accuracy: 0.6262 - val_recall_1: 0.6112 - val_precision_1: 0.5850\n",
      "Epoch 2/200\n",
      "184/184 [==============================] - 1s 4ms/step - loss: 0.6949 - accuracy: 0.5680 - recall_1: 0.4477 - precision_1: 0.5272 - val_loss: 0.7585 - val_accuracy: 0.6109 - val_recall_1: 0.3551 - val_precision_1: 0.6271\n",
      "Epoch 3/200\n",
      "184/184 [==============================] - 1s 5ms/step - loss: 0.7065 - accuracy: 0.5707 - recall_1: 0.4574 - precision_1: 0.5302 - val_loss: 0.6652 - val_accuracy: 0.5514 - val_recall_1: 0.0598 - val_precision_1: 0.5614\n",
      "Epoch 4/200\n",
      "184/184 [==============================] - 1s 4ms/step - loss: 0.6963 - accuracy: 0.5753 - recall_1: 0.4739 - precision_1: 0.5352 - val_loss: 0.6514 - val_accuracy: 0.5939 - val_recall_1: 0.2280 - val_precision_1: 0.6524\n",
      "Epoch 5/200\n",
      "184/184 [==============================] - 1s 4ms/step - loss: 0.7026 - accuracy: 0.5749 - recall_1: 0.4720 - precision_1: 0.5349 - val_loss: 0.6298 - val_accuracy: 0.6440 - val_recall_1: 0.7682 - val_precision_1: 0.5822\n",
      "Epoch 6/200\n",
      "184/184 [==============================] - 1s 5ms/step - loss: 0.6918 - accuracy: 0.5816 - recall_1: 0.4784 - precision_1: 0.5432 - val_loss: 0.6276 - val_accuracy: 0.6551 - val_recall_1: 0.5308 - val_precision_1: 0.6469\n",
      "Epoch 7/200\n",
      "184/184 [==============================] - 1s 4ms/step - loss: 0.6954 - accuracy: 0.5862 - recall_1: 0.4574 - precision_1: 0.5521 - val_loss: 0.6264 - val_accuracy: 0.6551 - val_recall_1: 0.6617 - val_precision_1: 0.6114\n",
      "Epoch 8/200\n",
      "184/184 [==============================] - 1s 4ms/step - loss: 0.6919 - accuracy: 0.5928 - recall_1: 0.5141 - precision_1: 0.5544 - val_loss: 0.6310 - val_accuracy: 0.6500 - val_recall_1: 0.6916 - val_precision_1: 0.5997\n",
      "Epoch 9/200\n",
      "184/184 [==============================] - 1s 4ms/step - loss: 0.6929 - accuracy: 0.5862 - recall_1: 0.4743 - precision_1: 0.5500 - val_loss: 0.6421 - val_accuracy: 0.6330 - val_recall_1: 0.8187 - val_precision_1: 0.5666\n",
      "Epoch 10/200\n",
      "184/184 [==============================] - 1s 5ms/step - loss: 0.6907 - accuracy: 0.5857 - recall_1: 0.4694 - precision_1: 0.5499 - val_loss: 0.6273 - val_accuracy: 0.6449 - val_recall_1: 0.8000 - val_precision_1: 0.5792\n",
      "Epoch 11/200\n",
      "184/184 [==============================] - 1s 4ms/step - loss: 0.6850 - accuracy: 0.5953 - recall_1: 0.5114 - precision_1: 0.5581 - val_loss: 0.6536 - val_accuracy: 0.6483 - val_recall_1: 0.7888 - val_precision_1: 0.5837\n",
      "Epoch 12/200\n",
      "184/184 [==============================] - 1s 4ms/step - loss: 0.7036 - accuracy: 0.5904 - recall_1: 0.4998 - precision_1: 0.5529 - val_loss: 0.6657 - val_accuracy: 0.6151 - val_recall_1: 0.2673 - val_precision_1: 0.7010\n",
      "Epoch 13/200\n",
      "184/184 [==============================] - 1s 4ms/step - loss: 0.6895 - accuracy: 0.5933 - recall_1: 0.4957 - precision_1: 0.5574 - val_loss: 0.6370 - val_accuracy: 0.6083 - val_recall_1: 0.2374 - val_precision_1: 0.7056\n",
      "Epoch 14/200\n",
      "184/184 [==============================] - 1s 4ms/step - loss: 0.6602 - accuracy: 0.6122 - recall_1: 0.5006 - precision_1: 0.5838 - val_loss: 0.6411 - val_accuracy: 0.5939 - val_recall_1: 0.1495 - val_precision_1: 0.7767\n",
      "Epoch 15/200\n",
      "184/184 [==============================] - 1s 4ms/step - loss: 0.6509 - accuracy: 0.6234 - recall_1: 0.5197 - precision_1: 0.5967 - val_loss: 0.6191 - val_accuracy: 0.6669 - val_recall_1: 0.6692 - val_precision_1: 0.6248\n",
      "Epoch 16/200\n",
      "184/184 [==============================] - 1s 4ms/step - loss: 0.6506 - accuracy: 0.6178 - recall_1: 0.5062 - precision_1: 0.5911 - val_loss: 0.6079 - val_accuracy: 0.6602 - val_recall_1: 0.7028 - val_precision_1: 0.6094\n",
      "Epoch 17/200\n",
      "184/184 [==============================] - 1s 4ms/step - loss: 0.6505 - accuracy: 0.6224 - recall_1: 0.5189 - precision_1: 0.5954 - val_loss: 0.6046 - val_accuracy: 0.6678 - val_recall_1: 0.7084 - val_precision_1: 0.6173\n",
      "Epoch 18/200\n",
      "184/184 [==============================] - 1s 5ms/step - loss: 0.6462 - accuracy: 0.6259 - recall_1: 0.5343 - precision_1: 0.5973 - val_loss: 0.6043 - val_accuracy: 0.6644 - val_recall_1: 0.4953 - val_precision_1: 0.6795\n",
      "Epoch 19/200\n",
      "184/184 [==============================] - 1s 5ms/step - loss: 0.6498 - accuracy: 0.6312 - recall_1: 0.5238 - precision_1: 0.6077 - val_loss: 0.6063 - val_accuracy: 0.6746 - val_recall_1: 0.7252 - val_precision_1: 0.6218\n",
      "Epoch 20/200\n",
      "184/184 [==============================] - 1s 5ms/step - loss: 0.6454 - accuracy: 0.6341 - recall_1: 0.5415 - precision_1: 0.6078 - val_loss: 0.6033 - val_accuracy: 0.6746 - val_recall_1: 0.7645 - val_precision_1: 0.6141\n",
      "Epoch 21/200\n",
      "184/184 [==============================] - 1s 4ms/step - loss: 0.6519 - accuracy: 0.6287 - recall_1: 0.5358 - precision_1: 0.6010 - val_loss: 0.6035 - val_accuracy: 0.6771 - val_recall_1: 0.7776 - val_precision_1: 0.6145\n",
      "Epoch 22/200\n",
      "184/184 [==============================] - 1s 5ms/step - loss: 0.6500 - accuracy: 0.6276 - recall_1: 0.5189 - precision_1: 0.6034 - val_loss: 0.5990 - val_accuracy: 0.6865 - val_recall_1: 0.6486 - val_precision_1: 0.6572\n",
      "Epoch 23/200\n",
      "184/184 [==============================] - 1s 4ms/step - loss: 0.6472 - accuracy: 0.6389 - recall_1: 0.5557 - precision_1: 0.6115 - val_loss: 0.6126 - val_accuracy: 0.6686 - val_recall_1: 0.4355 - val_precision_1: 0.7259\n",
      "Epoch 24/200\n",
      "184/184 [==============================] - 1s 4ms/step - loss: 0.6526 - accuracy: 0.6198 - recall_1: 0.5114 - precision_1: 0.5931 - val_loss: 0.6427 - val_accuracy: 0.6151 - val_recall_1: 0.2037 - val_precision_1: 0.8015\n",
      "Epoch 25/200\n",
      "184/184 [==============================] - 1s 4ms/step - loss: 0.6405 - accuracy: 0.6411 - recall_1: 0.5557 - precision_1: 0.6148 - val_loss: 0.6042 - val_accuracy: 0.6865 - val_recall_1: 0.6262 - val_precision_1: 0.6647\n",
      "Epoch 26/200\n",
      "184/184 [==============================] - 1s 4ms/step - loss: 0.6518 - accuracy: 0.6283 - recall_1: 0.5073 - precision_1: 0.6074 - val_loss: 0.6061 - val_accuracy: 0.6737 - val_recall_1: 0.7963 - val_precision_1: 0.6077\n",
      "Epoch 27/200\n",
      "184/184 [==============================] - 1s 4ms/step - loss: 0.6502 - accuracy: 0.6368 - recall_1: 0.5415 - precision_1: 0.6120 - val_loss: 0.5934 - val_accuracy: 0.6763 - val_recall_1: 0.7439 - val_precision_1: 0.6199\n",
      "Epoch 28/200\n",
      "184/184 [==============================] - 1s 4ms/step - loss: 0.6512 - accuracy: 0.6329 - recall_1: 0.5051 - precision_1: 0.6155 - val_loss: 0.5865 - val_accuracy: 0.6916 - val_recall_1: 0.6318 - val_precision_1: 0.6706\n",
      "Epoch 29/200\n",
      "184/184 [==============================] - 1s 4ms/step - loss: 0.6458 - accuracy: 0.6424 - recall_1: 0.5396 - precision_1: 0.6212 - val_loss: 0.6033 - val_accuracy: 0.6788 - val_recall_1: 0.4467 - val_precision_1: 0.7445\n",
      "Epoch 30/200\n",
      "184/184 [==============================] - 1s 4ms/step - loss: 0.6481 - accuracy: 0.6334 - recall_1: 0.5373 - precision_1: 0.6078 - val_loss: 0.5896 - val_accuracy: 0.6822 - val_recall_1: 0.5458 - val_precision_1: 0.6903\n",
      "Epoch 31/200\n",
      "184/184 [==============================] - 1s 4ms/step - loss: 0.6382 - accuracy: 0.6431 - recall_1: 0.5441 - precision_1: 0.6210 - val_loss: 0.5935 - val_accuracy: 0.6720 - val_recall_1: 0.7832 - val_precision_1: 0.6081\n",
      "Epoch 32/200\n",
      "184/184 [==============================] - 1s 4ms/step - loss: 0.6415 - accuracy: 0.6433 - recall_1: 0.5625 - precision_1: 0.6164 - val_loss: 0.5999 - val_accuracy: 0.6856 - val_recall_1: 0.5607 - val_precision_1: 0.6897\n",
      "Epoch 33/200\n",
      "184/184 [==============================] - 1s 4ms/step - loss: 0.6455 - accuracy: 0.6395 - recall_1: 0.5535 - precision_1: 0.6131 - val_loss: 0.5926 - val_accuracy: 0.6831 - val_recall_1: 0.5140 - val_precision_1: 0.7088\n",
      "Epoch 34/200\n",
      "184/184 [==============================] - 1s 4ms/step - loss: 0.6440 - accuracy: 0.6394 - recall_1: 0.5463 - precision_1: 0.6146 - val_loss: 0.5894 - val_accuracy: 0.6814 - val_recall_1: 0.5009 - val_precision_1: 0.7128\n",
      "Epoch 35/200\n",
      "184/184 [==============================] - 1s 4ms/step - loss: 0.6422 - accuracy: 0.6445 - recall_1: 0.5493 - precision_1: 0.6217 - val_loss: 0.5883 - val_accuracy: 0.6899 - val_recall_1: 0.7738 - val_precision_1: 0.6292\n",
      "Epoch 36/200\n",
      "184/184 [==============================] - 1s 4ms/step - loss: 0.6278 - accuracy: 0.6482 - recall_1: 0.5572 - precision_1: 0.6253 - val_loss: 0.5847 - val_accuracy: 0.6967 - val_recall_1: 0.6579 - val_precision_1: 0.6692\n",
      "Epoch 37/200\n",
      "184/184 [==============================] - 1s 4ms/step - loss: 0.6208 - accuracy: 0.6574 - recall_1: 0.5854 - precision_1: 0.6313 - val_loss: 0.5962 - val_accuracy: 0.6984 - val_recall_1: 0.5383 - val_precision_1: 0.7273\n",
      "Epoch 38/200\n",
      "184/184 [==============================] - 1s 4ms/step - loss: 0.6237 - accuracy: 0.6615 - recall_1: 0.5779 - precision_1: 0.6398 - val_loss: 0.5881 - val_accuracy: 0.6941 - val_recall_1: 0.5308 - val_precision_1: 0.7226\n",
      "Epoch 39/200\n",
      "184/184 [==============================] - 1s 4ms/step - loss: 0.6223 - accuracy: 0.6564 - recall_1: 0.5501 - precision_1: 0.6405 - val_loss: 0.5747 - val_accuracy: 0.7001 - val_recall_1: 0.6841 - val_precision_1: 0.6655\n",
      "Epoch 40/200\n",
      "184/184 [==============================] - 1s 4ms/step - loss: 0.6254 - accuracy: 0.6570 - recall_1: 0.5689 - precision_1: 0.6356 - val_loss: 0.5783 - val_accuracy: 0.7094 - val_recall_1: 0.6355 - val_precision_1: 0.6982\n",
      "Epoch 41/200\n",
      "184/184 [==============================] - 1s 4ms/step - loss: 0.6211 - accuracy: 0.6567 - recall_1: 0.5561 - precision_1: 0.6391 - val_loss: 0.5751 - val_accuracy: 0.7060 - val_recall_1: 0.6262 - val_precision_1: 0.6965\n",
      "Epoch 42/200\n",
      "184/184 [==============================] - 1s 4ms/step - loss: 0.6228 - accuracy: 0.6594 - recall_1: 0.5730 - precision_1: 0.6381 - val_loss: 0.5903 - val_accuracy: 0.7018 - val_recall_1: 0.5570 - val_precision_1: 0.7233\n",
      "Epoch 43/200\n",
      "184/184 [==============================] - 1s 4ms/step - loss: 0.6183 - accuracy: 0.6686 - recall_1: 0.5651 - precision_1: 0.6556 - val_loss: 0.5872 - val_accuracy: 0.6814 - val_recall_1: 0.4280 - val_precision_1: 0.7685\n",
      "Epoch 44/200\n",
      "184/184 [==============================] - 1s 4ms/step - loss: 0.6216 - accuracy: 0.6560 - recall_1: 0.5722 - precision_1: 0.6330 - val_loss: 0.5945 - val_accuracy: 0.6788 - val_recall_1: 0.3963 - val_precision_1: 0.7940\n",
      "Epoch 45/200\n",
      "184/184 [==============================] - 1s 4ms/step - loss: 0.6129 - accuracy: 0.6713 - recall_1: 0.5685 - precision_1: 0.6590 - val_loss: 0.5696 - val_accuracy: 0.7120 - val_recall_1: 0.6280 - val_precision_1: 0.7059\n",
      "Epoch 46/200\n",
      "184/184 [==============================] - 1s 5ms/step - loss: 0.6153 - accuracy: 0.6742 - recall_1: 0.5794 - precision_1: 0.6598 - val_loss: 0.5657 - val_accuracy: 0.7086 - val_recall_1: 0.6972 - val_precision_1: 0.6733\n",
      "Epoch 47/200\n",
      "184/184 [==============================] - 1s 4ms/step - loss: 0.6192 - accuracy: 0.6652 - recall_1: 0.5576 - precision_1: 0.6526 - val_loss: 0.5646 - val_accuracy: 0.7128 - val_recall_1: 0.7215 - val_precision_1: 0.6713\n",
      "Epoch 48/200\n",
      "184/184 [==============================] - 1s 4ms/step - loss: 0.6093 - accuracy: 0.6754 - recall_1: 0.5940 - precision_1: 0.6566 - val_loss: 0.5761 - val_accuracy: 0.6941 - val_recall_1: 0.7776 - val_precision_1: 0.6332\n",
      "Epoch 49/200\n",
      "184/184 [==============================] - 1s 4ms/step - loss: 0.6200 - accuracy: 0.6683 - recall_1: 0.5775 - precision_1: 0.6507 - val_loss: 0.5711 - val_accuracy: 0.6984 - val_recall_1: 0.7346 - val_precision_1: 0.6485\n",
      "Epoch 50/200\n",
      "184/184 [==============================] - 1s 4ms/step - loss: 0.6172 - accuracy: 0.6591 - recall_1: 0.5651 - precision_1: 0.6400 - val_loss: 0.5993 - val_accuracy: 0.6780 - val_recall_1: 0.4019 - val_precision_1: 0.7847\n",
      "Epoch 51/200\n",
      "184/184 [==============================] - 1s 4ms/step - loss: 0.6074 - accuracy: 0.6829 - recall_1: 0.5876 - precision_1: 0.6712 - val_loss: 0.5754 - val_accuracy: 0.7145 - val_recall_1: 0.7215 - val_precision_1: 0.6736\n",
      "Epoch 52/200\n",
      "184/184 [==============================] - 1s 4ms/step - loss: 0.6129 - accuracy: 0.6732 - recall_1: 0.5944 - precision_1: 0.6529 - val_loss: 0.5706 - val_accuracy: 0.7145 - val_recall_1: 0.5925 - val_precision_1: 0.7287\n",
      "Epoch 53/200\n",
      "184/184 [==============================] - 1s 4ms/step - loss: 0.6083 - accuracy: 0.6788 - recall_1: 0.5947 - precision_1: 0.6618 - val_loss: 0.5682 - val_accuracy: 0.6924 - val_recall_1: 0.4748 - val_precision_1: 0.7582\n",
      "Epoch 54/200\n",
      "184/184 [==============================] - 1s 4ms/step - loss: 0.6061 - accuracy: 0.6808 - recall_1: 0.5730 - precision_1: 0.6736 - val_loss: 0.5729 - val_accuracy: 0.7145 - val_recall_1: 0.6318 - val_precision_1: 0.7086\n",
      "Epoch 55/200\n",
      "184/184 [==============================] - 1s 4ms/step - loss: 0.6106 - accuracy: 0.6737 - recall_1: 0.5719 - precision_1: 0.6617 - val_loss: 0.5613 - val_accuracy: 0.7103 - val_recall_1: 0.7215 - val_precision_1: 0.6678\n",
      "Epoch 56/200\n",
      "184/184 [==============================] - 1s 4ms/step - loss: 0.6119 - accuracy: 0.6701 - recall_1: 0.5850 - precision_1: 0.6512 - val_loss: 0.5656 - val_accuracy: 0.7154 - val_recall_1: 0.6897 - val_precision_1: 0.6859\n",
      "Epoch 57/200\n",
      "184/184 [==============================] - 1s 4ms/step - loss: 0.6045 - accuracy: 0.6842 - recall_1: 0.6023 - precision_1: 0.6679 - val_loss: 0.5805 - val_accuracy: 0.7281 - val_recall_1: 0.6561 - val_precision_1: 0.7207\n",
      "Epoch 58/200\n",
      "184/184 [==============================] - 1s 4ms/step - loss: 0.6095 - accuracy: 0.6722 - recall_1: 0.5677 - precision_1: 0.6607 - val_loss: 0.5812 - val_accuracy: 0.7247 - val_recall_1: 0.6692 - val_precision_1: 0.7089\n",
      "Epoch 59/200\n",
      "184/184 [==============================] - 1s 4ms/step - loss: 0.6076 - accuracy: 0.6751 - recall_1: 0.5797 - precision_1: 0.6611 - val_loss: 0.5597 - val_accuracy: 0.7247 - val_recall_1: 0.7009 - val_precision_1: 0.6957\n",
      "Epoch 60/200\n",
      "184/184 [==============================] - 1s 4ms/step - loss: 0.6111 - accuracy: 0.6734 - recall_1: 0.5696 - precision_1: 0.6620 - val_loss: 0.5601 - val_accuracy: 0.7171 - val_recall_1: 0.5850 - val_precision_1: 0.7382\n",
      "Epoch 61/200\n",
      "184/184 [==============================] - 1s 4ms/step - loss: 0.6015 - accuracy: 0.6852 - recall_1: 0.6173 - precision_1: 0.6641 - val_loss: 0.5753 - val_accuracy: 0.6873 - val_recall_1: 0.4075 - val_precision_1: 0.8104\n",
      "Epoch 62/200\n",
      "184/184 [==============================] - 1s 4ms/step - loss: 0.5996 - accuracy: 0.6859 - recall_1: 0.5955 - precision_1: 0.6733 - val_loss: 0.5601 - val_accuracy: 0.7179 - val_recall_1: 0.5383 - val_precision_1: 0.7721\n",
      "Epoch 63/200\n",
      "184/184 [==============================] - 1s 4ms/step - loss: 0.6037 - accuracy: 0.6793 - recall_1: 0.5805 - precision_1: 0.6680 - val_loss: 0.5589 - val_accuracy: 0.7366 - val_recall_1: 0.6804 - val_precision_1: 0.7237\n",
      "Epoch 64/200\n",
      "184/184 [==============================] - 1s 4ms/step - loss: 0.6034 - accuracy: 0.6793 - recall_1: 0.5929 - precision_1: 0.6633 - val_loss: 0.5533 - val_accuracy: 0.7222 - val_recall_1: 0.7196 - val_precision_1: 0.6851\n",
      "Epoch 65/200\n",
      "184/184 [==============================] - 1s 5ms/step - loss: 0.5992 - accuracy: 0.6854 - recall_1: 0.5996 - precision_1: 0.6709 - val_loss: 0.5522 - val_accuracy: 0.7307 - val_recall_1: 0.6318 - val_precision_1: 0.7380\n",
      "Epoch 66/200\n",
      "184/184 [==============================] - 1s 4ms/step - loss: 0.5891 - accuracy: 0.6910 - recall_1: 0.5955 - precision_1: 0.6820 - val_loss: 0.5471 - val_accuracy: 0.7409 - val_recall_1: 0.6561 - val_precision_1: 0.7436\n",
      "Epoch 67/200\n",
      "184/184 [==============================] - 1s 4ms/step - loss: 0.6118 - accuracy: 0.6756 - recall_1: 0.5906 - precision_1: 0.6580 - val_loss: 0.5455 - val_accuracy: 0.7349 - val_recall_1: 0.7383 - val_precision_1: 0.6966\n",
      "Epoch 68/200\n",
      "184/184 [==============================] - 1s 4ms/step - loss: 0.6079 - accuracy: 0.6771 - recall_1: 0.5906 - precision_1: 0.6605 - val_loss: 0.5678 - val_accuracy: 0.6975 - val_recall_1: 0.4355 - val_precision_1: 0.8118\n",
      "Epoch 69/200\n",
      "184/184 [==============================] - 1s 4ms/step - loss: 0.5990 - accuracy: 0.6869 - recall_1: 0.5936 - precision_1: 0.6758 - val_loss: 0.5717 - val_accuracy: 0.7137 - val_recall_1: 0.7570 - val_precision_1: 0.6618\n",
      "Epoch 70/200\n",
      "184/184 [==============================] - 1s 4ms/step - loss: 0.6000 - accuracy: 0.6878 - recall_1: 0.5809 - precision_1: 0.6825 - val_loss: 0.5514 - val_accuracy: 0.7332 - val_recall_1: 0.6692 - val_precision_1: 0.7232\n",
      "Epoch 71/200\n",
      "184/184 [==============================] - 1s 4ms/step - loss: 0.5910 - accuracy: 0.6915 - recall_1: 0.6079 - precision_1: 0.6778 - val_loss: 0.5521 - val_accuracy: 0.7315 - val_recall_1: 0.7439 - val_precision_1: 0.6898\n",
      "Epoch 72/200\n",
      "184/184 [==============================] - 1s 4ms/step - loss: 0.5963 - accuracy: 0.6859 - recall_1: 0.5970 - precision_1: 0.6727 - val_loss: 0.5539 - val_accuracy: 0.7230 - val_recall_1: 0.5794 - val_precision_1: 0.7543\n",
      "Epoch 73/200\n",
      "184/184 [==============================] - 1s 4ms/step - loss: 0.5958 - accuracy: 0.6902 - recall_1: 0.5869 - precision_1: 0.6842 - val_loss: 0.5480 - val_accuracy: 0.7366 - val_recall_1: 0.7234 - val_precision_1: 0.7049\n",
      "Epoch 74/200\n",
      "184/184 [==============================] - 1s 4ms/step - loss: 0.5846 - accuracy: 0.6968 - recall_1: 0.6154 - precision_1: 0.6836 - val_loss: 0.5363 - val_accuracy: 0.7375 - val_recall_1: 0.7645 - val_precision_1: 0.6909\n",
      "Epoch 75/200\n",
      "184/184 [==============================] - 1s 4ms/step - loss: 0.5891 - accuracy: 0.6932 - recall_1: 0.6120 - precision_1: 0.6790 - val_loss: 0.5554 - val_accuracy: 0.7392 - val_recall_1: 0.7009 - val_precision_1: 0.7184\n",
      "Epoch 76/200\n",
      "184/184 [==============================] - 1s 4ms/step - loss: 0.5819 - accuracy: 0.7075 - recall_1: 0.6278 - precision_1: 0.6965 - val_loss: 0.5557 - val_accuracy: 0.7460 - val_recall_1: 0.7421 - val_precision_1: 0.7115\n",
      "Epoch 77/200\n",
      "184/184 [==============================] - 1s 5ms/step - loss: 0.5820 - accuracy: 0.6914 - recall_1: 0.6116 - precision_1: 0.6761 - val_loss: 0.5475 - val_accuracy: 0.7162 - val_recall_1: 0.5065 - val_precision_1: 0.7947\n",
      "Epoch 78/200\n",
      "184/184 [==============================] - 1s 4ms/step - loss: 0.5812 - accuracy: 0.7034 - recall_1: 0.6131 - precision_1: 0.6959 - val_loss: 0.5359 - val_accuracy: 0.7417 - val_recall_1: 0.7421 - val_precision_1: 0.7052\n",
      "Epoch 79/200\n",
      "184/184 [==============================] - 1s 5ms/step - loss: 0.5806 - accuracy: 0.7014 - recall_1: 0.6229 - precision_1: 0.6882 - val_loss: 0.5407 - val_accuracy: 0.7409 - val_recall_1: 0.6879 - val_precision_1: 0.7273\n",
      "Epoch 80/200\n",
      "184/184 [==============================] - 1s 5ms/step - loss: 0.5804 - accuracy: 0.7012 - recall_1: 0.6270 - precision_1: 0.6862 - val_loss: 0.5453 - val_accuracy: 0.7468 - val_recall_1: 0.6804 - val_precision_1: 0.7413\n",
      "Epoch 81/200\n",
      "184/184 [==============================] - 1s 4ms/step - loss: 0.5817 - accuracy: 0.7019 - recall_1: 0.6206 - precision_1: 0.6900 - val_loss: 0.5486 - val_accuracy: 0.7154 - val_recall_1: 0.4860 - val_precision_1: 0.8125\n",
      "Epoch 82/200\n",
      "184/184 [==============================] - 1s 5ms/step - loss: 0.5831 - accuracy: 0.6961 - recall_1: 0.6026 - precision_1: 0.6878 - val_loss: 0.5301 - val_accuracy: 0.7536 - val_recall_1: 0.6953 - val_precision_1: 0.7455\n",
      "Epoch 83/200\n",
      "184/184 [==============================] - 1s 5ms/step - loss: 0.5852 - accuracy: 0.7014 - recall_1: 0.6158 - precision_1: 0.6912 - val_loss: 0.5377 - val_accuracy: 0.7434 - val_recall_1: 0.6150 - val_precision_1: 0.7741\n",
      "Epoch 84/200\n",
      "184/184 [==============================] - 1s 5ms/step - loss: 0.5789 - accuracy: 0.7060 - recall_1: 0.6173 - precision_1: 0.6985 - val_loss: 0.5289 - val_accuracy: 0.7519 - val_recall_1: 0.7346 - val_precision_1: 0.7238\n",
      "Epoch 85/200\n",
      "184/184 [==============================] - 1s 5ms/step - loss: 0.5794 - accuracy: 0.7024 - recall_1: 0.6281 - precision_1: 0.6878 - val_loss: 0.5367 - val_accuracy: 0.7443 - val_recall_1: 0.6523 - val_precision_1: 0.7522\n",
      "Epoch 86/200\n",
      "184/184 [==============================] - 1s 4ms/step - loss: 0.5747 - accuracy: 0.7053 - recall_1: 0.6341 - precision_1: 0.6901 - val_loss: 0.5291 - val_accuracy: 0.7562 - val_recall_1: 0.6916 - val_precision_1: 0.7520\n",
      "Epoch 87/200\n",
      "184/184 [==============================] - 1s 4ms/step - loss: 0.5713 - accuracy: 0.7116 - recall_1: 0.6353 - precision_1: 0.7002 - val_loss: 0.5286 - val_accuracy: 0.7349 - val_recall_1: 0.5832 - val_precision_1: 0.7781\n",
      "Epoch 88/200\n",
      "184/184 [==============================] - 1s 5ms/step - loss: 0.5722 - accuracy: 0.7099 - recall_1: 0.6308 - precision_1: 0.6993 - val_loss: 0.5296 - val_accuracy: 0.7536 - val_recall_1: 0.6804 - val_precision_1: 0.7536\n",
      "Epoch 89/200\n",
      "184/184 [==============================] - 1s 5ms/step - loss: 0.5713 - accuracy: 0.7058 - recall_1: 0.6165 - precision_1: 0.6986 - val_loss: 0.5289 - val_accuracy: 0.7434 - val_recall_1: 0.6187 - val_precision_1: 0.7716\n",
      "Epoch 90/200\n",
      "184/184 [==============================] - 1s 4ms/step - loss: 0.5785 - accuracy: 0.7048 - recall_1: 0.6364 - precision_1: 0.6883 - val_loss: 0.5210 - val_accuracy: 0.7460 - val_recall_1: 0.6467 - val_precision_1: 0.7588\n",
      "Epoch 91/200\n",
      "184/184 [==============================] - 1s 5ms/step - loss: 0.5704 - accuracy: 0.7073 - recall_1: 0.6210 - precision_1: 0.6992 - val_loss: 0.5210 - val_accuracy: 0.7613 - val_recall_1: 0.7159 - val_precision_1: 0.7480\n",
      "Epoch 92/200\n",
      "184/184 [==============================] - 1s 4ms/step - loss: 0.5770 - accuracy: 0.7041 - recall_1: 0.6199 - precision_1: 0.6941 - val_loss: 0.5355 - val_accuracy: 0.7400 - val_recall_1: 0.6019 - val_precision_1: 0.7759\n",
      "Epoch 93/200\n",
      "184/184 [==============================] - 1s 4ms/step - loss: 0.5694 - accuracy: 0.7038 - recall_1: 0.6150 - precision_1: 0.6957 - val_loss: 0.5303 - val_accuracy: 0.7332 - val_recall_1: 0.5794 - val_precision_1: 0.7769\n",
      "Epoch 94/200\n",
      "184/184 [==============================] - 1s 5ms/step - loss: 0.5723 - accuracy: 0.7096 - recall_1: 0.6308 - precision_1: 0.6987 - val_loss: 0.5267 - val_accuracy: 0.7545 - val_recall_1: 0.6841 - val_precision_1: 0.7531\n",
      "Epoch 95/200\n",
      "184/184 [==============================] - 1s 4ms/step - loss: 0.5669 - accuracy: 0.7096 - recall_1: 0.6349 - precision_1: 0.6969 - val_loss: 0.5246 - val_accuracy: 0.7485 - val_recall_1: 0.7813 - val_precision_1: 0.7002\n",
      "Epoch 96/200\n",
      "184/184 [==============================] - 1s 4ms/step - loss: 0.5693 - accuracy: 0.7097 - recall_1: 0.6315 - precision_1: 0.6986 - val_loss: 0.5351 - val_accuracy: 0.7256 - val_recall_1: 0.5047 - val_precision_1: 0.8232\n",
      "Epoch 97/200\n",
      "184/184 [==============================] - 1s 4ms/step - loss: 0.5698 - accuracy: 0.7041 - recall_1: 0.6041 - precision_1: 0.7012 - val_loss: 0.5146 - val_accuracy: 0.7553 - val_recall_1: 0.7757 - val_precision_1: 0.7118\n",
      "Epoch 98/200\n",
      "184/184 [==============================] - 1s 4ms/step - loss: 0.5658 - accuracy: 0.7124 - recall_1: 0.6402 - precision_1: 0.6995 - val_loss: 0.5208 - val_accuracy: 0.7570 - val_recall_1: 0.6953 - val_precision_1: 0.7515\n",
      "Epoch 99/200\n",
      "184/184 [==============================] - 1s 4ms/step - loss: 0.5633 - accuracy: 0.7145 - recall_1: 0.6417 - precision_1: 0.7023 - val_loss: 0.5159 - val_accuracy: 0.7587 - val_recall_1: 0.6935 - val_precision_1: 0.7556\n",
      "Epoch 100/200\n",
      "184/184 [==============================] - 1s 5ms/step - loss: 0.5659 - accuracy: 0.7141 - recall_1: 0.6345 - precision_1: 0.7049 - val_loss: 0.5168 - val_accuracy: 0.7621 - val_recall_1: 0.7178 - val_precision_1: 0.7485\n",
      "Epoch 101/200\n",
      "184/184 [==============================] - 1s 4ms/step - loss: 0.5655 - accuracy: 0.7067 - recall_1: 0.6304 - precision_1: 0.6939 - val_loss: 0.5321 - val_accuracy: 0.7485 - val_recall_1: 0.6112 - val_precision_1: 0.7880\n",
      "Epoch 102/200\n",
      "184/184 [==============================] - 1s 4ms/step - loss: 0.5595 - accuracy: 0.7128 - recall_1: 0.6360 - precision_1: 0.7019 - val_loss: 0.5183 - val_accuracy: 0.7502 - val_recall_1: 0.6187 - val_precision_1: 0.7862\n",
      "Epoch 103/200\n",
      "184/184 [==============================] - 1s 5ms/step - loss: 0.5606 - accuracy: 0.7206 - recall_1: 0.6454 - precision_1: 0.7110 - val_loss: 0.5146 - val_accuracy: 0.7596 - val_recall_1: 0.6879 - val_precision_1: 0.7603\n",
      "Epoch 104/200\n",
      "184/184 [==============================] - 1s 4ms/step - loss: 0.5579 - accuracy: 0.7143 - recall_1: 0.6450 - precision_1: 0.7005 - val_loss: 0.5211 - val_accuracy: 0.7613 - val_recall_1: 0.6991 - val_precision_1: 0.7571\n",
      "Epoch 105/200\n",
      "184/184 [==============================] - 1s 4ms/step - loss: 0.5605 - accuracy: 0.7131 - recall_1: 0.6458 - precision_1: 0.6982 - val_loss: 0.5172 - val_accuracy: 0.7570 - val_recall_1: 0.6523 - val_precision_1: 0.7773\n",
      "Epoch 106/200\n",
      "184/184 [==============================] - 1s 4ms/step - loss: 0.5550 - accuracy: 0.7169 - recall_1: 0.6413 - precision_1: 0.7065 - val_loss: 0.5201 - val_accuracy: 0.7647 - val_recall_1: 0.7252 - val_precision_1: 0.7490\n",
      "Epoch 107/200\n",
      "184/184 [==============================] - 1s 5ms/step - loss: 0.5569 - accuracy: 0.7206 - recall_1: 0.6484 - precision_1: 0.7097 - val_loss: 0.5146 - val_accuracy: 0.7536 - val_recall_1: 0.6430 - val_precision_1: 0.7765\n",
      "Epoch 108/200\n",
      "184/184 [==============================] - 1s 4ms/step - loss: 0.5589 - accuracy: 0.7169 - recall_1: 0.6379 - precision_1: 0.7080 - val_loss: 0.5144 - val_accuracy: 0.7630 - val_recall_1: 0.7589 - val_precision_1: 0.7302\n",
      "Epoch 109/200\n",
      "184/184 [==============================] - 1s 5ms/step - loss: 0.5518 - accuracy: 0.7170 - recall_1: 0.6443 - precision_1: 0.7054 - val_loss: 0.5143 - val_accuracy: 0.7528 - val_recall_1: 0.6262 - val_precision_1: 0.7864\n",
      "Epoch 110/200\n",
      "184/184 [==============================] - 1s 4ms/step - loss: 0.5625 - accuracy: 0.7162 - recall_1: 0.6259 - precision_1: 0.7125 - val_loss: 0.5121 - val_accuracy: 0.7638 - val_recall_1: 0.7664 - val_precision_1: 0.7282\n",
      "Epoch 111/200\n",
      "184/184 [==============================] - 1s 4ms/step - loss: 0.5591 - accuracy: 0.7174 - recall_1: 0.6443 - precision_1: 0.7060 - val_loss: 0.5230 - val_accuracy: 0.7604 - val_recall_1: 0.6673 - val_precision_1: 0.7744\n",
      "Epoch 112/200\n",
      "184/184 [==============================] - 1s 5ms/step - loss: 0.5519 - accuracy: 0.7130 - recall_1: 0.6341 - precision_1: 0.7030 - val_loss: 0.5138 - val_accuracy: 0.7681 - val_recall_1: 0.7159 - val_precision_1: 0.7599\n",
      "Epoch 113/200\n",
      "184/184 [==============================] - 1s 4ms/step - loss: 0.5585 - accuracy: 0.7136 - recall_1: 0.6402 - precision_1: 0.7015 - val_loss: 0.5184 - val_accuracy: 0.7630 - val_recall_1: 0.6972 - val_precision_1: 0.7612\n",
      "Epoch 114/200\n",
      "184/184 [==============================] - 1s 4ms/step - loss: 0.5544 - accuracy: 0.7225 - recall_1: 0.6458 - precision_1: 0.7141 - val_loss: 0.5092 - val_accuracy: 0.7511 - val_recall_1: 0.6374 - val_precision_1: 0.7750\n",
      "Epoch 115/200\n",
      "184/184 [==============================] - 1s 5ms/step - loss: 0.5530 - accuracy: 0.7235 - recall_1: 0.6394 - precision_1: 0.7190 - val_loss: 0.5159 - val_accuracy: 0.7604 - val_recall_1: 0.6505 - val_precision_1: 0.7856\n",
      "Epoch 116/200\n",
      "184/184 [==============================] - 1s 4ms/step - loss: 0.5551 - accuracy: 0.7211 - recall_1: 0.6458 - precision_1: 0.7117 - val_loss: 0.5069 - val_accuracy: 0.7698 - val_recall_1: 0.7346 - val_precision_1: 0.7529\n",
      "Epoch 117/200\n",
      "184/184 [==============================] - 1s 4ms/step - loss: 0.5548 - accuracy: 0.7235 - recall_1: 0.6499 - precision_1: 0.7139 - val_loss: 0.5244 - val_accuracy: 0.7604 - val_recall_1: 0.6804 - val_precision_1: 0.7663\n",
      "Epoch 118/200\n",
      "184/184 [==============================] - 1s 4ms/step - loss: 0.5595 - accuracy: 0.7174 - recall_1: 0.6447 - precision_1: 0.7058 - val_loss: 0.5061 - val_accuracy: 0.7638 - val_recall_1: 0.6916 - val_precision_1: 0.7660\n",
      "Epoch 119/200\n",
      "184/184 [==============================] - 1s 5ms/step - loss: 0.5531 - accuracy: 0.7148 - recall_1: 0.6503 - precision_1: 0.6991 - val_loss: 0.5199 - val_accuracy: 0.7715 - val_recall_1: 0.7570 - val_precision_1: 0.7445\n",
      "Epoch 120/200\n",
      "184/184 [==============================] - 1s 4ms/step - loss: 0.5493 - accuracy: 0.7237 - recall_1: 0.6477 - precision_1: 0.7153 - val_loss: 0.5091 - val_accuracy: 0.7689 - val_recall_1: 0.7664 - val_precision_1: 0.7361\n",
      "Epoch 121/200\n",
      "184/184 [==============================] - 1s 4ms/step - loss: 0.5530 - accuracy: 0.7172 - recall_1: 0.6462 - precision_1: 0.7049 - val_loss: 0.5019 - val_accuracy: 0.7647 - val_recall_1: 0.7178 - val_precision_1: 0.7529\n",
      "Epoch 122/200\n",
      "184/184 [==============================] - 1s 4ms/step - loss: 0.5530 - accuracy: 0.7214 - recall_1: 0.6533 - precision_1: 0.7089 - val_loss: 0.5056 - val_accuracy: 0.7706 - val_recall_1: 0.7215 - val_precision_1: 0.7613\n",
      "Epoch 123/200\n",
      "184/184 [==============================] - 1s 5ms/step - loss: 0.5519 - accuracy: 0.7150 - recall_1: 0.6368 - precision_1: 0.7053 - val_loss: 0.5119 - val_accuracy: 0.7740 - val_recall_1: 0.7103 - val_precision_1: 0.7739\n",
      "Epoch 124/200\n",
      "184/184 [==============================] - 1s 4ms/step - loss: 0.5575 - accuracy: 0.7152 - recall_1: 0.6308 - precision_1: 0.7084 - val_loss: 0.5112 - val_accuracy: 0.7715 - val_recall_1: 0.7234 - val_precision_1: 0.7618\n",
      "Epoch 125/200\n",
      "184/184 [==============================] - 1s 4ms/step - loss: 0.5537 - accuracy: 0.7238 - recall_1: 0.6488 - precision_1: 0.7151 - val_loss: 0.5158 - val_accuracy: 0.7749 - val_recall_1: 0.7346 - val_precision_1: 0.7616\n",
      "Epoch 126/200\n",
      "184/184 [==============================] - 1s 5ms/step - loss: 0.5533 - accuracy: 0.7211 - recall_1: 0.6582 - precision_1: 0.7061 - val_loss: 0.5188 - val_accuracy: 0.7630 - val_recall_1: 0.6579 - val_precision_1: 0.7857\n",
      "Epoch 127/200\n",
      "184/184 [==============================] - 1s 4ms/step - loss: 0.5541 - accuracy: 0.7277 - recall_1: 0.6593 - precision_1: 0.7169 - val_loss: 0.5150 - val_accuracy: 0.7613 - val_recall_1: 0.6505 - val_precision_1: 0.7873\n",
      "Epoch 128/200\n",
      "184/184 [==============================] - 1s 4ms/step - loss: 0.5568 - accuracy: 0.7189 - recall_1: 0.6450 - precision_1: 0.7083 - val_loss: 0.5076 - val_accuracy: 0.7681 - val_recall_1: 0.7121 - val_precision_1: 0.7620\n",
      "Epoch 129/200\n",
      "184/184 [==============================] - 1s 4ms/step - loss: 0.5480 - accuracy: 0.7197 - recall_1: 0.6540 - precision_1: 0.7057 - val_loss: 0.5034 - val_accuracy: 0.7749 - val_recall_1: 0.7009 - val_precision_1: 0.7812\n",
      "Epoch 130/200\n",
      "184/184 [==============================] - 1s 4ms/step - loss: 0.5502 - accuracy: 0.7279 - recall_1: 0.6597 - precision_1: 0.7170 - val_loss: 0.5133 - val_accuracy: 0.7749 - val_recall_1: 0.7495 - val_precision_1: 0.7538\n",
      "Epoch 131/200\n",
      "184/184 [==============================] - 1s 4ms/step - loss: 0.5458 - accuracy: 0.7318 - recall_1: 0.6600 - precision_1: 0.7236 - val_loss: 0.5066 - val_accuracy: 0.7740 - val_recall_1: 0.7084 - val_precision_1: 0.7751\n",
      "Epoch 132/200\n",
      "184/184 [==============================] - 1s 4ms/step - loss: 0.5527 - accuracy: 0.7160 - recall_1: 0.6285 - precision_1: 0.7110 - val_loss: 0.5046 - val_accuracy: 0.7664 - val_recall_1: 0.7065 - val_precision_1: 0.7621\n",
      "Epoch 133/200\n",
      "184/184 [==============================] - 1s 4ms/step - loss: 0.5441 - accuracy: 0.7262 - recall_1: 0.6499 - precision_1: 0.7187 - val_loss: 0.5036 - val_accuracy: 0.7681 - val_recall_1: 0.7140 - val_precision_1: 0.7610\n",
      "Epoch 134/200\n",
      "184/184 [==============================] - 1s 4ms/step - loss: 0.5448 - accuracy: 0.7281 - recall_1: 0.6514 - precision_1: 0.7212 - val_loss: 0.5095 - val_accuracy: 0.7715 - val_recall_1: 0.6991 - val_precision_1: 0.7759\n",
      "Epoch 135/200\n",
      "184/184 [==============================] - 1s 4ms/step - loss: 0.5540 - accuracy: 0.7163 - recall_1: 0.6368 - precision_1: 0.7077 - val_loss: 0.5038 - val_accuracy: 0.7715 - val_recall_1: 0.7346 - val_precision_1: 0.7558\n",
      "Epoch 136/200\n",
      "184/184 [==============================] - 1s 5ms/step - loss: 0.5457 - accuracy: 0.7252 - recall_1: 0.6649 - precision_1: 0.7099 - val_loss: 0.5021 - val_accuracy: 0.7613 - val_recall_1: 0.6430 - val_precision_1: 0.7926\n"
     ]
    }
   ],
   "source": [
    "LEARNING_RATE = 0.1\n",
    "\n",
    "X_train, X_val, y_train, y_val = train_test_split(train_X, train_y, test_size=0.2)\n",
    "\n",
    "X_train = np.array(train_X)\n",
    "y_train = np.array(train_y)\n",
    "\n",
    "X_val = np.array(X_val)\n",
    "y_val = np.array(y_val)\n",
    "\n",
    "X_test = np.array(test_X)\n",
    "y_test = np.array(test_y)\n",
    "\n",
    "X_train = tf.convert_to_tensor(X_train)\n",
    "y_train = tf.convert_to_tensor(y_train)\n",
    "\n",
    "X_val = tf.convert_to_tensor(X_val)\n",
    "y_val = tf.convert_to_tensor(y_val)\n",
    "\n",
    "X_test = tf.convert_to_tensor(X_test)\n",
    "y_test = tf.convert_to_tensor(y_test)\n",
    "\n",
    "\n",
    "es = tf.keras.callbacks.EarlyStopping(monitor='val_loss', patience=15)\n",
    "lrr = tf.keras.callbacks.ReduceLROnPlateau(monitor='val_accuracy', \n",
    "                                            patience=7, \n",
    "                                            factor=0.5, \n",
    "                                            min_lr=0.00001)\n",
    "\n",
    "adam = tf.keras.optimizers.Adam(learning_rate=LEARNING_RATE)\n",
    "\n",
    "\n",
    "precision = tf.keras.metrics.Precision()\n",
    "recall = tf.keras.metrics.Recall()\n",
    "\n",
    "keras_model.compile(\n",
    "    optimizer=adam,\n",
    "    loss='binary_crossentropy',\n",
    "    metrics=['accuracy', recall, precision],\n",
    ")\n",
    "\n",
    "\n",
    "history = keras_model.fit(X_train, y_train, epochs=200, validation_data=(X_val, y_val), callbacks=[es, lrr])"
   ]
  },
  {
   "cell_type": "code",
   "execution_count": 130,
   "metadata": {},
   "outputs": [
    {
     "name": "stdout",
     "output_type": "stream",
     "text": [
      "f1 score: 0.4507042253521127\n"
     ]
    },
    {
     "data": {
      "text/plain": [
       "<sklearn.metrics._plot.confusion_matrix.ConfusionMatrixDisplay at 0x25237a23be0>"
      ]
     },
     "execution_count": 130,
     "metadata": {},
     "output_type": "execute_result"
    },
    {
     "data": {
      "image/png": "[encoded data removed]",
      "text/plain": [
       "<Figure size 640x480 with 2 Axes>"
      ]
     },
     "metadata": {},
     "output_type": "display_data"
    }
   ],
   "source": [
    "y_pred = keras_model.predict(test_X)\n",
    "threshold = 0.5\n",
    "\n",
    "y_pred = np.where(y_pred > threshold, 1, 0)\n",
    "\n",
    "\n",
    "score = f1_score(y_test, y_pred)\n",
    "print(f'f1 score: {score}')\n",
    "\n",
    "cm = confusion_matrix(test_y, y_pred)\n",
    "ConfusionMatrixDisplay(confusion_matrix=cm).plot()"
   ]
  },
  {
   "attachments": {},
   "cell_type": "markdown",
   "metadata": {},
   "source": [
    "# PCA analysis\n",
    "\n",
    "We will perform a PCA on the training set, apply it to both the train and test set then do our analyses again"
   ]
  },
  {
   "cell_type": "code",
   "execution_count": 131,
   "metadata": {},
   "outputs": [
    {
     "data": {
      "text/plain": [
       "array([[-0.02916307, -0.07189848, -0.05984801, ..., -0.19489065,\n",
       "        -0.42308758,  0.04601955],\n",
       "       [-0.02916307, -0.07189848, -0.05984801, ...,  1.60250208,\n",
       "        -0.42308758, -0.5721974 ],\n",
       "       [-0.02916307, -0.07189848, -0.05984801, ...,  0.70380572,\n",
       "        -0.42308758, -0.5721974 ],\n",
       "       ...,\n",
       "       [-0.02916307, -0.07189848, -0.05984801, ..., -0.19489065,\n",
       "        -0.42308758, -0.5721974 ],\n",
       "       [-0.02916307, -0.07189848, -0.05984801, ...,  0.70380572,\n",
       "        -0.42308758, -0.5721974 ],\n",
       "       [-0.02916307, -0.07189848, -0.05984801, ...,  1.60250208,\n",
       "         0.25357655,  0.66423649]])"
      ]
     },
     "execution_count": 131,
     "metadata": {},
     "output_type": "execute_result"
    }
   ],
   "source": [
    "train_X"
   ]
  },
  {
   "cell_type": "code",
   "execution_count": 132,
   "metadata": {},
   "outputs": [
    {
     "data": {
      "text/plain": [
       "PCA(n_components=10)"
      ]
     },
     "execution_count": 132,
     "metadata": {},
     "output_type": "execute_result"
    }
   ],
   "source": [
    "from sklearn.decomposition import PCA\n",
    "from sklearn.preprocessing import StandardScaler\n",
    "\n",
    "pca = PCA(n_components=10)\n",
    "scale = StandardScaler()\n",
    "\n",
    "scale.fit(train_X)\n",
    "train_X_scaled = scale.transform(train_X)\n",
    "test_X_scaled = scale.transform(test_X)\n",
    "\n",
    "pca.fit(train_X_scaled)"
   ]
  },
  {
   "cell_type": "code",
   "execution_count": 133,
   "metadata": {},
   "outputs": [],
   "source": [
    "X_train_pca = pca.transform(train_X)\n",
    "X_test_pca = pca.transform(test_X)"
   ]
  },
  {
   "cell_type": "code",
   "execution_count": 134,
   "metadata": {},
   "outputs": [],
   "source": [
    "def plot_cum_var (pca):\n",
    "    cum_var_exp = np.cumsum(pca.explained_variance_ratio_)\n",
    "    features = range(pca.n_components_)\n",
    "    plt.bar(features, pca.explained_variance_ratio_, color='black')\n",
    "    plt.step(range(0, pca.n_components_), cum_var_exp, where='mid', label='cumulative explained variance', color='red')\n",
    "    plt.ylabel('Explained variance ratio')\n",
    "    plt.xlabel('Principal components')\n",
    "    plt.xticks(range(1, 9))\n",
    "    plt.legend(loc='best')\n",
    "    plt.tight_layout()"
   ]
  },
  {
   "cell_type": "code",
   "execution_count": 135,
   "metadata": {},
   "outputs": [
    {
     "data": {
      "image/png": "[encoded data removed]",
      "text/plain": [
       "<Figure size 640x480 with 1 Axes>"
      ]
     },
     "metadata": {},
     "output_type": "display_data"
    }
   ],
   "source": [
    "plot_cum_var(pca)"
   ]
  },
  {
   "cell_type": "code",
   "execution_count": 136,
   "metadata": {},
   "outputs": [
    {
     "data": {
      "text/html": [
       "<div>\n",
       "<style scoped>\n",
       "    .dataframe tbody tr th:only-of-type {\n",
       "        vertical-align: middle;\n",
       "    }\n",
       "\n",
       "    .dataframe tbody tr th {\n",
       "        vertical-align: top;\n",
       "    }\n",
       "\n",
       "    .dataframe thead th {\n",
       "        text-align: right;\n",
       "    }\n",
       "</style>\n",
       "<table border=\"1\" class=\"dataframe\">\n",
       "  <thead>\n",
       "    <tr style=\"text-align: right;\">\n",
       "      <th></th>\n",
       "      <th>0</th>\n",
       "      <th>1</th>\n",
       "      <th>2</th>\n",
       "      <th>3</th>\n",
       "      <th>4</th>\n",
       "      <th>5</th>\n",
       "      <th>6</th>\n",
       "      <th>7</th>\n",
       "      <th>8</th>\n",
       "      <th>9</th>\n",
       "    </tr>\n",
       "  </thead>\n",
       "  <tbody>\n",
       "    <tr>\n",
       "      <th>0</th>\n",
       "      <td>-1.334015</td>\n",
       "      <td>3.247458</td>\n",
       "      <td>7.336423</td>\n",
       "      <td>-2.912894</td>\n",
       "      <td>3.800256</td>\n",
       "      <td>10.164780</td>\n",
       "      <td>-1.792281</td>\n",
       "      <td>-0.242825</td>\n",
       "      <td>-0.311342</td>\n",
       "      <td>-0.030276</td>\n",
       "    </tr>\n",
       "    <tr>\n",
       "      <th>1</th>\n",
       "      <td>13.432988</td>\n",
       "      <td>0.412000</td>\n",
       "      <td>1.413458</td>\n",
       "      <td>5.998163</td>\n",
       "      <td>3.106770</td>\n",
       "      <td>0.069885</td>\n",
       "      <td>-0.937789</td>\n",
       "      <td>-0.312709</td>\n",
       "      <td>1.735464</td>\n",
       "      <td>-0.108053</td>\n",
       "    </tr>\n",
       "    <tr>\n",
       "      <th>2</th>\n",
       "      <td>-0.047760</td>\n",
       "      <td>0.954508</td>\n",
       "      <td>0.149152</td>\n",
       "      <td>0.274849</td>\n",
       "      <td>-3.072808</td>\n",
       "      <td>0.557791</td>\n",
       "      <td>0.750734</td>\n",
       "      <td>-0.186551</td>\n",
       "      <td>-1.698612</td>\n",
       "      <td>0.764616</td>\n",
       "    </tr>\n",
       "    <tr>\n",
       "      <th>3</th>\n",
       "      <td>0.169165</td>\n",
       "      <td>3.595894</td>\n",
       "      <td>0.116530</td>\n",
       "      <td>-0.404685</td>\n",
       "      <td>0.708576</td>\n",
       "      <td>11.779119</td>\n",
       "      <td>-0.481088</td>\n",
       "      <td>0.269074</td>\n",
       "      <td>0.226332</td>\n",
       "      <td>0.056753</td>\n",
       "    </tr>\n",
       "    <tr>\n",
       "      <th>4</th>\n",
       "      <td>-0.492523</td>\n",
       "      <td>0.017207</td>\n",
       "      <td>-0.170771</td>\n",
       "      <td>0.308731</td>\n",
       "      <td>-0.335086</td>\n",
       "      <td>0.201614</td>\n",
       "      <td>0.511841</td>\n",
       "      <td>0.679153</td>\n",
       "      <td>0.586608</td>\n",
       "      <td>-0.311107</td>\n",
       "    </tr>\n",
       "  </tbody>\n",
       "</table>\n",
       "</div>"
      ],
      "text/plain": [
       "           0         1         2         3         4          5         6  \\\n",
       "0  -1.334015  3.247458  7.336423 -2.912894  3.800256  10.164780 -1.792281   \n",
       "1  13.432988  0.412000  1.413458  5.998163  3.106770   0.069885 -0.937789   \n",
       "2  -0.047760  0.954508  0.149152  0.274849 -3.072808   0.557791  0.750734   \n",
       "3   0.169165  3.595894  0.116530 -0.404685  0.708576  11.779119 -0.481088   \n",
       "4  -0.492523  0.017207 -0.170771  0.308731 -0.335086   0.201614  0.511841   \n",
       "\n",
       "          7         8         9  \n",
       "0 -0.242825 -0.311342 -0.030276  \n",
       "1 -0.312709  1.735464 -0.108053  \n",
       "2 -0.186551 -1.698612  0.764616  \n",
       "3  0.269074  0.226332  0.056753  \n",
       "4  0.679153  0.586608 -0.311107  "
      ]
     },
     "execution_count": 136,
     "metadata": {},
     "output_type": "execute_result"
    }
   ],
   "source": [
    "PCA_components = pd.DataFrame(X_train_pca)\n",
    "\n",
    "PCA_components.head()"
   ]
  },
  {
   "cell_type": "code",
   "execution_count": 137,
   "metadata": {},
   "outputs": [
    {
     "data": {
      "text/plain": [
       "5952    1\n",
       "6114    1\n",
       "3130    1\n",
       "2491    1\n",
       "1312    1\n",
       "       ..\n",
       "1899    0\n",
       "2763    0\n",
       "4538    0\n",
       "4237    0\n",
       "1354    0\n",
       "Name: tox_bin, Length: 5884, dtype: int64"
      ]
     },
     "execution_count": 137,
     "metadata": {},
     "output_type": "execute_result"
    }
   ],
   "source": [
    "train_y"
   ]
  },
  {
   "cell_type": "code",
   "execution_count": 138,
   "metadata": {},
   "outputs": [
    {
     "name": "stderr",
     "output_type": "stream",
     "text": [
      "No artists with labels found to put in legend.  Note that artists whose label start with an underscore are ignored when legend() is called with no argument.\n"
     ]
    },
    {
     "data": {
      "text/plain": [
       "<matplotlib.legend.Legend at 0x252399e80b8>"
      ]
     },
     "execution_count": 138,
     "metadata": {},
     "output_type": "execute_result"
    },
    {
     "data": {
      "image/png": "[encoded data removed]",
      "text/plain": [
       "<Figure size 640x480 with 1 Axes>"
      ]
     },
     "metadata": {},
     "output_type": "display_data"
    }
   ],
   "source": [
    "fig = plt.figure()\n",
    "ax = fig.add_subplot(projection='3d')\n",
    "markers = ['o', '^']\n",
    "\n",
    "\n",
    "ax.scatter(PCA_components[0], PCA_components[1], PCA_components[2], c=train_y, cmap='viridis', s=1, alpha=0.2)\n",
    "ax.set_xlabel('PCA 1')\n",
    "ax.set_ylabel('PCA 2')\n",
    "ax.set_zlabel('PCA 3')\n",
    "ax.legend()"
   ]
  },
  {
   "cell_type": "code",
   "execution_count": 139,
   "metadata": {},
   "outputs": [
    {
     "data": {
      "text/plain": [
       "SGDClassifier()"
      ]
     },
     "execution_count": 139,
     "metadata": {},
     "output_type": "execute_result"
    }
   ],
   "source": [
    "from sklearn.linear_model import SGDClassifier\n",
    "\n",
    "sgd = SGDClassifier()\n",
    "sgd.fit(X_train_pca, train_y)"
   ]
  },
  {
   "cell_type": "code",
   "execution_count": 140,
   "metadata": {},
   "outputs": [
    {
     "data": {
      "text/plain": [
       "array([0.40839695, 0.66666667, 0.55172414])"
      ]
     },
     "execution_count": 140,
     "metadata": {},
     "output_type": "execute_result"
    }
   ],
   "source": [
    "from sklearn.model_selection import cross_val_score\n",
    "\n",
    "cross_val_score(sgd, X_test_pca, test_y, cv =3, scoring='accuracy')"
   ]
  },
  {
   "cell_type": "code",
   "execution_count": 141,
   "metadata": {},
   "outputs": [],
   "source": [
    "from sklearn.metrics import precision_recall_curve\n",
    "from sklearn.model_selection import cross_val_predict\n",
    "\n",
    "y_scores = cross_val_predict(sgd, PCA_components, train_y, cv=5, method='decision_function')\n",
    "\n",
    "precisions, recalls, thresholds = precision_recall_curve(train_y, y_scores)"
   ]
  },
  {
   "cell_type": "code",
   "execution_count": 142,
   "metadata": {},
   "outputs": [
    {
     "data": {
      "text/plain": [
       "<matplotlib.legend.Legend at 0x252398d8390>"
      ]
     },
     "execution_count": 142,
     "metadata": {},
     "output_type": "execute_result"
    },
    {
     "data": {
      "image/png": "[encoded data removed]",
      "text/plain": [
       "<Figure size 640x480 with 1 Axes>"
      ]
     },
     "metadata": {},
     "output_type": "display_data"
    }
   ],
   "source": [
    "plt.plot(thresholds, precisions[:-1], 'b--', label='Precision')\n",
    "plt.plot(thresholds, recalls[:-1], 'g-', label='Recall')\n",
    "plt.legend()"
   ]
  },
  {
   "cell_type": "code",
   "execution_count": 143,
   "metadata": {},
   "outputs": [
    {
     "name": "stdout",
     "output_type": "stream",
     "text": [
      "f1 score:  0.14814814814814814\n"
     ]
    }
   ],
   "source": [
    "y_pred = sgd.predict(X_test_pca)\n",
    "score = f1_score(test_y, y_pred)\n",
    "\n",
    "print('f1 score: ', score)"
   ]
  },
  {
   "cell_type": "code",
   "execution_count": 144,
   "metadata": {},
   "outputs": [
    {
     "data": {
      "text/plain": [
       "<sklearn.metrics._plot.confusion_matrix.ConfusionMatrixDisplay at 0x25233aabc88>"
      ]
     },
     "execution_count": 144,
     "metadata": {},
     "output_type": "execute_result"
    },
    {
     "data": {
      "image/png": "[encoded data removed]",
      "text/plain": [
       "<Figure size 640x480 with 2 Axes>"
      ]
     },
     "metadata": {},
     "output_type": "display_data"
    }
   ],
   "source": [
    "from sklearn.metrics import confusion_matrix\n",
    "from sklearn.metrics import ConfusionMatrixDisplay\n",
    "\n",
    "cm = confusion_matrix(test_y, y_pred)\n",
    "\n",
    "ConfusionMatrixDisplay(confusion_matrix=cm).plot()"
   ]
  },
  {
   "cell_type": "code",
   "execution_count": 145,
   "metadata": {},
   "outputs": [
    {
     "data": {
      "text/plain": [
       "RandomForestClassifier()"
      ]
     },
     "execution_count": 145,
     "metadata": {},
     "output_type": "execute_result"
    }
   ],
   "source": [
    "from sklearn.ensemble import RandomForestClassifier\n",
    "\n",
    "rf = RandomForestClassifier()\n",
    "rf.fit(X_train_pca, train_y)"
   ]
  },
  {
   "cell_type": "code",
   "execution_count": 146,
   "metadata": {},
   "outputs": [
    {
     "name": "stdout",
     "output_type": "stream",
     "text": [
      "f1 score: 0.3400576368876081\n"
     ]
    }
   ],
   "source": [
    "y_pred = rf.predict(X_test_pca)\n",
    "\n",
    "score = f1_score(test_y, y_pred)\n",
    "print(f'f1 score: {score}')"
   ]
  },
  {
   "cell_type": "code",
   "execution_count": 147,
   "metadata": {},
   "outputs": [
    {
     "data": {
      "text/plain": [
       "<sklearn.metrics._plot.confusion_matrix.ConfusionMatrixDisplay at 0x25239b72358>"
      ]
     },
     "execution_count": 147,
     "metadata": {},
     "output_type": "execute_result"
    },
    {
     "data": {
      "image/png": "[encoded data removed]",
      "text/plain": [
       "<Figure size 640x480 with 2 Axes>"
      ]
     },
     "metadata": {},
     "output_type": "display_data"
    }
   ],
   "source": [
    "cm = confusion_matrix(test_y, y_pred)\n",
    "ConfusionMatrixDisplay(confusion_matrix=cm).plot()"
   ]
  },
  {
   "cell_type": "code",
   "execution_count": 148,
   "metadata": {},
   "outputs": [
    {
     "data": {
      "text/plain": [
       "GridSearchCV(cv=5, estimator=RandomForestClassifier(max_features='log2'),\n",
       "             param_grid={'max_depth': [12, 13, 14, 15, 16],\n",
       "                         'n_estimators': [350, 400, 450]},\n",
       "             scoring=make_scorer(f1_score))"
      ]
     },
     "execution_count": 148,
     "metadata": {},
     "output_type": "execute_result"
    }
   ],
   "source": [
    "from sklearn.metrics import make_scorer\n",
    "from sklearn.model_selection import GridSearchCV\n",
    "\n",
    "rf_clf = RandomForestClassifier(criterion='gini', max_features='log2')\n",
    "\n",
    "grid = {\n",
    "    'n_estimators': [350,400,450],\n",
    "    'max_depth' : [12,13,14,15,16],\n",
    "}\n",
    "\n",
    "scoring = make_scorer(f1_score)\n",
    "\n",
    "grid_search = GridSearchCV(estimator=rf_clf, param_grid=grid, scoring=scoring, cv=5)\n",
    "\n",
    "grid_search.fit(X_train_pca, train_y)"
   ]
  },
  {
   "cell_type": "code",
   "execution_count": 149,
   "metadata": {},
   "outputs": [
    {
     "data": {
      "text/plain": [
       "{'max_depth': 16, 'n_estimators': 450}"
      ]
     },
     "execution_count": 149,
     "metadata": {},
     "output_type": "execute_result"
    }
   ],
   "source": [
    "grid_search.best_params_"
   ]
  },
  {
   "cell_type": "code",
   "execution_count": 150,
   "metadata": {},
   "outputs": [
    {
     "data": {
      "text/plain": [
       "RandomForestClassifier(max_depth=16, n_estimators=450)"
      ]
     },
     "execution_count": 150,
     "metadata": {},
     "output_type": "execute_result"
    }
   ],
   "source": [
    "rf_clf = RandomForestClassifier(**grid_search.best_params_)\n",
    "rf_clf.fit(X_train_pca, train_y)"
   ]
  },
  {
   "cell_type": "code",
   "execution_count": 151,
   "metadata": {},
   "outputs": [
    {
     "name": "stdout",
     "output_type": "stream",
     "text": [
      "f1 score: 0.35492957746478876\n"
     ]
    }
   ],
   "source": [
    "y_pred = rf_clf.predict(X_test_pca)\n",
    "\n",
    "score = f1_score(test_y, y_pred)\n",
    "print(f'f1 score: {score}')"
   ]
  },
  {
   "cell_type": "code",
   "execution_count": 152,
   "metadata": {},
   "outputs": [
    {
     "data": {
      "text/plain": [
       "<sklearn.metrics._plot.confusion_matrix.ConfusionMatrixDisplay at 0x25239caad68>"
      ]
     },
     "execution_count": 152,
     "metadata": {},
     "output_type": "execute_result"
    },
    {
     "data": {
      "image/png": "[encoded data removed]",
      "text/plain": [
       "<Figure size 640x480 with 2 Axes>"
      ]
     },
     "metadata": {},
     "output_type": "display_data"
    }
   ],
   "source": [
    "cm = confusion_matrix(test_y, y_pred)\n",
    "ConfusionMatrixDisplay(confusion_matrix=cm).plot()"
   ]
  },
  {
   "cell_type": "code",
   "execution_count": 153,
   "metadata": {},
   "outputs": [
    {
     "data": {
      "text/plain": [
       "SVC()"
      ]
     },
     "execution_count": 153,
     "metadata": {},
     "output_type": "execute_result"
    }
   ],
   "source": [
    "from sklearn.svm import SVC\n",
    "\n",
    "svc_clf = SVC()\n",
    "svc_clf.fit(X_train_pca, train_y)"
   ]
  },
  {
   "cell_type": "code",
   "execution_count": 154,
   "metadata": {},
   "outputs": [
    {
     "name": "stdout",
     "output_type": "stream",
     "text": [
      "f1 score: 0.40540540540540543\n"
     ]
    }
   ],
   "source": [
    "y_pred = svc_clf.predict(X_test_pca)\n",
    "\n",
    "score = f1_score(test_y, y_pred)\n",
    "print(f'f1 score: {score}')"
   ]
  },
  {
   "cell_type": "code",
   "execution_count": 155,
   "metadata": {},
   "outputs": [
    {
     "data": {
      "text/plain": [
       "<sklearn.metrics._plot.confusion_matrix.ConfusionMatrixDisplay at 0x2523999ed30>"
      ]
     },
     "execution_count": 155,
     "metadata": {},
     "output_type": "execute_result"
    },
    {
     "data": {
      "image/png": "[encoded data removed]",
      "text/plain": [
       "<Figure size 640x480 with 2 Axes>"
      ]
     },
     "metadata": {},
     "output_type": "display_data"
    }
   ],
   "source": [
    "cm = confusion_matrix(test_y, y_pred)\n",
    "ConfusionMatrixDisplay(confusion_matrix=cm).plot()"
   ]
  },
  {
   "cell_type": "code",
   "execution_count": 156,
   "metadata": {},
   "outputs": [
    {
     "data": {
      "text/plain": [
       "KNeighborsClassifier()"
      ]
     },
     "execution_count": 156,
     "metadata": {},
     "output_type": "execute_result"
    }
   ],
   "source": [
    "from sklearn.neighbors import KNeighborsClassifier\n",
    "\n",
    "knn_clf = KNeighborsClassifier()\n",
    "knn_clf.fit(X_train_pca, train_y)"
   ]
  },
  {
   "cell_type": "code",
   "execution_count": 157,
   "metadata": {},
   "outputs": [
    {
     "name": "stdout",
     "output_type": "stream",
     "text": [
      "f1 score: 0.4233009708737864\n"
     ]
    }
   ],
   "source": [
    "y_pred = knn_clf.predict(X_test_pca)\n",
    "\n",
    "score = f1_score(test_y, y_pred)\n",
    "print(f'f1 score: {score}')"
   ]
  },
  {
   "cell_type": "code",
   "execution_count": 158,
   "metadata": {},
   "outputs": [
    {
     "data": {
      "text/plain": [
       "<sklearn.metrics._plot.confusion_matrix.ConfusionMatrixDisplay at 0x25239c189b0>"
      ]
     },
     "execution_count": 158,
     "metadata": {},
     "output_type": "execute_result"
    },
    {
     "data": {
      "image/png": "[encoded data removed]",
      "text/plain": [
       "<Figure size 640x480 with 2 Axes>"
      ]
     },
     "metadata": {},
     "output_type": "display_data"
    }
   ],
   "source": [
    "cm = confusion_matrix(test_y, y_pred)\n",
    "ConfusionMatrixDisplay(confusion_matrix=cm).plot()"
   ]
  },
  {
   "cell_type": "code",
   "execution_count": 159,
   "metadata": {},
   "outputs": [
    {
     "data": {
      "text/plain": [
       "GaussianNB()"
      ]
     },
     "execution_count": 159,
     "metadata": {},
     "output_type": "execute_result"
    }
   ],
   "source": [
    "from sklearn.naive_bayes import GaussianNB\n",
    "\n",
    "nb_clf = GaussianNB()\n",
    "nb_clf.fit(X_train_pca, train_y)"
   ]
  },
  {
   "cell_type": "code",
   "execution_count": 160,
   "metadata": {},
   "outputs": [
    {
     "name": "stdout",
     "output_type": "stream",
     "text": [
      "f1 score: 0.34929577464788736\n"
     ]
    }
   ],
   "source": [
    "y_pred = nb_clf.predict(X_test_pca)\n",
    "\n",
    "score = f1_score(test_y, y_pred)\n",
    "print(f'f1 score: {score}')"
   ]
  },
  {
   "cell_type": "code",
   "execution_count": 161,
   "metadata": {},
   "outputs": [
    {
     "data": {
      "text/plain": [
       "<sklearn.metrics._plot.confusion_matrix.ConfusionMatrixDisplay at 0x25239e3bf28>"
      ]
     },
     "execution_count": 161,
     "metadata": {},
     "output_type": "execute_result"
    },
    {
     "data": {
      "image/png": "[encoded data removed]",
      "text/plain": [
       "<Figure size 640x480 with 2 Axes>"
      ]
     },
     "metadata": {},
     "output_type": "display_data"
    }
   ],
   "source": [
    "cm = confusion_matrix(test_y, y_pred)\n",
    "ConfusionMatrixDisplay(confusion_matrix=cm).plot()"
   ]
  },
  {
   "cell_type": "code",
   "execution_count": 162,
   "metadata": {},
   "outputs": [],
   "source": [
    "from sklearn.ensemble import VotingClassifier\n",
    "from sklearn.linear_model import LogisticRegression\n",
    "from sklearn.tree import DecisionTreeClassifier\n",
    "\n",
    "clf1 = LogisticRegression()\n",
    "clf2 = DecisionTreeClassifier()\n",
    "clf3 = nb_clf\n",
    "clf4 = knn_clf\n",
    "clf5 = svc_clf\n",
    "clf6 = rf_clf"
   ]
  },
  {
   "cell_type": "code",
   "execution_count": 163,
   "metadata": {},
   "outputs": [
    {
     "data": {
      "text/plain": [
       "VotingClassifier(estimators=[('lr', LogisticRegression()),\n",
       "                             ('dt', DecisionTreeClassifier()),\n",
       "                             ('nb', GaussianNB()),\n",
       "                             ('knn', KNeighborsClassifier()), ('svc', SVC()),\n",
       "                             ('rf',\n",
       "                              RandomForestClassifier(max_depth=16,\n",
       "                                                     n_estimators=450))])"
      ]
     },
     "execution_count": 163,
     "metadata": {},
     "output_type": "execute_result"
    }
   ],
   "source": [
    "ensemble_clf = VotingClassifier(\n",
    "    estimators=[('lr', clf1),\n",
    "                ('dt', clf2),\n",
    "                ('nb', clf3),\n",
    "                ('knn', clf4),\n",
    "                ('svc', clf5),\n",
    "                ('rf', clf6)],\n",
    "    voting='hard'\n",
    ")\n",
    "\n",
    "ensemble_clf.fit(X_train_pca, train_y)"
   ]
  },
  {
   "cell_type": "code",
   "execution_count": 164,
   "metadata": {},
   "outputs": [
    {
     "name": "stdout",
     "output_type": "stream",
     "text": [
      "f1 score: 0.3723723723723724\n"
     ]
    }
   ],
   "source": [
    "y_pred = ensemble_clf.predict(X_test_pca)\n",
    "\n",
    "score = f1_score(test_y, y_pred)\n",
    "print(f'f1 score: {score}')"
   ]
  },
  {
   "cell_type": "code",
   "execution_count": 165,
   "metadata": {},
   "outputs": [
    {
     "data": {
      "text/plain": [
       "<sklearn.metrics._plot.confusion_matrix.ConfusionMatrixDisplay at 0x25239bf5a20>"
      ]
     },
     "execution_count": 165,
     "metadata": {},
     "output_type": "execute_result"
    },
    {
     "data": {
      "image/png": "[encoded data removed]",
      "text/plain": [
       "<Figure size 640x480 with 2 Axes>"
      ]
     },
     "metadata": {},
     "output_type": "display_data"
    }
   ],
   "source": [
    "cm = confusion_matrix(test_y, y_pred)\n",
    "ConfusionMatrixDisplay(confusion_matrix=cm).plot()"
   ]
  },
  {
   "cell_type": "code",
   "execution_count": 166,
   "metadata": {},
   "outputs": [],
   "source": [
    "LEARNING_RATE = 0.5\n",
    "\n",
    "\n",
    "keras_model = tf.keras.Sequential([\n",
    "    tf.keras.layers.Dense(1000, activation='relu'),\n",
    "    tf.keras.layers.BatchNormalization(),\n",
    "    tf.keras.layers.Dropout(0.7),\n",
    "    tf.keras.layers.Dense(300, activation='relu'),\n",
    "    tf.keras.layers.BatchNormalization(),\n",
    "    tf.keras.layers.Dropout(0.7),\n",
    "    tf.keras.layers.Dense(50, activation='relu'),\n",
    "    tf.keras.layers.BatchNormalization(),\n",
    "    tf.keras.layers.Dropout(0.5),\n",
    "    tf.keras.layers.Dense(1, activation='sigmoid'),\n",
    "])"
   ]
  },
  {
   "cell_type": "code",
   "execution_count": 167,
   "metadata": {},
   "outputs": [
    {
     "name": "stdout",
     "output_type": "stream",
     "text": [
      "Epoch 1/200\n",
      "184/184 [==============================] - 1s 7ms/step - loss: 1.5490 - accuracy: 0.5238 - recall_2: 0.4574 - precision_2: 0.4734 - val_loss: 1.2592 - val_accuracy: 0.6177 - val_recall_2: 0.7877 - val_precision_2: 0.5573\n",
      "Epoch 2/200\n",
      "184/184 [==============================] - 1s 6ms/step - loss: 1.7030 - accuracy: 0.5184 - recall_2: 0.4597 - precision_2: 0.4677 - val_loss: 1.9485 - val_accuracy: 0.4121 - val_recall_2: 0.5307 - val_precision_2: 0.3931\n",
      "Epoch 3/200\n",
      "184/184 [==============================] - 1s 6ms/step - loss: 1.5535 - accuracy: 0.5161 - recall_2: 0.4533 - precision_2: 0.4650 - val_loss: 1.4605 - val_accuracy: 0.6151 - val_recall_2: 0.3333 - val_precision_2: 0.6533\n",
      "Epoch 4/200\n",
      "184/184 [==============================] - 1s 6ms/step - loss: 1.2876 - accuracy: 0.5165 - recall_2: 0.4574 - precision_2: 0.4656 - val_loss: 1.1555 - val_accuracy: 0.5786 - val_recall_2: 0.1322 - val_precision_2: 0.7030\n",
      "Epoch 5/200\n",
      "184/184 [==============================] - 1s 6ms/step - loss: 1.3369 - accuracy: 0.5192 - recall_2: 0.4488 - precision_2: 0.4679 - val_loss: 0.6878 - val_accuracy: 0.5777 - val_recall_2: 0.8324 - val_precision_2: 0.5234\n",
      "Epoch 6/200\n",
      "184/184 [==============================] - 1s 6ms/step - loss: 1.9147 - accuracy: 0.5246 - recall_2: 0.4672 - precision_2: 0.4748 - val_loss: 0.7442 - val_accuracy: 0.6177 - val_recall_2: 0.6890 - val_precision_2: 0.5666\n",
      "Epoch 7/200\n",
      "184/184 [==============================] - 1s 6ms/step - loss: 1.9423 - accuracy: 0.5228 - recall_2: 0.4668 - precision_2: 0.4728 - val_loss: 0.9027 - val_accuracy: 0.6143 - val_recall_2: 0.5196 - val_precision_2: 0.5874\n",
      "Epoch 8/200\n",
      "184/184 [==============================] - 1s 6ms/step - loss: 2.7378 - accuracy: 0.5243 - recall_2: 0.4762 - precision_2: 0.4749 - val_loss: 0.7693 - val_accuracy: 0.6109 - val_recall_2: 0.2719 - val_precision_2: 0.6854\n",
      "Epoch 9/200\n",
      "184/184 [==============================] - 1s 6ms/step - loss: 0.7872 - accuracy: 0.5593 - recall_2: 0.4041 - precision_2: 0.5173 - val_loss: 0.6512 - val_accuracy: 0.6364 - val_recall_2: 0.3724 - val_precision_2: 0.6873\n",
      "Epoch 10/200\n",
      "184/184 [==============================] - 1s 6ms/step - loss: 0.6874 - accuracy: 0.5700 - recall_2: 0.3764 - precision_2: 0.5361 - val_loss: 0.6645 - val_accuracy: 0.5556 - val_recall_2: 0.0298 - val_precision_2: 0.8889\n",
      "Epoch 11/200\n",
      "184/184 [==============================] - 1s 6ms/step - loss: 0.6907 - accuracy: 0.5639 - recall_2: 0.3846 - precision_2: 0.5254 - val_loss: 0.6679 - val_accuracy: 0.5523 - val_recall_2: 0.0242 - val_precision_2: 0.8125\n",
      "Epoch 12/200\n",
      "184/184 [==============================] - 1s 6ms/step - loss: 0.7056 - accuracy: 0.5593 - recall_2: 0.3966 - precision_2: 0.5176 - val_loss: 0.6743 - val_accuracy: 0.5455 - val_recall_2: 0.0093 - val_precision_2: 0.6250\n",
      "Epoch 13/200\n",
      "184/184 [==============================] - 1s 6ms/step - loss: 0.7106 - accuracy: 0.5586 - recall_2: 0.4150 - precision_2: 0.5159 - val_loss: 0.7046 - val_accuracy: 0.5455 - val_recall_2: 0.0074 - val_precision_2: 0.6667\n",
      "Epoch 14/200\n",
      "184/184 [==============================] - 1s 6ms/step - loss: 0.7248 - accuracy: 0.5505 - recall_2: 0.3974 - precision_2: 0.5048 - val_loss: 0.6619 - val_accuracy: 0.6100 - val_recall_2: 0.8063 - val_precision_2: 0.5495\n",
      "Epoch 15/200\n",
      "184/184 [==============================] - 1s 6ms/step - loss: 0.7144 - accuracy: 0.5551 - recall_2: 0.4075 - precision_2: 0.5111 - val_loss: 0.6510 - val_accuracy: 0.6245 - val_recall_2: 0.6611 - val_precision_2: 0.5772\n",
      "Epoch 16/200\n",
      "184/184 [==============================] - 1s 7ms/step - loss: 0.7244 - accuracy: 0.5612 - recall_2: 0.4383 - precision_2: 0.5184 - val_loss: 0.6837 - val_accuracy: 0.5837 - val_recall_2: 0.8305 - val_precision_2: 0.5278\n",
      "Epoch 17/200\n",
      "184/184 [==============================] - 1s 6ms/step - loss: 0.6895 - accuracy: 0.5680 - recall_2: 0.4146 - precision_2: 0.5295 - val_loss: 0.6561 - val_accuracy: 0.5837 - val_recall_2: 0.1564 - val_precision_2: 0.6942\n",
      "Epoch 18/200\n",
      "184/184 [==============================] - 1s 6ms/step - loss: 0.6796 - accuracy: 0.5829 - recall_2: 0.4086 - precision_2: 0.5536 - val_loss: 0.6607 - val_accuracy: 0.6066 - val_recall_2: 0.8101 - val_precision_2: 0.5465\n",
      "Epoch 19/200\n",
      "184/184 [==============================] - 1s 6ms/step - loss: 0.6887 - accuracy: 0.5710 - recall_2: 0.3932 - precision_2: 0.5361 - val_loss: 0.6699 - val_accuracy: 0.5786 - val_recall_2: 0.8380 - val_precision_2: 0.5239\n",
      "Epoch 20/200\n",
      "184/184 [==============================] - 1s 6ms/step - loss: 0.6906 - accuracy: 0.5804 - recall_2: 0.4353 - precision_2: 0.5461 - val_loss: 0.6681 - val_accuracy: 0.5607 - val_recall_2: 0.0559 - val_precision_2: 0.7500\n",
      "Epoch 21/200\n",
      "184/184 [==============================] - 1s 6ms/step - loss: 0.6882 - accuracy: 0.5768 - recall_2: 0.4128 - precision_2: 0.5432 - val_loss: 0.6969 - val_accuracy: 0.5480 - val_recall_2: 0.0093 - val_precision_2: 1.0000\n",
      "Epoch 22/200\n",
      "184/184 [==============================] - 1s 6ms/step - loss: 0.6874 - accuracy: 0.5755 - recall_2: 0.3992 - precision_2: 0.5426 - val_loss: 0.6821 - val_accuracy: 0.5310 - val_recall_2: 0.2067 - val_precision_2: 0.4684\n",
      "Epoch 23/200\n",
      "184/184 [==============================] - 1s 6ms/step - loss: 0.6994 - accuracy: 0.5615 - recall_2: 0.4131 - precision_2: 0.5201 - val_loss: 0.6469 - val_accuracy: 0.6228 - val_recall_2: 0.7747 - val_precision_2: 0.5629\n",
      "Epoch 24/200\n",
      "184/184 [==============================] - 1s 6ms/step - loss: 0.6746 - accuracy: 0.5914 - recall_2: 0.4469 - precision_2: 0.5615 - val_loss: 0.6488 - val_accuracy: 0.6262 - val_recall_2: 0.5084 - val_precision_2: 0.6080\n",
      "Epoch 25/200\n",
      "184/184 [==============================] - 1s 6ms/step - loss: 0.6717 - accuracy: 0.5863 - recall_2: 0.4210 - precision_2: 0.5574 - val_loss: 0.6481 - val_accuracy: 0.5939 - val_recall_2: 0.2142 - val_precision_2: 0.6725\n",
      "Epoch 26/200\n",
      "184/184 [==============================] - 1s 6ms/step - loss: 0.6791 - accuracy: 0.5770 - recall_2: 0.4165 - precision_2: 0.5431 - val_loss: 0.6512 - val_accuracy: 0.6262 - val_recall_2: 0.4525 - val_precision_2: 0.6247\n",
      "Epoch 27/200\n",
      "184/184 [==============================] - 1s 6ms/step - loss: 0.6696 - accuracy: 0.5923 - recall_2: 0.4244 - precision_2: 0.5666 - val_loss: 0.6443 - val_accuracy: 0.6185 - val_recall_2: 0.3073 - val_precision_2: 0.6818\n",
      "Epoch 28/200\n",
      "184/184 [==============================] - 1s 6ms/step - loss: 0.6778 - accuracy: 0.5755 - recall_2: 0.4094 - precision_2: 0.5414 - val_loss: 0.6429 - val_accuracy: 0.6321 - val_recall_2: 0.5791 - val_precision_2: 0.6004\n",
      "Epoch 29/200\n",
      "184/184 [==============================] - 1s 6ms/step - loss: 0.6771 - accuracy: 0.5921 - recall_2: 0.4345 - precision_2: 0.5646 - val_loss: 0.6480 - val_accuracy: 0.6245 - val_recall_2: 0.7672 - val_precision_2: 0.5652\n",
      "Epoch 30/200\n",
      "184/184 [==============================] - 1s 6ms/step - loss: 0.6704 - accuracy: 0.5862 - recall_2: 0.4522 - precision_2: 0.5528 - val_loss: 0.6720 - val_accuracy: 0.5828 - val_recall_2: 0.8305 - val_precision_2: 0.5272\n",
      "Epoch 31/200\n",
      "184/184 [==============================] - 1s 6ms/step - loss: 0.6713 - accuracy: 0.5880 - recall_2: 0.4375 - precision_2: 0.5576 - val_loss: 0.6431 - val_accuracy: 0.6304 - val_recall_2: 0.6201 - val_precision_2: 0.5904\n",
      "Epoch 32/200\n",
      "184/184 [==============================] - 1s 6ms/step - loss: 0.6694 - accuracy: 0.5942 - recall_2: 0.4390 - precision_2: 0.5671 - val_loss: 0.6519 - val_accuracy: 0.6245 - val_recall_2: 0.7616 - val_precision_2: 0.5657\n",
      "Epoch 33/200\n",
      "184/184 [==============================] - 1s 6ms/step - loss: 0.6630 - accuracy: 0.6013 - recall_2: 0.4555 - precision_2: 0.5756 - val_loss: 0.6540 - val_accuracy: 0.6270 - val_recall_2: 0.6406 - val_precision_2: 0.5831\n",
      "Epoch 34/200\n",
      "184/184 [==============================] - 1s 6ms/step - loss: 0.6667 - accuracy: 0.5889 - recall_2: 0.4488 - precision_2: 0.5573 - val_loss: 0.6483 - val_accuracy: 0.6228 - val_recall_2: 0.7877 - val_precision_2: 0.5618\n",
      "Epoch 35/200\n",
      "184/184 [==============================] - 1s 6ms/step - loss: 0.6675 - accuracy: 0.5838 - recall_2: 0.4221 - precision_2: 0.5531 - val_loss: 0.6393 - val_accuracy: 0.6330 - val_recall_2: 0.5493 - val_precision_2: 0.6082\n",
      "Epoch 36/200\n",
      "184/184 [==============================] - 1s 6ms/step - loss: 0.6687 - accuracy: 0.5855 - recall_2: 0.4338 - precision_2: 0.5542 - val_loss: 0.6552 - val_accuracy: 0.6202 - val_recall_2: 0.3222 - val_precision_2: 0.6758\n",
      "Epoch 37/200\n",
      "184/184 [==============================] - 1s 6ms/step - loss: 0.6657 - accuracy: 0.5955 - recall_2: 0.4480 - precision_2: 0.5678 - val_loss: 0.6478 - val_accuracy: 0.6253 - val_recall_2: 0.7821 - val_precision_2: 0.5645\n",
      "Epoch 38/200\n",
      "184/184 [==============================] - 1s 6ms/step - loss: 0.6608 - accuracy: 0.6027 - recall_2: 0.5032 - precision_2: 0.5694 - val_loss: 0.6424 - val_accuracy: 0.6228 - val_recall_2: 0.6629 - val_precision_2: 0.5751\n",
      "Epoch 39/200\n",
      "184/184 [==============================] - 1s 6ms/step - loss: 0.6623 - accuracy: 0.5947 - recall_2: 0.4687 - precision_2: 0.5631 - val_loss: 0.6421 - val_accuracy: 0.6355 - val_recall_2: 0.7151 - val_precision_2: 0.5818\n",
      "Epoch 40/200\n",
      "184/184 [==============================] - 1s 7ms/step - loss: 0.6623 - accuracy: 0.6064 - recall_2: 0.5017 - precision_2: 0.5751 - val_loss: 0.6411 - val_accuracy: 0.6270 - val_recall_2: 0.6257 - val_precision_2: 0.5854\n",
      "Epoch 41/200\n",
      "184/184 [==============================] - 1s 6ms/step - loss: 0.6652 - accuracy: 0.5943 - recall_2: 0.4522 - precision_2: 0.5652 - val_loss: 0.6472 - val_accuracy: 0.6364 - val_recall_2: 0.4823 - val_precision_2: 0.6333\n",
      "Epoch 42/200\n",
      "184/184 [==============================] - 1s 6ms/step - loss: 0.6591 - accuracy: 0.6081 - recall_2: 0.4867 - precision_2: 0.5803 - val_loss: 0.6360 - val_accuracy: 0.6304 - val_recall_2: 0.6350 - val_precision_2: 0.5879\n",
      "Epoch 43/200\n",
      "184/184 [==============================] - 1s 6ms/step - loss: 0.6638 - accuracy: 0.5970 - recall_2: 0.4923 - precision_2: 0.5631 - val_loss: 0.6408 - val_accuracy: 0.6287 - val_recall_2: 0.5959 - val_precision_2: 0.5926\n",
      "Epoch 44/200\n",
      "184/184 [==============================] - 1s 6ms/step - loss: 0.6608 - accuracy: 0.6028 - recall_2: 0.4886 - precision_2: 0.5721 - val_loss: 0.6388 - val_accuracy: 0.6245 - val_recall_2: 0.6387 - val_precision_2: 0.5804\n",
      "Epoch 45/200\n",
      "184/184 [==============================] - 1s 7ms/step - loss: 0.6614 - accuracy: 0.6008 - recall_2: 0.4769 - precision_2: 0.5710 - val_loss: 0.6404 - val_accuracy: 0.6296 - val_recall_2: 0.5996 - val_precision_2: 0.5930\n",
      "Epoch 46/200\n",
      "184/184 [==============================] - 1s 6ms/step - loss: 0.6607 - accuracy: 0.6066 - recall_2: 0.4754 - precision_2: 0.5801 - val_loss: 0.6389 - val_accuracy: 0.6432 - val_recall_2: 0.4618 - val_precision_2: 0.6544\n",
      "Epoch 47/200\n",
      "184/184 [==============================] - 1s 6ms/step - loss: 0.6605 - accuracy: 0.6010 - recall_2: 0.4634 - precision_2: 0.5736 - val_loss: 0.6407 - val_accuracy: 0.6236 - val_recall_2: 0.6555 - val_precision_2: 0.5770\n",
      "Epoch 48/200\n",
      "184/184 [==============================] - 1s 6ms/step - loss: 0.6629 - accuracy: 0.6006 - recall_2: 0.4657 - precision_2: 0.5727 - val_loss: 0.6430 - val_accuracy: 0.6304 - val_recall_2: 0.6276 - val_precision_2: 0.5892\n",
      "Epoch 49/200\n",
      "184/184 [==============================] - 1s 6ms/step - loss: 0.6551 - accuracy: 0.6142 - recall_2: 0.5310 - precision_2: 0.5811 - val_loss: 0.6435 - val_accuracy: 0.6398 - val_recall_2: 0.4972 - val_precision_2: 0.6342\n",
      "Epoch 50/200\n",
      "184/184 [==============================] - 1s 6ms/step - loss: 0.6605 - accuracy: 0.6115 - recall_2: 0.4893 - precision_2: 0.5850 - val_loss: 0.6423 - val_accuracy: 0.6347 - val_recall_2: 0.6089 - val_precision_2: 0.5978\n",
      "Epoch 51/200\n",
      "184/184 [==============================] - 1s 6ms/step - loss: 0.6614 - accuracy: 0.6001 - recall_2: 0.4683 - precision_2: 0.5714 - val_loss: 0.6442 - val_accuracy: 0.6338 - val_recall_2: 0.5568 - val_precision_2: 0.6077\n",
      "Epoch 52/200\n",
      "184/184 [==============================] - 1s 6ms/step - loss: 0.6603 - accuracy: 0.5965 - recall_2: 0.4799 - precision_2: 0.5642 - val_loss: 0.6394 - val_accuracy: 0.6253 - val_recall_2: 0.6480 - val_precision_2: 0.5800\n",
      "Epoch 53/200\n",
      "184/184 [==============================] - 1s 6ms/step - loss: 0.6590 - accuracy: 0.6049 - recall_2: 0.4852 - precision_2: 0.5757 - val_loss: 0.6404 - val_accuracy: 0.6330 - val_recall_2: 0.6965 - val_precision_2: 0.5816\n",
      "Epoch 54/200\n",
      "184/184 [==============================] - 1s 6ms/step - loss: 0.6584 - accuracy: 0.6105 - recall_2: 0.5392 - precision_2: 0.5746 - val_loss: 0.6431 - val_accuracy: 0.6313 - val_recall_2: 0.6071 - val_precision_2: 0.5938\n",
      "Epoch 55/200\n",
      "184/184 [==============================] - 1s 6ms/step - loss: 0.6555 - accuracy: 0.6072 - recall_2: 0.5028 - precision_2: 0.5761 - val_loss: 0.6381 - val_accuracy: 0.6304 - val_recall_2: 0.6089 - val_precision_2: 0.5924\n",
      "Epoch 56/200\n",
      "184/184 [==============================] - 1s 6ms/step - loss: 0.6582 - accuracy: 0.6054 - recall_2: 0.5182 - precision_2: 0.5709 - val_loss: 0.6397 - val_accuracy: 0.6321 - val_recall_2: 0.6425 - val_precision_2: 0.5887\n",
      "Epoch 57/200\n",
      "184/184 [==============================] - 1s 6ms/step - loss: 0.6584 - accuracy: 0.6044 - recall_2: 0.4912 - precision_2: 0.5739 - val_loss: 0.6397 - val_accuracy: 0.6228 - val_recall_2: 0.6480 - val_precision_2: 0.5771\n"
     ]
    }
   ],
   "source": [
    "X_train, X_val, y_train, y_val = train_test_split(X_train_pca, train_y, test_size=0.2)\n",
    "\n",
    "X_train = np.array(train_X)\n",
    "y_train = np.array(train_y)\n",
    "\n",
    "X_val = np.array(X_val)\n",
    "y_val = np.array(y_val)\n",
    "\n",
    "X_test = np.array(test_X)\n",
    "y_test = np.array(test_y)\n",
    "\n",
    "X_train = tf.convert_to_tensor(X_train)\n",
    "y_train = tf.convert_to_tensor(y_train)\n",
    "\n",
    "X_val = tf.convert_to_tensor(X_val)\n",
    "y_val = tf.convert_to_tensor(y_val)\n",
    "\n",
    "X_test = tf.convert_to_tensor(X_test)\n",
    "y_test = tf.convert_to_tensor(y_test)\n",
    "\n",
    "\n",
    "es = tf.keras.callbacks.EarlyStopping(monitor='val_loss', patience=15)\n",
    "lrr = tf.keras.callbacks.ReduceLROnPlateau(monitor='val_accuracy', \n",
    "                                            patience=7, \n",
    "                                            factor=0.5, \n",
    "                                            min_lr=0.00001)\n",
    "\n",
    "adam = tf.keras.optimizers.Adam(learning_rate=LEARNING_RATE)\n",
    "\n",
    "\n",
    "precision = tf.keras.metrics.Precision()\n",
    "recall = tf.keras.metrics.Recall()\n",
    "\n",
    "keras_model.compile(\n",
    "    optimizer=adam,\n",
    "    loss='binary_crossentropy',\n",
    "    metrics=['accuracy', recall, precision],\n",
    ")\n",
    "\n",
    "\n",
    "history = keras_model.fit(X_train_pca, y_train, epochs=200, validation_data=(X_val, y_val), callbacks=[es, lrr])"
   ]
  },
  {
   "cell_type": "code",
   "execution_count": 168,
   "metadata": {},
   "outputs": [
    {
     "name": "stdout",
     "output_type": "stream",
     "text": [
      "f1 score: 0.44955752212389377\n"
     ]
    }
   ],
   "source": [
    "y_pred = keras_model.predict(X_test_pca)\n",
    "\n",
    "threshold = 0.5\n",
    "\n",
    "y_pred = np.where(y_pred > 0.5, 1, 0)\n",
    "\n",
    "score = f1_score(test_y, y_pred)\n",
    "print(f'f1 score: {score}')"
   ]
  },
  {
   "cell_type": "code",
   "execution_count": 169,
   "metadata": {},
   "outputs": [
    {
     "data": {
      "text/plain": [
       "<sklearn.metrics._plot.confusion_matrix.ConfusionMatrixDisplay at 0x2523a04ed30>"
      ]
     },
     "execution_count": 169,
     "metadata": {},
     "output_type": "execute_result"
    },
    {
     "data": {
      "image/png": "[encoded data removed]",
      "text/plain": [
       "<Figure size 640x480 with 2 Axes>"
      ]
     },
     "metadata": {},
     "output_type": "display_data"
    }
   ],
   "source": [
    "cm = confusion_matrix(test_y, y_pred)\n",
    "ConfusionMatrixDisplay(confusion_matrix=cm).plot()"
   ]
  },
  {
   "cell_type": "code",
   "execution_count": 1,
   "metadata": {},
   "outputs": [],
   "source": [
    "import model_stats as ms"
   ]
  },
  {
   "cell_type": "code",
   "execution_count": null,
   "metadata": {},
   "outputs": [],
   "source": []
  }
 ],
 "metadata": {
  "kernelspec": {
   "display_name": "ml-for-chemists-tf2",
   "language": "python",
   "name": "python3"
  },
  "language_info": {
   "codemirror_mode": {
    "name": "ipython",
    "version": 3
   },
   "file_extension": ".py",
   "mimetype": "text/x-python",
   "name": "python",
   "nbconvert_exporter": "python",
   "pygments_lexer": "ipython3",
   "version": "3.7.0"
  },
  "orig_nbformat": 4
 },
 "nbformat": 4,
 "nbformat_minor": 2
}
