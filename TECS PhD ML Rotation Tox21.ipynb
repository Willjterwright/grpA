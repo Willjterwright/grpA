{
  "cells": [
    {
      "attachments": {},
      "cell_type": "markdown",
      "id": "a249b443",
      "metadata": {
        "id": "a249b443"
      },
      "source": [
        "# TECS ML rotation:\n",
        "# What causes a molecule to be toxic and how can we predict it?\n",
        "\n",
        "\n",
        "The “Toxicology in the 21st Century” (Tox21) initiative created a public database measuring toxicity of compounds, which has been used in the 2014 Tox21 Data Challenge. This dataset contains qualitative toxicity measurements for 8k compounds on 12 different targets, including nuclear receptors and stress response pathways.\n",
        "\n",
        "Random splitting is recommended for this dataset.\n",
        "\n",
        "The raw data csv file contains columns below:\n",
        "\n",
        "“smiles” - SMILES representation of the molecular structure\n",
        "\n",
        "“NR-XXX” - Nuclear receptor signaling bioassays results\n",
        "\n",
        "“SR-XXX” - Stress response bioassays results\n",
        "\n",
        "please refer to https://tripod.nih.gov/tox21/challenge/data.jsp for details.\n",
        "\n",
        "This problem is a classification problem: Toxic/Non-toxic.\n",
        "\n",
        "References:\n",
        "1. https://moleculenet.org/ website and paper on the datasets\n",
        "2. https://deepchem.readthedocs.io/en/latest/index.html manual\n",
        "3. https://github.com/deepchem/deepchem/tree/master/examples/tutorials tutorials\n"
      ]
    },
    {
      "cell_type": "code",
      "execution_count": 2,
      "id": "363f8faf",
      "metadata": {
        "colab": {
          "base_uri": "https://localhost:8080/"
        },
        "id": "363f8faf",
        "outputId": "a27a060e-3a16-4125-df01-bbf701227167"
      },
      "outputs": [],
      "source": [
        "# lets load our libraries\n",
        "\n",
        "\n",
        "import deepchem as dc\n",
        "from rdkit import Chem\n",
        "from rdkit.Chem import Draw\n",
        "import tensorflow as tf\n",
        "\n",
        "import pandas as pd\n",
        "\n",
        "from matplotlib import pyplot as plt\n",
        "\n",
        "import numpy as np\n",
        "\n",
        "from sklearn import metrics\n",
        "from sklearn.metrics import f1_score\n",
        "\n",
        "import warnings\n"
      ]
    },
    {
      "attachments": {},
      "cell_type": "markdown",
      "id": "0e993e49",
      "metadata": {
        "id": "0e993e49"
      },
      "source": [
        "# Loading the dataset example"
      ]
    },
    {
      "cell_type": "code",
      "execution_count": 3,
      "id": "29709bf8",
      "metadata": {
        "colab": {
          "base_uri": "https://localhost:8080/"
        },
        "id": "29709bf8",
        "outputId": "0904d8ac-0669-4918-92a9-42cf094d302e"
      },
      "outputs": [
        {
          "name": "stdout",
          "output_type": "stream",
          "text": [
            "(<DiskDataset X.shape: (6264,), y.shape: (6264, 12), w.shape: (6264, 12), task_names: ['NR-AR' 'NR-AR-LBD' 'NR-AhR' ... 'SR-HSE' 'SR-MMP' 'SR-p53']>, <DiskDataset X.shape: (783,), y.shape: (783, 12), w.shape: (783, 12), ids: ['CCCCCCCCCCCCCCCCCC(=O)O[AlH3](O)O' 'Nc1ccc(Br)cc1'\n",
            " 'CC(C)(CCC(=O)O)C(=O)O' ... 'O=C1OC(=O)C2CC=CCC12'\n",
            " 'CCCC[Sn](CCCC)(OC(C)=O)OC(C)=O' 'CCOC(=O)N(C)N=O'], task_names: ['NR-AR' 'NR-AR-LBD' 'NR-AhR' ... 'SR-HSE' 'SR-MMP' 'SR-p53']>, <DiskDataset X.shape: (784,), y.shape: (784, 12), w.shape: (784, 12), ids: ['CCc1nn(C2CCCCC2)c2cc([C@]3(C#N)CC[C@@H](C(=O)O)CC3)ccc12' 'O=C(O)CBr'\n",
            " 'CCc1cc(C(N)=S)ccn1' ... 'CC(C)(S)C(=O)N[C@@H](CS)C(=O)O'\n",
            " 'CC1(C)C(/C=C\\\\C=C/C=C\\\\C=C2\\\\N(CCCCS(=O)(=O)[O-])c3ccc4ccccc4c3C2(C)C)=[N+](CCCCS(=O)(=O)[O-])c2ccc3ccccc3c21'\n",
            " 'C[C@]12CCC(=O)C[C@@H]1CC[C@@H]1[C@@H]2CC[C@@]2(C)[C@H]1CC[C@]2(C)O'], task_names: ['NR-AR' 'NR-AR-LBD' 'NR-AhR' ... 'SR-HSE' 'SR-MMP' 'SR-p53']>)\n"
          ]
        }
      ],
      "source": [
        "# this line loads the  dataset - we are using the extended connectivity fingerprints here,\n",
        "# there are several featurizers for you to try\n",
        "# the splitter splits the dataset for you, refer to the MoleculeNet paper to see which one you need\n",
        "tasks, datasets, transformers = dc.molnet.load_tox21(\n",
        "    featurizer='GraphConv',\n",
        "    splitter='random')\n",
        "\n",
        "print(datasets)\n",
        "# the datasets object is already split into the train, validation and test dataset\n",
        "train_dataset, valid_dataset, test_dataset = datasets\n",
        "## N.B. Some molecules may not featurize and you'll get a warning this is OK"
      ]
    },
    {
      "cell_type": "code",
      "execution_count": 39,
      "id": "96202a14",
      "metadata": {},
      "outputs": [
        {
          "data": {
            "text/plain": [
              "<bound method DiskDataset.get_shape of <DiskDataset X.shape: (6264,), y.shape: (6264, 12), w.shape: (6264, 12), task_names: ['NR-AR' 'NR-AR-LBD' 'NR-AhR' ... 'SR-HSE' 'SR-MMP' 'SR-p53']>>"
            ]
          },
          "execution_count": 39,
          "metadata": {},
          "output_type": "execute_result"
        }
      ],
      "source": [
        "train_dataset.get_shape"
      ]
    },
    {
      "attachments": {},
      "cell_type": "markdown",
      "id": "534df57d",
      "metadata": {},
      "source": []
    },
    {
      "cell_type": "code",
      "execution_count": 40,
      "id": "0fb104d5",
      "metadata": {
        "colab": {
          "base_uri": "https://localhost:8080/"
        },
        "id": "0fb104d5",
        "outputId": "31623ae9-ac40-4370-d551-9347268c0909"
      },
      "outputs": [
        {
          "name": "stdout",
          "output_type": "stream",
          "text": [
            "<DiskDataset X.shape: (784,), y.shape: (784, 12), w.shape: (784, 12), ids: ['CCc1nn(C2CCCCC2)c2cc([C@]3(C#N)CC[C@@H](C(=O)O)CC3)ccc12' 'O=C(O)CBr'\n",
            " 'CCc1cc(C(N)=S)ccn1' ... 'CC(C)(S)C(=O)N[C@@H](CS)C(=O)O'\n",
            " 'CC1(C)C(/C=C\\\\C=C/C=C\\\\C=C2\\\\N(CCCCS(=O)(=O)[O-])c3ccc4ccccc4c3C2(C)C)=[N+](CCCCS(=O)(=O)[O-])c2ccc3ccccc3c21'\n",
            " 'C[C@]12CCC(=O)C[C@@H]1CC[C@@H]1[C@@H]2CC[C@@]2(C)[C@H]1CC[C@]2(C)O'], task_names: ['NR-AR' 'NR-AR-LBD' 'NR-AhR' ... 'SR-HSE' 'SR-MMP' 'SR-p53']>\n"
          ]
        }
      ],
      "source": [
        "# Dataset contains the input fingerprints as X, the output toxicity is stored in y, and the IDS are the smiles strings\n",
        "print(test_dataset)\n"
      ]
    },
    {
      "cell_type": "code",
      "execution_count": 41,
      "id": "fd2cfbb7",
      "metadata": {},
      "outputs": [
        {
          "data": {
            "text/plain": [
              "array([[1.0443765720445561, 1.0360893641397746, 1.1347732181425485, ...,\n",
              "        1.0605688561489666, 0.0, 15.903225806451612],\n",
              "       [1.0443765720445561, 1.0360893641397746, 1.1347732181425485, ...,\n",
              "        1.0605688561489666, 1.1919917864476386, 1.067099567099567],\n",
              "       [1.0443765720445561, 1.0360893641397746, 1.1347732181425485, ...,\n",
              "        1.0605688561489666, 1.1919917864476386, 1.067099567099567],\n",
              "       ...,\n",
              "       [1.0443765720445561, 1.0360893641397746, 1.1347732181425485, ...,\n",
              "        0.0, 1.1919917864476386, 1.067099567099567],\n",
              "       [1.0443765720445561, 0.0, 0.0, ..., 0.0, 0.0, 1.067099567099567],\n",
              "       [23.534412955465587, 28.70899470899471, 0.0, ..., 0.0, 0.0,\n",
              "        1.067099567099567]], dtype=object)"
            ]
          },
          "execution_count": 41,
          "metadata": {},
          "output_type": "execute_result"
        }
      ],
      "source": [
        "test_dataset.w"
      ]
    },
    {
      "cell_type": "code",
      "execution_count": 10,
      "id": "59fe2a51",
      "metadata": {
        "colab": {
          "base_uri": "https://localhost:8080/"
        },
        "id": "59fe2a51",
        "outputId": "c4e5c159-2ec8-4eda-fbf5-3dbbf5e4d986"
      },
      "outputs": [
        {
          "name": "stderr",
          "output_type": "stream",
          "text": [
            "c:\\ProgramData\\Anaconda3\\envs\\ml-for-chemists-tf2\\lib\\site-packages\\tensorflow\\python\\framework\\indexed_slices.py:432: UserWarning: Converting sparse IndexedSlices to a dense Tensor of unknown shape. This may consume a large amount of memory.\n",
            "  \"Converting sparse IndexedSlices to a dense Tensor of unknown shape. \"\n"
          ]
        },
        {
          "name": "stdout",
          "output_type": "stream",
          "text": [
            "training set score: {'roc_auc_score': 0.9044313943314769}\n",
            "test set score: {'roc_auc_score': 0.8030651737706336}\n"
          ]
        }
      ],
      "source": [
        "# number of epochs, you will likely need more than this\n",
        "nb_epoch = 50\n",
        "# load a simple graph convolutional neural network\n",
        "model = dc.models.GraphConvModel(n_tasks=12, mode='classification', dropout=0.2)\n",
        "# fit the model on the training dataset\n",
        "model.fit(train_dataset, nb_epoch=nb_epoch)\n",
        "# get and print the metrics\n",
        "metric = dc.metrics.Metric(dc.metrics.roc_auc_score)\n",
        "print('training set score:', model.evaluate(train_dataset, [metric]))\n",
        "print('test set score:', model.evaluate(test_dataset, [metric]))"
      ]
    },
    {
      "cell_type": "code",
      "execution_count": 11,
      "id": "04ccccfa",
      "metadata": {
        "colab": {
          "base_uri": "https://localhost:8080/"
        },
        "id": "04ccccfa",
        "outputId": "ae7c9805-e883-4013-d44e-aebb25d1cff5"
      },
      "outputs": [
        {
          "name": "stdout",
          "output_type": "stream",
          "text": [
            "Over all tasks:\n",
            "Training set score: {'roc_auc_score': 0.9044313943314769}\n",
            "Valid set score: {'roc_auc_score': 0.8061075157491433}\n",
            "Test set score: {'roc_auc_score': 0.8030651737706336}\n",
            "Per task:\n",
            "Task\t\tROC AUC\n",
            "NR-AR\t\t0.761\n",
            "NR-AR-LBD\t\t0.902\n",
            "NR-AhR\t\t0.867\n",
            "NR-Aromatase\t\t0.809\n",
            "NR-ER\t\t0.694\n",
            "NR-ER-LBD\t\t0.709\n",
            "NR-PPAR-gamma\t\t0.887\n",
            "SR-ARE\t\t0.724\n",
            "SR-ATAD5\t\t0.865\n",
            "SR-HSE\t\t0.779\n",
            "SR-MMP\t\t0.828\n",
            "SR-p53\t\t0.81\n"
          ]
        }
      ],
      "source": [
        "# this line tells deepchem what metric to use to score the datasets\n",
        "metric = dc.metrics.Metric(dc.metrics.roc_auc_score)\n",
        "\n",
        "# model.evaluate() tests the model.\n",
        "# we have to give it the data to use, the metric (or set of metrics) and the transformer used\n",
        "print('Over all tasks:')\n",
        "print(\"Training set score:\", model.evaluate(train_dataset, [metric], transformers))\n",
        "print(\"Valid set score:\", model.evaluate(valid_dataset, [metric], transformers))\n",
        "print(\"Test set score:\", model.evaluate(test_dataset, [metric], transformers))\n",
        "ground_truth = test_dataset.y\n",
        "predictions = model.predict(test_dataset)\n",
        "metric = dc.metrics.roc_auc_score\n",
        "print('Per task:')\n",
        "print('Task\\t\\tROC AUC')\n",
        "for i in range(len(test_dataset.tasks)):\n",
        "    score = metric(dc.metrics.to_one_hot(ground_truth[:,i]), predictions[:,i])\n",
        "    print('{:}\\t\\t{:.3}'.format(tasks[i],score))"
      ]
    },
    {
      "cell_type": "code",
      "execution_count": 12,
      "id": "bceca543",
      "metadata": {
        "colab": {
          "base_uri": "https://localhost:8080/",
          "height": 466
        },
        "id": "bceca543",
        "outputId": "a4c8f8e4-55f2-4075-90ef-c7c47e09a951"
      },
      "outputs": [
        {
          "data": {
            "text/plain": [
              "0.0"
            ]
          },
          "execution_count": 12,
          "metadata": {},
          "output_type": "execute_result"
        },
        {
          "data": {
            "image/png": "[encoded data removed]",
            "text/plain": [
              "<Figure size 640x480 with 1 Axes>"
            ]
          },
          "metadata": {},
          "output_type": "display_data"
        }
      ],
      "source": [
        "task_number = 1\n",
        "\n",
        "metrics.RocCurveDisplay.from_predictions(ground_truth[:,task_number], predictions[:,task_number][:,1])\n",
        "plt.plot([0,1], [0,1])\n",
        "plt.axis('square')\n",
        "\n",
        "f1_score(ground_truth[:,task_number], [int(x) for x in predictions[:,task_number][:,1]], average='binary')"
      ]
    },
    {
      "cell_type": "code",
      "execution_count": 13,
      "id": "0efa0fbf",
      "metadata": {
        "colab": {
          "base_uri": "https://localhost:8080/"
        },
        "id": "0efa0fbf",
        "outputId": "654144ee-3392-4d31-9063-9a03c80a85d2"
      },
      "outputs": [
        {
          "data": {
            "text/plain": [
              "array([0., 0., 0., 0., 0., 0., 0., 0., 0., 0., 0., 0., 0., 0., 0., 0., 0.,\n",
              "       0., 0., 0., 0., 0., 0., 0., 0., 0., 0., 0., 0., 0., 0., 0., 0., 0.,\n",
              "       0., 0., 0., 0., 0., 0., 0., 0., 0., 0., 0., 0., 0., 0., 0., 0., 0.,\n",
              "       0., 1., 0., 0., 0., 0., 0., 0., 0., 0., 0., 0., 0., 0., 0., 0., 0.,\n",
              "       0., 0., 0., 0., 0., 0., 0., 0., 0., 0., 0., 0., 0., 0., 0., 0., 0.,\n",
              "       1., 0., 0., 0., 0., 0., 0., 0., 0., 0., 0., 0., 0., 0., 0., 0., 0.,\n",
              "       0., 0., 0., 0., 0., 0., 0., 0., 0., 0., 0., 0., 0., 0., 0., 0., 0.,\n",
              "       0., 0., 0., 0., 0., 0., 0., 0., 0., 0., 0., 0., 0., 0., 0., 0., 1.,\n",
              "       0., 0., 0., 0., 0., 0., 0., 0., 0., 0., 0., 0., 0., 0., 0., 0., 0.,\n",
              "       0., 0., 0., 0., 0., 0., 0., 0., 0., 0., 0., 0., 0., 0., 0., 0., 0.,\n",
              "       0., 0., 0., 0., 0., 1., 0., 0., 0., 1., 0., 0., 0., 1., 0., 0., 0.,\n",
              "       0., 0., 0., 0., 0., 0., 0., 0., 0., 0., 0., 0., 0., 1., 0., 0., 0.,\n",
              "       0., 0., 0., 0., 0., 0., 0., 1., 0., 0., 0., 0., 0., 0., 0., 0., 0.,\n",
              "       0., 0., 0., 0., 0., 0., 0., 1., 0., 0., 0., 0., 0., 0., 0., 0., 0.,\n",
              "       0., 0., 0., 0., 0., 0., 0., 0., 0., 0., 0., 0., 0., 0., 0., 0., 0.,\n",
              "       0., 0., 0., 0., 0., 0., 0., 0., 0., 0., 0., 0., 0., 0., 0., 0., 0.,\n",
              "       0., 0., 0., 0., 0., 0., 0., 0., 0., 0., 0., 0., 0., 0., 0., 0., 0.,\n",
              "       0., 0., 0., 0., 0., 0., 0., 0., 0., 0., 1., 0., 0., 0., 0., 0., 0.,\n",
              "       0., 0., 0., 0., 0., 0., 0., 0., 0., 0., 0., 0., 0., 0., 0., 0., 0.,\n",
              "       0., 0., 0., 0., 0., 1., 0., 0., 0., 0., 0., 0., 0., 0., 0., 1., 0.,\n",
              "       0., 0., 0., 0., 0., 0., 0., 0., 0., 0., 0., 0., 0., 0., 0., 0., 0.,\n",
              "       0., 0., 0., 0., 0., 0., 0., 0., 0., 0., 0., 0., 0., 0., 0., 0., 0.,\n",
              "       0., 0., 0., 0., 0., 0., 0., 0., 0., 0., 0., 0., 0., 0., 0., 0., 0.,\n",
              "       0., 0., 0., 0., 0., 0., 0., 0., 0., 0., 0., 1., 0., 0., 0., 0., 0.,\n",
              "       0., 0., 0., 0., 0., 0., 0., 0., 0., 0., 0., 0., 0., 0., 0., 0., 0.,\n",
              "       0., 0., 0., 0., 0., 1., 0., 0., 0., 0., 0., 0., 0., 0., 0., 0., 0.,\n",
              "       0., 0., 0., 0., 0., 0., 0., 0., 0., 0., 0., 0., 0., 0., 0., 0., 0.,\n",
              "       0., 0., 0., 0., 0., 0., 0., 0., 0., 0., 0., 0., 0., 0., 0., 0., 0.,\n",
              "       0., 0., 0., 0., 1., 0., 0., 0., 0., 0., 0., 0., 0., 0., 0., 0., 0.,\n",
              "       0., 0., 0., 0., 0., 0., 0., 0., 0., 0., 0., 0., 0., 0., 0., 0., 0.,\n",
              "       0., 0., 0., 0., 0., 0., 0., 0., 0., 0., 0., 0., 0., 0., 0., 0., 0.,\n",
              "       0., 0., 0., 0., 0., 0., 0., 0., 0., 0., 0., 0., 0., 0., 0., 0., 0.,\n",
              "       0., 0., 0., 0., 0., 0., 0., 0., 0., 0., 0., 0., 0., 0., 0., 0., 0.,\n",
              "       0., 0., 0., 0., 0., 0., 0., 0., 0., 0., 0., 0., 1., 0., 0., 0., 0.,\n",
              "       0., 0., 0., 0., 0., 0., 0., 0., 0., 0., 0., 0., 0., 0., 0., 0., 0.,\n",
              "       0., 0., 0., 0., 0., 0., 0., 0., 0., 0., 0., 0., 0., 0., 0., 0., 0.,\n",
              "       0., 0., 1., 0., 0., 0., 0., 0., 0., 0., 0., 0., 0., 0., 0., 0., 0.,\n",
              "       0., 0., 0., 0., 0., 0., 0., 0., 0., 0., 0., 0., 0., 0., 0., 0., 0.,\n",
              "       0., 0., 0., 0., 0., 0., 0., 0., 0., 0., 0., 0., 0., 0., 0., 0., 0.,\n",
              "       0., 0., 0., 0., 0., 0., 0., 0., 0., 0., 0., 0., 0., 0., 0., 0., 0.,\n",
              "       0., 0., 0., 0., 0., 0., 0., 0., 0., 0., 0., 0., 0., 0., 0., 0., 0.,\n",
              "       0., 0., 0., 0., 0., 0., 0., 0., 0., 0., 0., 0., 0., 0., 0., 0., 0.,\n",
              "       0., 0., 0., 0., 0., 0., 0., 0., 0., 0., 0., 0., 0., 0., 1., 0., 0.,\n",
              "       0., 0., 0., 0., 0., 0., 0., 0., 0., 0., 0., 0., 0., 0., 0., 0., 0.,\n",
              "       0., 0., 0., 0., 0., 0., 0., 0., 0., 0., 0., 1., 0., 0., 0., 0., 0.,\n",
              "       0., 0., 0., 0., 0., 0., 0., 0., 0., 0., 0., 0., 0., 0., 0., 0., 0.,\n",
              "       0., 1.])"
            ]
          },
          "execution_count": 13,
          "metadata": {},
          "output_type": "execute_result"
        }
      ],
      "source": [
        "test_dataset.y[:,1]"
      ]
    },
    {
      "attachments": {},
      "cell_type": "markdown",
      "id": "2c6d4fe2",
      "metadata": {
        "id": "2c6d4fe2"
      },
      "source": [
        "# Using RDKit\n",
        "\n",
        "RDkit is a chemistry package that allows you to create chemical features or do very simple computational chemistry."
      ]
    },
    {
      "cell_type": "code",
      "execution_count": 63,
      "id": "d7eb6d70",
      "metadata": {
        "colab": {
          "base_uri": "https://localhost:8080/",
          "height": 1000
        },
        "id": "d7eb6d70",
        "outputId": "214eebed-c798-4f72-aaaf-e660f38ba15f"
      },
      "outputs": [
        {
          "data": {
            "image/png": "[encoded data removed]",
            "text/plain": [
              "<IPython.core.display.Image object>"
            ]
          },
          "execution_count": 63,
          "metadata": {},
          "output_type": "execute_result"
        }
      ],
      "source": [
        "# and this draws a nice image of the first 12 molecules of the test_dataset\n",
        "SMILES_strings = test_dataset.ids[:5]\n",
        "ms = [Chem.MolFromSmiles(x) for x in SMILES_strings]\n",
        "Draw.MolsToGridImage(ms)"
      ]
    },
    {
      "attachments": {},
      "cell_type": "markdown",
      "id": "0993037f",
      "metadata": {
        "id": "0993037f"
      },
      "source": [
        "RDKit does not give us just a picture of the molecule, it creates a molecule object:"
      ]
    },
    {
      "cell_type": "code",
      "execution_count": 19,
      "id": "804b2e36",
      "metadata": {
        "colab": {
          "base_uri": "https://localhost:8080/",
          "height": 167
        },
        "id": "804b2e36",
        "outputId": "ee93f4b1-9173-4710-840c-020c7f5648eb"
      },
      "outputs": [
        {
          "data": {
            "image/png": "[encoded data removed]",
            "text/plain": [
              "<rdkit.Chem.rdchem.Mol at 0x255b28fa260>"
            ]
          },
          "execution_count": 19,
          "metadata": {},
          "output_type": "execute_result"
        }
      ],
      "source": [
        "molecule_number = 20\n",
        "formula = SMILES_strings[molecule_number]\n",
        "a_molecule = Chem.MolFromSmiles(formula)\n",
        "a_molecule"
      ]
    },
    {
      "attachments": {},
      "cell_type": "markdown",
      "id": "adca0a00",
      "metadata": {
        "id": "adca0a00"
      },
      "source": [
        "The function `dir()` gives a list of the possible things that object can do. (Ignore those that start with ``__`` these are internal functions that you want to leave alone). For example, you could run `a_molecule.GetNumAtoms` to get the number of atoms. More details of what you can calculated with RDKit is here:\n",
        "https://rdkit.org/docs/index.html"
      ]
    },
    {
      "cell_type": "code",
      "execution_count": 20,
      "id": "7caa4e9e",
      "metadata": {
        "colab": {
          "base_uri": "https://localhost:8080/"
        },
        "id": "7caa4e9e",
        "outputId": "2deee180-acef-4465-cf7a-da4a002997e6"
      },
      "outputs": [
        {
          "data": {
            "text/plain": [
              "['AddConformer',\n",
              " 'ClearComputedProps',\n",
              " 'ClearProp',\n",
              " 'Debug',\n",
              " 'GetAromaticAtoms',\n",
              " 'GetAtomWithIdx',\n",
              " 'GetAtoms',\n",
              " 'GetAtomsMatchingQuery',\n",
              " 'GetBondBetweenAtoms',\n",
              " 'GetBondWithIdx',\n",
              " 'GetBonds',\n",
              " 'GetBoolProp',\n",
              " 'GetConformer',\n",
              " 'GetConformers',\n",
              " 'GetDoubleProp',\n",
              " 'GetIntProp',\n",
              " 'GetNumAtoms',\n",
              " 'GetNumBonds',\n",
              " 'GetNumConformers',\n",
              " 'GetNumHeavyAtoms',\n",
              " 'GetProp',\n",
              " 'GetPropNames',\n",
              " 'GetPropsAsDict',\n",
              " 'GetRingInfo',\n",
              " 'GetStereoGroups',\n",
              " 'GetSubstructMatch',\n",
              " 'GetSubstructMatches',\n",
              " 'GetUnsignedProp',\n",
              " 'HasProp',\n",
              " 'HasSubstructMatch',\n",
              " 'NeedsUpdatePropertyCache',\n",
              " 'RemoveAllConformers',\n",
              " 'RemoveConformer',\n",
              " 'SetBoolProp',\n",
              " 'SetDoubleProp',\n",
              " 'SetIntProp',\n",
              " 'SetProp',\n",
              " 'SetUnsignedProp',\n",
              " 'ToBinary',\n",
              " 'UpdatePropertyCache',\n",
              " '__DebugMol',\n",
              " '__GetSubstructMatch',\n",
              " '__GetSubstructMatches',\n",
              " '__class__',\n",
              " '__copy__',\n",
              " '__deepcopy__',\n",
              " '__delattr__',\n",
              " '__dict__',\n",
              " '__dir__',\n",
              " '__doc__',\n",
              " '__eq__',\n",
              " '__format__',\n",
              " '__ge__',\n",
              " '__getattribute__',\n",
              " '__getinitargs__',\n",
              " '__gt__',\n",
              " '__hash__',\n",
              " '__init__',\n",
              " '__init_subclass__',\n",
              " '__instance_size__',\n",
              " '__le__',\n",
              " '__lt__',\n",
              " '__module__',\n",
              " '__ne__',\n",
              " '__new__',\n",
              " '__reduce__',\n",
              " '__reduce_ex__',\n",
              " '__repr__',\n",
              " '__safe_for_unpickling__',\n",
              " '__setattr__',\n",
              " '__sizeof__',\n",
              " '__str__',\n",
              " '__subclasshook__',\n",
              " '__weakref__',\n",
              " '_repr_html_',\n",
              " '_repr_png_',\n",
              " '_repr_svg_']"
            ]
          },
          "execution_count": 20,
          "metadata": {},
          "output_type": "execute_result"
        }
      ],
      "source": [
        "dir(a_molecule)"
      ]
    },
    {
      "cell_type": "code",
      "execution_count": 21,
      "id": "63674e54",
      "metadata": {
        "colab": {
          "base_uri": "https://localhost:8080/"
        },
        "id": "63674e54",
        "outputId": "3bfbe4fc-295d-4d29-c2fc-28f5ebc9fad9"
      },
      "outputs": [
        {
          "data": {
            "text/plain": [
              "16"
            ]
          },
          "execution_count": 21,
          "metadata": {},
          "output_type": "execute_result"
        }
      ],
      "source": [
        "a_molecule.GetNumAtoms()"
      ]
    },
    {
      "attachments": {},
      "cell_type": "markdown",
      "id": "d99b2dcd",
      "metadata": {
        "id": "d99b2dcd"
      },
      "source": [
        "# More about the dataset\n",
        "The input, `X`, is a fingerprint, a list of `1`s and `0`s for wether a feature is present or not (a feature like a functional group). There are other types of input that you get from other featurizers that are needed for different ML models.\n",
        "\n",
        "The output `y` is the is molecule's toxicity against various targets."
      ]
    },
    {
      "attachments": {},
      "cell_type": "markdown",
      "id": "959cf92d",
      "metadata": {
        "id": "959cf92d"
      },
      "source": [
        "If there are `1.`s below indicate that this model failed a toxicity test! I.e. it was toxic against that receptor."
      ]
    },
    {
      "cell_type": "code",
      "execution_count": 22,
      "id": "22d89462",
      "metadata": {
        "colab": {
          "base_uri": "https://localhost:8080/"
        },
        "id": "22d89462",
        "outputId": "4090b88f-9f20-48d3-a071-cd7a7724e699"
      },
      "outputs": [
        {
          "data": {
            "text/plain": [
              "array([0., 0., 0., 0., 0., 0., 0., 0., 0., 0., 0., 0.])"
            ]
          },
          "execution_count": 22,
          "metadata": {},
          "output_type": "execute_result"
        }
      ],
      "source": [
        "test_dataset.y[molecule_number]"
      ]
    },
    {
      "cell_type": "code",
      "execution_count": 23,
      "id": "8084cb08",
      "metadata": {
        "colab": {
          "base_uri": "https://localhost:8080/",
          "height": 167
        },
        "id": "8084cb08",
        "outputId": "aaa5c3e3-e161-4cc2-86e6-ab92afd2ea6e"
      },
      "outputs": [
        {
          "data": {
            "image/png": "[encoded data removed]",
            "text/plain": [
              "<rdkit.Chem.rdchem.Mol at 0x255b28fa260>"
            ]
          },
          "execution_count": 23,
          "metadata": {},
          "output_type": "execute_result"
        }
      ],
      "source": [
        "# the molecule again.\n",
        "a_molecule"
      ]
    },
    {
      "attachments": {},
      "cell_type": "markdown",
      "id": "f1fd4355",
      "metadata": {
        "id": "f1fd4355"
      },
      "source": [
        "These are the tasks:"
      ]
    },
    {
      "cell_type": "code",
      "execution_count": 24,
      "id": "768e98d2",
      "metadata": {
        "colab": {
          "base_uri": "https://localhost:8080/"
        },
        "id": "768e98d2",
        "outputId": "c3cf5672-1633-46a8-9c19-8da5a5071d17"
      },
      "outputs": [
        {
          "data": {
            "text/plain": [
              "['NR-AR',\n",
              " 'NR-AR-LBD',\n",
              " 'NR-AhR',\n",
              " 'NR-Aromatase',\n",
              " 'NR-ER',\n",
              " 'NR-ER-LBD',\n",
              " 'NR-PPAR-gamma',\n",
              " 'SR-ARE',\n",
              " 'SR-ATAD5',\n",
              " 'SR-HSE',\n",
              " 'SR-MMP',\n",
              " 'SR-p53']"
            ]
          },
          "execution_count": 24,
          "metadata": {},
          "output_type": "execute_result"
        }
      ],
      "source": [
        "test_dataset.tasks"
      ]
    },
    {
      "attachments": {},
      "cell_type": "markdown",
      "id": "4dd64a59",
      "metadata": {
        "id": "4dd64a59"
      },
      "source": [
        "#### How many toxic molecules do we have?"
      ]
    },
    {
      "attachments": {},
      "cell_type": "markdown",
      "id": "02724502",
      "metadata": {
        "id": "02724502"
      },
      "source": [
        " You can investigate the data, for example, below is the count of toxic drug candiates"
      ]
    },
    {
      "cell_type": "code",
      "execution_count": 25,
      "id": "c818a91e",
      "metadata": {
        "colab": {
          "base_uri": "https://localhost:8080/"
        },
        "id": "c818a91e",
        "outputId": "a2456b0a-12db-47d1-f12f-05ae44b6622e"
      },
      "outputs": [
        {
          "data": {
            "text/plain": [
              "array([31., 20., 70., 29., 83., 27., 27., 88., 28., 31., 78., 35.])"
            ]
          },
          "execution_count": 25,
          "metadata": {},
          "output_type": "execute_result"
        }
      ],
      "source": [
        "# you will probably want to do this for all the datasets\n",
        "# but lets just look at the test dataset here\n",
        "# this is the number of toxic molecules for each task\n",
        "sum(test_dataset.y)"
      ]
    },
    {
      "cell_type": "code",
      "execution_count": 26,
      "id": "85b91f36",
      "metadata": {
        "colab": {
          "base_uri": "https://localhost:8080/"
        },
        "id": "85b91f36",
        "outputId": "9799458c-a7a3-4433-ae35-cd670640deca"
      },
      "outputs": [
        {
          "data": {
            "text/plain": [
              "784"
            ]
          },
          "execution_count": 26,
          "metadata": {},
          "output_type": "execute_result"
        }
      ],
      "source": [
        "#This is how many molecules there are in this dataset\n",
        "len(test_dataset)"
      ]
    },
    {
      "cell_type": "code",
      "execution_count": 14,
      "id": "b7c5dba8",
      "metadata": {
        "colab": {
          "base_uri": "https://localhost:8080/",
          "height": 548
        },
        "id": "b7c5dba8",
        "outputId": "7808e650-72ef-4028-ed28-5eba5f19c656"
      },
      "outputs": [
        {
          "data": {
            "text/plain": [
              "Text(0.5, 1.0, 'Test Dataset')"
            ]
          },
          "execution_count": 14,
          "metadata": {},
          "output_type": "execute_result"
        },
        {
          "data": {
            "image/png": "[encoded data removed]",
            "text/plain": [
              "<Figure size 640x480 with 1 Axes>"
            ]
          },
          "metadata": {},
          "output_type": "display_data"
        }
      ],
      "source": [
        "# Here we plot the percentages of toxic molecules per task\n",
        "ax=plt.bar(test_dataset.tasks[:7],100*sum(test_dataset.y[:,:7])/len(test_dataset))\n",
        "plt.bar(test_dataset.tasks[7:],100*sum(test_dataset.y[:,7:])/len(test_dataset))\n",
        "plt.xticks(rotation=-45, ha='left')\n",
        "plt.ylabel(\"Toxic molecules %\")\n",
        "#plt.xlabel(\"Tzxcasks\")\n",
        "plt.title(\"Test Dataset\")"
      ]
    },
    {
      "attachments": {},
      "cell_type": "markdown",
      "id": "46135d19",
      "metadata": {
        "id": "46135d19"
      },
      "source": [
        "### THIS IS A SMALL NUMBER OF TOXIC MOLECULES!\n",
        "\n",
        "This is a very unbalanced dataset, you only have around 5-10% toxic molecules and the rest are non-toxic, this is an unbalanced dataset."
      ]
    },
    {
      "cell_type": "code",
      "execution_count": 28,
      "id": "6d3f156f",
      "metadata": {
        "colab": {
          "base_uri": "https://localhost:8080/"
        },
        "id": "6d3f156f",
        "outputId": "0b1ae726-ddfd-4700-cb7c-fd28b1d33333"
      },
      "outputs": [
        {
          "data": {
            "text/plain": [
              "['NR-AR',\n",
              " 'NR-AR-LBD',\n",
              " 'NR-AhR',\n",
              " 'NR-Aromatase',\n",
              " 'NR-ER',\n",
              " 'NR-ER-LBD',\n",
              " 'NR-PPAR-gamma']"
            ]
          },
          "execution_count": 28,
          "metadata": {},
          "output_type": "execute_result"
        }
      ],
      "source": [
        "# the nuclear reactor tasks\n",
        "test_dataset.tasks[:7]"
      ]
    },
    {
      "cell_type": "code",
      "execution_count": 29,
      "id": "f30bdd3a",
      "metadata": {
        "colab": {
          "base_uri": "https://localhost:8080/"
        },
        "id": "f30bdd3a",
        "outputId": "f76a14cd-181f-46cd-fb68-456538943e50"
      },
      "outputs": [
        {
          "data": {
            "text/plain": [
              "['SR-ARE', 'SR-ATAD5', 'SR-HSE', 'SR-MMP', 'SR-p53']"
            ]
          },
          "execution_count": 29,
          "metadata": {},
          "output_type": "execute_result"
        }
      ],
      "source": [
        "# the stress receptor tasks\n",
        "test_dataset.tasks[7:]"
      ]
    },
    {
      "cell_type": "code",
      "execution_count": 4,
      "id": "76e912c2",
      "metadata": {},
      "outputs": [
        {
          "data": {
            "text/html": [
              "<div>\n",
              "<style scoped>\n",
              "    .dataframe tbody tr th:only-of-type {\n",
              "        vertical-align: middle;\n",
              "    }\n",
              "\n",
              "    .dataframe tbody tr th {\n",
              "        vertical-align: top;\n",
              "    }\n",
              "\n",
              "    .dataframe thead th {\n",
              "        text-align: right;\n",
              "    }\n",
              "</style>\n",
              "<table border=\"1\" class=\"dataframe\">\n",
              "  <thead>\n",
              "    <tr style=\"text-align: right;\">\n",
              "      <th></th>\n",
              "      <th>y1</th>\n",
              "      <th>y2</th>\n",
              "      <th>y3</th>\n",
              "      <th>y4</th>\n",
              "      <th>y5</th>\n",
              "      <th>y6</th>\n",
              "      <th>y7</th>\n",
              "      <th>tox</th>\n",
              "      <th>tox_bin</th>\n",
              "    </tr>\n",
              "  </thead>\n",
              "  <tbody>\n",
              "    <tr>\n",
              "      <th>0</th>\n",
              "      <td>0.0</td>\n",
              "      <td>0.0</td>\n",
              "      <td>0.0</td>\n",
              "      <td>0.0</td>\n",
              "      <td>0.0</td>\n",
              "      <td>0.0</td>\n",
              "      <td>0.0</td>\n",
              "      <td>0.0</td>\n",
              "      <td>0</td>\n",
              "    </tr>\n",
              "    <tr>\n",
              "      <th>1</th>\n",
              "      <td>0.0</td>\n",
              "      <td>0.0</td>\n",
              "      <td>0.0</td>\n",
              "      <td>0.0</td>\n",
              "      <td>0.0</td>\n",
              "      <td>0.0</td>\n",
              "      <td>0.0</td>\n",
              "      <td>0.0</td>\n",
              "      <td>0</td>\n",
              "    </tr>\n",
              "    <tr>\n",
              "      <th>2</th>\n",
              "      <td>0.0</td>\n",
              "      <td>0.0</td>\n",
              "      <td>1.0</td>\n",
              "      <td>0.0</td>\n",
              "      <td>0.0</td>\n",
              "      <td>0.0</td>\n",
              "      <td>0.0</td>\n",
              "      <td>1.0</td>\n",
              "      <td>1</td>\n",
              "    </tr>\n",
              "    <tr>\n",
              "      <th>3</th>\n",
              "      <td>0.0</td>\n",
              "      <td>0.0</td>\n",
              "      <td>0.0</td>\n",
              "      <td>0.0</td>\n",
              "      <td>0.0</td>\n",
              "      <td>0.0</td>\n",
              "      <td>0.0</td>\n",
              "      <td>0.0</td>\n",
              "      <td>0</td>\n",
              "    </tr>\n",
              "    <tr>\n",
              "      <th>4</th>\n",
              "      <td>0.0</td>\n",
              "      <td>0.0</td>\n",
              "      <td>0.0</td>\n",
              "      <td>0.0</td>\n",
              "      <td>0.0</td>\n",
              "      <td>0.0</td>\n",
              "      <td>0.0</td>\n",
              "      <td>0.0</td>\n",
              "      <td>0</td>\n",
              "    </tr>\n",
              "    <tr>\n",
              "      <th>...</th>\n",
              "      <td>...</td>\n",
              "      <td>...</td>\n",
              "      <td>...</td>\n",
              "      <td>...</td>\n",
              "      <td>...</td>\n",
              "      <td>...</td>\n",
              "      <td>...</td>\n",
              "      <td>...</td>\n",
              "      <td>...</td>\n",
              "    </tr>\n",
              "    <tr>\n",
              "      <th>6259</th>\n",
              "      <td>0.0</td>\n",
              "      <td>1.0</td>\n",
              "      <td>0.0</td>\n",
              "      <td>0.0</td>\n",
              "      <td>0.0</td>\n",
              "      <td>0.0</td>\n",
              "      <td>1.0</td>\n",
              "      <td>2.0</td>\n",
              "      <td>1</td>\n",
              "    </tr>\n",
              "    <tr>\n",
              "      <th>6260</th>\n",
              "      <td>0.0</td>\n",
              "      <td>0.0</td>\n",
              "      <td>0.0</td>\n",
              "      <td>0.0</td>\n",
              "      <td>0.0</td>\n",
              "      <td>0.0</td>\n",
              "      <td>0.0</td>\n",
              "      <td>0.0</td>\n",
              "      <td>0</td>\n",
              "    </tr>\n",
              "    <tr>\n",
              "      <th>6261</th>\n",
              "      <td>0.0</td>\n",
              "      <td>0.0</td>\n",
              "      <td>0.0</td>\n",
              "      <td>0.0</td>\n",
              "      <td>0.0</td>\n",
              "      <td>0.0</td>\n",
              "      <td>0.0</td>\n",
              "      <td>0.0</td>\n",
              "      <td>0</td>\n",
              "    </tr>\n",
              "    <tr>\n",
              "      <th>6262</th>\n",
              "      <td>0.0</td>\n",
              "      <td>0.0</td>\n",
              "      <td>0.0</td>\n",
              "      <td>0.0</td>\n",
              "      <td>0.0</td>\n",
              "      <td>0.0</td>\n",
              "      <td>0.0</td>\n",
              "      <td>0.0</td>\n",
              "      <td>0</td>\n",
              "    </tr>\n",
              "    <tr>\n",
              "      <th>6263</th>\n",
              "      <td>0.0</td>\n",
              "      <td>0.0</td>\n",
              "      <td>0.0</td>\n",
              "      <td>0.0</td>\n",
              "      <td>0.0</td>\n",
              "      <td>0.0</td>\n",
              "      <td>0.0</td>\n",
              "      <td>0.0</td>\n",
              "      <td>0</td>\n",
              "    </tr>\n",
              "  </tbody>\n",
              "</table>\n",
              "<p>6264 rows × 9 columns</p>\n",
              "</div>"
            ],
            "text/plain": [
              "       y1   y2   y3   y4   y5   y6   y7  tox  tox_bin\n",
              "0     0.0  0.0  0.0  0.0  0.0  0.0  0.0  0.0        0\n",
              "1     0.0  0.0  0.0  0.0  0.0  0.0  0.0  0.0        0\n",
              "2     0.0  0.0  1.0  0.0  0.0  0.0  0.0  1.0        1\n",
              "3     0.0  0.0  0.0  0.0  0.0  0.0  0.0  0.0        0\n",
              "4     0.0  0.0  0.0  0.0  0.0  0.0  0.0  0.0        0\n",
              "...   ...  ...  ...  ...  ...  ...  ...  ...      ...\n",
              "6259  0.0  1.0  0.0  0.0  0.0  0.0  1.0  2.0        1\n",
              "6260  0.0  0.0  0.0  0.0  0.0  0.0  0.0  0.0        0\n",
              "6261  0.0  0.0  0.0  0.0  0.0  0.0  0.0  0.0        0\n",
              "6262  0.0  0.0  0.0  0.0  0.0  0.0  0.0  0.0        0\n",
              "6263  0.0  0.0  0.0  0.0  0.0  0.0  0.0  0.0        0\n",
              "\n",
              "[6264 rows x 9 columns]"
            ]
          },
          "execution_count": 4,
          "metadata": {},
          "output_type": "execute_result"
        }
      ],
      "source": [
        "tox_df = train_dataset.to_dataframe()\n",
        "\n",
        "tox_df = tox_df[['y1', 'y2', 'y3', 'y4', 'y5', 'y6', 'y7']]\n",
        "tox_df['tox'] = tox_df.sum(axis=1)\n",
        "\n",
        "tox_df['tox_bin'] = np.where(tox_df['tox'] > 0, 1, 0)\n",
        "\n",
        "tox_df\n"
      ]
    },
    {
      "cell_type": "code",
      "execution_count": 10,
      "id": "bd5c4689",
      "metadata": {},
      "outputs": [
        {
          "name": "stdout",
          "output_type": "stream",
          "text": [
            "1534\n",
            "6264\n"
          ]
        }
      ],
      "source": [
        "print(sum(tox_df['tox_bin']))\n",
        "\n",
        "print(len(tox_df))\n"
      ]
    },
    {
      "cell_type": "code",
      "execution_count": 5,
      "id": "cb6499f1",
      "metadata": {},
      "outputs": [
        {
          "data": {
            "text/html": [
              "<div>\n",
              "<style scoped>\n",
              "    .dataframe tbody tr th:only-of-type {\n",
              "        vertical-align: middle;\n",
              "    }\n",
              "\n",
              "    .dataframe tbody tr th {\n",
              "        vertical-align: top;\n",
              "    }\n",
              "\n",
              "    .dataframe thead th {\n",
              "        text-align: right;\n",
              "    }\n",
              "</style>\n",
              "<table border=\"1\" class=\"dataframe\">\n",
              "  <thead>\n",
              "    <tr style=\"text-align: right;\">\n",
              "      <th></th>\n",
              "      <th>y1</th>\n",
              "      <th>y2</th>\n",
              "      <th>y3</th>\n",
              "      <th>y4</th>\n",
              "      <th>y5</th>\n",
              "      <th>y6</th>\n",
              "      <th>y7</th>\n",
              "      <th>tox</th>\n",
              "      <th>tox_bin</th>\n",
              "    </tr>\n",
              "  </thead>\n",
              "  <tbody>\n",
              "    <tr>\n",
              "      <th>0</th>\n",
              "      <td>0.0</td>\n",
              "      <td>0.0</td>\n",
              "      <td>0.0</td>\n",
              "      <td>0.0</td>\n",
              "      <td>0.0</td>\n",
              "      <td>0.0</td>\n",
              "      <td>1.0</td>\n",
              "      <td>1.0</td>\n",
              "      <td>1</td>\n",
              "    </tr>\n",
              "    <tr>\n",
              "      <th>1</th>\n",
              "      <td>0.0</td>\n",
              "      <td>0.0</td>\n",
              "      <td>0.0</td>\n",
              "      <td>0.0</td>\n",
              "      <td>0.0</td>\n",
              "      <td>0.0</td>\n",
              "      <td>0.0</td>\n",
              "      <td>0.0</td>\n",
              "      <td>0</td>\n",
              "    </tr>\n",
              "    <tr>\n",
              "      <th>2</th>\n",
              "      <td>0.0</td>\n",
              "      <td>0.0</td>\n",
              "      <td>0.0</td>\n",
              "      <td>0.0</td>\n",
              "      <td>1.0</td>\n",
              "      <td>0.0</td>\n",
              "      <td>0.0</td>\n",
              "      <td>1.0</td>\n",
              "      <td>1</td>\n",
              "    </tr>\n",
              "    <tr>\n",
              "      <th>3</th>\n",
              "      <td>0.0</td>\n",
              "      <td>0.0</td>\n",
              "      <td>0.0</td>\n",
              "      <td>0.0</td>\n",
              "      <td>0.0</td>\n",
              "      <td>0.0</td>\n",
              "      <td>0.0</td>\n",
              "      <td>0.0</td>\n",
              "      <td>0</td>\n",
              "    </tr>\n",
              "    <tr>\n",
              "      <th>4</th>\n",
              "      <td>0.0</td>\n",
              "      <td>0.0</td>\n",
              "      <td>0.0</td>\n",
              "      <td>0.0</td>\n",
              "      <td>1.0</td>\n",
              "      <td>0.0</td>\n",
              "      <td>0.0</td>\n",
              "      <td>1.0</td>\n",
              "      <td>1</td>\n",
              "    </tr>\n",
              "    <tr>\n",
              "      <th>...</th>\n",
              "      <td>...</td>\n",
              "      <td>...</td>\n",
              "      <td>...</td>\n",
              "      <td>...</td>\n",
              "      <td>...</td>\n",
              "      <td>...</td>\n",
              "      <td>...</td>\n",
              "      <td>...</td>\n",
              "      <td>...</td>\n",
              "    </tr>\n",
              "    <tr>\n",
              "      <th>779</th>\n",
              "      <td>0.0</td>\n",
              "      <td>0.0</td>\n",
              "      <td>0.0</td>\n",
              "      <td>0.0</td>\n",
              "      <td>0.0</td>\n",
              "      <td>0.0</td>\n",
              "      <td>0.0</td>\n",
              "      <td>0.0</td>\n",
              "      <td>0</td>\n",
              "    </tr>\n",
              "    <tr>\n",
              "      <th>780</th>\n",
              "      <td>0.0</td>\n",
              "      <td>0.0</td>\n",
              "      <td>0.0</td>\n",
              "      <td>0.0</td>\n",
              "      <td>0.0</td>\n",
              "      <td>0.0</td>\n",
              "      <td>0.0</td>\n",
              "      <td>0.0</td>\n",
              "      <td>0</td>\n",
              "    </tr>\n",
              "    <tr>\n",
              "      <th>781</th>\n",
              "      <td>0.0</td>\n",
              "      <td>0.0</td>\n",
              "      <td>0.0</td>\n",
              "      <td>0.0</td>\n",
              "      <td>0.0</td>\n",
              "      <td>0.0</td>\n",
              "      <td>0.0</td>\n",
              "      <td>0.0</td>\n",
              "      <td>0</td>\n",
              "    </tr>\n",
              "    <tr>\n",
              "      <th>782</th>\n",
              "      <td>0.0</td>\n",
              "      <td>0.0</td>\n",
              "      <td>0.0</td>\n",
              "      <td>0.0</td>\n",
              "      <td>0.0</td>\n",
              "      <td>0.0</td>\n",
              "      <td>0.0</td>\n",
              "      <td>0.0</td>\n",
              "      <td>0</td>\n",
              "    </tr>\n",
              "    <tr>\n",
              "      <th>783</th>\n",
              "      <td>1.0</td>\n",
              "      <td>1.0</td>\n",
              "      <td>0.0</td>\n",
              "      <td>0.0</td>\n",
              "      <td>1.0</td>\n",
              "      <td>1.0</td>\n",
              "      <td>0.0</td>\n",
              "      <td>4.0</td>\n",
              "      <td>1</td>\n",
              "    </tr>\n",
              "  </tbody>\n",
              "</table>\n",
              "<p>784 rows × 9 columns</p>\n",
              "</div>"
            ],
            "text/plain": [
              "      y1   y2   y3   y4   y5   y6   y7  tox  tox_bin\n",
              "0    0.0  0.0  0.0  0.0  0.0  0.0  1.0  1.0        1\n",
              "1    0.0  0.0  0.0  0.0  0.0  0.0  0.0  0.0        0\n",
              "2    0.0  0.0  0.0  0.0  1.0  0.0  0.0  1.0        1\n",
              "3    0.0  0.0  0.0  0.0  0.0  0.0  0.0  0.0        0\n",
              "4    0.0  0.0  0.0  0.0  1.0  0.0  0.0  1.0        1\n",
              "..   ...  ...  ...  ...  ...  ...  ...  ...      ...\n",
              "779  0.0  0.0  0.0  0.0  0.0  0.0  0.0  0.0        0\n",
              "780  0.0  0.0  0.0  0.0  0.0  0.0  0.0  0.0        0\n",
              "781  0.0  0.0  0.0  0.0  0.0  0.0  0.0  0.0        0\n",
              "782  0.0  0.0  0.0  0.0  0.0  0.0  0.0  0.0        0\n",
              "783  1.0  1.0  0.0  0.0  1.0  1.0  0.0  4.0        1\n",
              "\n",
              "[784 rows x 9 columns]"
            ]
          },
          "execution_count": 5,
          "metadata": {},
          "output_type": "execute_result"
        }
      ],
      "source": [
        "test_tox_df = test_dataset.to_dataframe()\n",
        "test_tox_df = test_tox_df[['y1', 'y2', 'y3', 'y4', 'y5', 'y6', 'y7']]\n",
        "test_tox_df['tox'] = test_tox_df.sum(axis=1)\n",
        "test_tox_df['tox_bin'] = np.where(test_tox_df['tox'] > 0, 1, 0)\n",
        "\n",
        "test_tox_df"
      ]
    },
    {
      "cell_type": "code",
      "execution_count": 6,
      "id": "a74dc464",
      "metadata": {},
      "outputs": [
        {
          "data": {
            "text/html": [
              "<div>\n",
              "<style scoped>\n",
              "    .dataframe tbody tr th:only-of-type {\n",
              "        vertical-align: middle;\n",
              "    }\n",
              "\n",
              "    .dataframe tbody tr th {\n",
              "        vertical-align: top;\n",
              "    }\n",
              "\n",
              "    .dataframe thead th {\n",
              "        text-align: right;\n",
              "    }\n",
              "</style>\n",
              "<table border=\"1\" class=\"dataframe\">\n",
              "  <thead>\n",
              "    <tr style=\"text-align: right;\">\n",
              "      <th></th>\n",
              "      <th>y1</th>\n",
              "      <th>y2</th>\n",
              "      <th>y3</th>\n",
              "      <th>y4</th>\n",
              "      <th>y5</th>\n",
              "      <th>y6</th>\n",
              "      <th>y7</th>\n",
              "      <th>tox</th>\n",
              "      <th>tox_bin</th>\n",
              "    </tr>\n",
              "  </thead>\n",
              "  <tbody>\n",
              "    <tr>\n",
              "      <th>0</th>\n",
              "      <td>0.0</td>\n",
              "      <td>0.0</td>\n",
              "      <td>0.0</td>\n",
              "      <td>0.0</td>\n",
              "      <td>0.0</td>\n",
              "      <td>0.0</td>\n",
              "      <td>1.0</td>\n",
              "      <td>1.0</td>\n",
              "      <td>1</td>\n",
              "    </tr>\n",
              "    <tr>\n",
              "      <th>1</th>\n",
              "      <td>0.0</td>\n",
              "      <td>0.0</td>\n",
              "      <td>0.0</td>\n",
              "      <td>0.0</td>\n",
              "      <td>0.0</td>\n",
              "      <td>0.0</td>\n",
              "      <td>0.0</td>\n",
              "      <td>0.0</td>\n",
              "      <td>0</td>\n",
              "    </tr>\n",
              "    <tr>\n",
              "      <th>2</th>\n",
              "      <td>0.0</td>\n",
              "      <td>0.0</td>\n",
              "      <td>0.0</td>\n",
              "      <td>0.0</td>\n",
              "      <td>1.0</td>\n",
              "      <td>0.0</td>\n",
              "      <td>0.0</td>\n",
              "      <td>1.0</td>\n",
              "      <td>1</td>\n",
              "    </tr>\n",
              "    <tr>\n",
              "      <th>3</th>\n",
              "      <td>0.0</td>\n",
              "      <td>0.0</td>\n",
              "      <td>0.0</td>\n",
              "      <td>0.0</td>\n",
              "      <td>0.0</td>\n",
              "      <td>0.0</td>\n",
              "      <td>0.0</td>\n",
              "      <td>0.0</td>\n",
              "      <td>0</td>\n",
              "    </tr>\n",
              "    <tr>\n",
              "      <th>4</th>\n",
              "      <td>0.0</td>\n",
              "      <td>0.0</td>\n",
              "      <td>0.0</td>\n",
              "      <td>0.0</td>\n",
              "      <td>1.0</td>\n",
              "      <td>0.0</td>\n",
              "      <td>0.0</td>\n",
              "      <td>1.0</td>\n",
              "      <td>1</td>\n",
              "    </tr>\n",
              "    <tr>\n",
              "      <th>...</th>\n",
              "      <td>...</td>\n",
              "      <td>...</td>\n",
              "      <td>...</td>\n",
              "      <td>...</td>\n",
              "      <td>...</td>\n",
              "      <td>...</td>\n",
              "      <td>...</td>\n",
              "      <td>...</td>\n",
              "      <td>...</td>\n",
              "    </tr>\n",
              "    <tr>\n",
              "      <th>779</th>\n",
              "      <td>0.0</td>\n",
              "      <td>0.0</td>\n",
              "      <td>0.0</td>\n",
              "      <td>0.0</td>\n",
              "      <td>0.0</td>\n",
              "      <td>0.0</td>\n",
              "      <td>0.0</td>\n",
              "      <td>0.0</td>\n",
              "      <td>0</td>\n",
              "    </tr>\n",
              "    <tr>\n",
              "      <th>780</th>\n",
              "      <td>0.0</td>\n",
              "      <td>0.0</td>\n",
              "      <td>0.0</td>\n",
              "      <td>0.0</td>\n",
              "      <td>0.0</td>\n",
              "      <td>0.0</td>\n",
              "      <td>0.0</td>\n",
              "      <td>0.0</td>\n",
              "      <td>0</td>\n",
              "    </tr>\n",
              "    <tr>\n",
              "      <th>781</th>\n",
              "      <td>0.0</td>\n",
              "      <td>0.0</td>\n",
              "      <td>0.0</td>\n",
              "      <td>0.0</td>\n",
              "      <td>0.0</td>\n",
              "      <td>0.0</td>\n",
              "      <td>0.0</td>\n",
              "      <td>0.0</td>\n",
              "      <td>0</td>\n",
              "    </tr>\n",
              "    <tr>\n",
              "      <th>782</th>\n",
              "      <td>0.0</td>\n",
              "      <td>0.0</td>\n",
              "      <td>0.0</td>\n",
              "      <td>0.0</td>\n",
              "      <td>0.0</td>\n",
              "      <td>0.0</td>\n",
              "      <td>0.0</td>\n",
              "      <td>0.0</td>\n",
              "      <td>0</td>\n",
              "    </tr>\n",
              "    <tr>\n",
              "      <th>783</th>\n",
              "      <td>1.0</td>\n",
              "      <td>1.0</td>\n",
              "      <td>0.0</td>\n",
              "      <td>0.0</td>\n",
              "      <td>1.0</td>\n",
              "      <td>1.0</td>\n",
              "      <td>0.0</td>\n",
              "      <td>4.0</td>\n",
              "      <td>1</td>\n",
              "    </tr>\n",
              "  </tbody>\n",
              "</table>\n",
              "<p>784 rows × 9 columns</p>\n",
              "</div>"
            ],
            "text/plain": [
              "      y1   y2   y3   y4   y5   y6   y7  tox  tox_bin\n",
              "0    0.0  0.0  0.0  0.0  0.0  0.0  1.0  1.0        1\n",
              "1    0.0  0.0  0.0  0.0  0.0  0.0  0.0  0.0        0\n",
              "2    0.0  0.0  0.0  0.0  1.0  0.0  0.0  1.0        1\n",
              "3    0.0  0.0  0.0  0.0  0.0  0.0  0.0  0.0        0\n",
              "4    0.0  0.0  0.0  0.0  1.0  0.0  0.0  1.0        1\n",
              "..   ...  ...  ...  ...  ...  ...  ...  ...      ...\n",
              "779  0.0  0.0  0.0  0.0  0.0  0.0  0.0  0.0        0\n",
              "780  0.0  0.0  0.0  0.0  0.0  0.0  0.0  0.0        0\n",
              "781  0.0  0.0  0.0  0.0  0.0  0.0  0.0  0.0        0\n",
              "782  0.0  0.0  0.0  0.0  0.0  0.0  0.0  0.0        0\n",
              "783  1.0  1.0  0.0  0.0  1.0  1.0  0.0  4.0        1\n",
              "\n",
              "[784 rows x 9 columns]"
            ]
          },
          "execution_count": 6,
          "metadata": {},
          "output_type": "execute_result"
        }
      ],
      "source": [
        "valid_tox_df = valid_dataset.to_dataframe()\n",
        "valid_tox_df = valid_tox_df[['y1', 'y2', 'y3', 'y4', 'y5', 'y6', 'y7']]\n",
        "valid_tox_df['tox'] = valid_tox_df.sum(axis=1)\n",
        "valid_tox_df['tox_bin'] = np.where(valid_tox_df['tox'] > 0, 1, 0)\n",
        "\n",
        "test_tox_df"
      ]
    },
    {
      "cell_type": "raw",
      "id": "9391fcfd",
      "metadata": {
        "id": "9391fcfd"
      },
      "source": [
        "# Splitting the tasks\n",
        "\n",
        "The code below creates new datasets for just the first 7 tasks (the nuclear receptor tasks).\n",
        "\n",
        "To do the same thing for the last 5 tasks, use the slice i.e. [7:] to take tasks from 7 onwards"
      ]
    },
    {
      "cell_type": "code",
      "execution_count": 7,
      "id": "c56a98df",
      "metadata": {
        "id": "c56a98df"
      },
      "outputs": [],
      "source": [
        "# This makes new datasets that only include the NR tasks\n",
        "NR_train_dataset = dc.data.DiskDataset.from_numpy(\n",
        "    train_dataset.X, # take all of X\n",
        "    tox_df.iloc[:,-1:], # take only the first 7 answers\n",
        "    w=np.ones((len(train_dataset), 1)),\n",
        "    ids=train_dataset.ids, # all ids\n",
        "    tasks=['toxicity']) # and only the first 7 task labels\n",
        "\n",
        "NR_valid_dataset = dc.data.DiskDataset.from_numpy(\n",
        "    valid_dataset.X,\n",
        "    valid_tox_df.iloc[:,-1:],\n",
        "    w=np.ones((len(valid_dataset), 1)),\n",
        "    ids=valid_dataset.ids,\n",
        "    tasks=['toxicity'])\n",
        "\n",
        "NR_test_dataset = dc.data.DiskDataset.from_numpy(\n",
        "    test_dataset.X,\n",
        "    test_tox_df.iloc[:,-1:],\n",
        "    w=np.ones((len(test_dataset), 1)),\n",
        "    ids=test_dataset.ids,\n",
        "    tasks=['toxicity'])\n",
        "\n",
        "# This transforms the dataset to try to deal with the unbalanced classes\n",
        "#transformer = dc.trans.BalancingTransformer(dataset=NR_train_dataset)\n",
        "#NR_train_dataset_trans = transformer.transform(NR_train_dataset)\n",
        "\n",
        "#transformer = dc.trans.BalancingTransformer(dataset=NR_valid_dataset)\n",
        "#NR_valid_dataset_trans = transformer.transform(NR_valid_dataset)\n",
        "\n",
        "#transformer = dc.trans.BalancingTransformer(dataset=NR_test_dataset)\n",
        "#NR_test_dataset_trans = transformer.transform(NR_test_dataset)"
      ]
    },
    {
      "cell_type": "code",
      "execution_count": 161,
      "id": "dc712202",
      "metadata": {},
      "outputs": [
        {
          "name": "stdout",
          "output_type": "stream",
          "text": [
            "(6264, 1)\n",
            "(784, 1)\n",
            "(6264, 1)\n"
          ]
        }
      ],
      "source": [
        "print(NR_train_dataset.w.shape)\n",
        "print(NR_test_dataset.w.shape)\n",
        "print(NR_test_dataset.y.shape)"
      ]
    },
    {
      "cell_type": "code",
      "execution_count": 156,
      "id": "72ca727b",
      "metadata": {},
      "outputs": [
        {
          "data": {
            "text/plain": [
              "deepchem.data.datasets.DiskDataset"
            ]
          },
          "execution_count": 156,
          "metadata": {},
          "output_type": "execute_result"
        }
      ],
      "source": [
        "type(train_dataset)"
      ]
    },
    {
      "cell_type": "code",
      "execution_count": 157,
      "id": "c3ea4039",
      "metadata": {},
      "outputs": [
        {
          "data": {
            "text/plain": [
              "<DiskDataset X.shape: (6264,), y.shape: (6264, 1), w.shape: (6264, 1), task_names: ['toxicity']>"
            ]
          },
          "execution_count": 157,
          "metadata": {},
          "output_type": "execute_result"
        }
      ],
      "source": [
        "NR_train_dataset"
      ]
    },
    {
      "cell_type": "code",
      "execution_count": 158,
      "id": "8d0794f4",
      "metadata": {},
      "outputs": [
        {
          "data": {
            "text/plain": [
              "['toxicity']"
            ]
          },
          "execution_count": 158,
          "metadata": {},
          "output_type": "execute_result"
        }
      ],
      "source": [
        "NR_train_dataset.tasks"
      ]
    },
    {
      "cell_type": "code",
      "execution_count": 159,
      "id": "30e9200e",
      "metadata": {},
      "outputs": [
        {
          "data": {
            "text/plain": [
              "Text(0.5, 1.0, 'Test Dataset')"
            ]
          },
          "execution_count": 159,
          "metadata": {},
          "output_type": "execute_result"
        },
        {
          "data": {
            "image/png": "[encoded data removed]",
            "text/plain": [
              "<Figure size 640x480 with 1 Axes>"
            ]
          },
          "metadata": {},
          "output_type": "display_data"
        }
      ],
      "source": [
        "# Here we plot the percentages of toxic molecules per task\n",
        "ax=plt.bar(NR_test_dataset.tasks[:7],100*sum(NR_test_dataset.y[:,:7])/len(NR_test_dataset))\n",
        "plt.bar(NR_test_dataset.tasks[7:],100*sum(NR_test_dataset.y[:,7:])/len(NR_test_dataset))\n",
        "plt.xticks(rotation=-45, ha='left')\n",
        "plt.ylabel(\"Toxic molecules %\")\n",
        "#plt.xlabel(\"Tzxcasks\")\n",
        "plt.title(\"Test Dataset\")"
      ]
    },
    {
      "attachments": {},
      "cell_type": "markdown",
      "id": "2fb16699",
      "metadata": {
        "id": "2fb16699"
      },
      "source": [
        "# Machine learning example\n",
        "(see also the 4th and 5th notebooks in the Machine Learning for Chemist's course).\n",
        "The code below uses one of `deepchem`'s models. There are also relevant models in the `sklearn` module. There are more options that be tuned. The process of changing these options is called *hyperparameter optimisation*.\n",
        "\n",
        "Here we train a classifier that will work on more than one task at a time. Classifiers put molecules into two classes: toxic or not toxic and multiclass classifiers do it on a per assay basis.\n",
        "\n",
        "Here we train a MultitaskClassifier on the NR datasets"
      ]
    },
    {
      "cell_type": "code",
      "execution_count": 198,
      "id": "dbd7b9b2",
      "metadata": {
        "colab": {
          "base_uri": "https://localhost:8080/"
        },
        "id": "dbd7b9b2",
        "outputId": "d41fd358-d6ad-42fc-ef66-37fc0c4520b5"
      },
      "outputs": [
        {
          "name": "stderr",
          "output_type": "stream",
          "text": [
            "c:\\ProgramData\\Anaconda3\\envs\\ml-for-chemists-tf2\\lib\\site-packages\\tensorflow\\python\\framework\\indexed_slices.py:432: UserWarning: Converting sparse IndexedSlices to a dense Tensor of unknown shape. This may consume a large amount of memory.\n",
            "  \"Converting sparse IndexedSlices to a dense Tensor of unknown shape. \"\n"
          ]
        }
      ],
      "source": [
        "nb_epoch = 100\n",
        "\n",
        "\n",
        "model=dc.models.GraphConvModel(\n",
        "    n_tasks=1,\n",
        "    dropouts=0.5)\n",
        "\n",
        "model.fit(NR_train_dataset, nb_epoch=nb_epoch)\n",
        "metric = dc.metrics.Metric(dc.metrics.roc_auc_score)\n"
      ]
    },
    {
      "cell_type": "code",
      "execution_count": 199,
      "id": "908281c5",
      "metadata": {},
      "outputs": [
        {
          "name": "stdout",
          "output_type": "stream",
          "text": [
            "WARNING:tensorflow:5 out of the last 51 calls to <function KerasModel._compute_model at 0x00000271823554C8> triggered tf.function retracing. Tracing is expensive and the excessive number of tracings could be due to (1) creating @tf.function repeatedly in a loop, (2) passing tensors with different shapes, (3) passing Python objects instead of tensors. For (1), please define your @tf.function outside of the loop. For (2), @tf.function has experimental_relax_shapes=True option that relaxes argument shapes that can avoid unnecessary retracing. For (3), please refer to https://www.tensorflow.org/tutorials/customization/performance#python_or_tensor_args and https://www.tensorflow.org/api_docs/python/tf/function for  more details.\n",
            "training set score: {'roc_auc_score': 0.9976580179772927}\n",
            "test set score: {'roc_auc_score': 0.7347372774367681}\n"
          ]
        }
      ],
      "source": [
        "print('training set score:', model.evaluate(NR_train_dataset, [metric]))\n",
        "print('test set score:', model.evaluate(NR_test_dataset, [metric]))"
      ]
    },
    {
      "attachments": {},
      "cell_type": "markdown",
      "id": "bd090a32",
      "metadata": {
        "id": "bd090a32"
      },
      "source": [
        "This tests the trained model. Classifiers are usually tested by looking at the Area Under the Curve of the Receiver Operator Curve or **ROC AUC**, these are the numbers in deepchem that you will compare to. ROC AUC goes from 0 to 1, 0.5 means it's as good as random guessing, 1 is perfect, and anything less than 0.5 means it's worse than guessing."
      ]
    },
    {
      "cell_type": "code",
      "execution_count": 200,
      "id": "d3bdbc46",
      "metadata": {
        "colab": {
          "base_uri": "https://localhost:8080/"
        },
        "id": "d3bdbc46",
        "outputId": "c75ddae9-65c7-4c3d-c757-9964893183f1"
      },
      "outputs": [
        {
          "name": "stdout",
          "output_type": "stream",
          "text": [
            "Over all tasks:\n",
            "Training set score: {'roc_auc_score': 0.9976580179772927}\n",
            "Valid set score: {'roc_auc_score': 0.723224043715847}\n",
            "Test set score: {'roc_auc_score': 0.7347372774367681}\n",
            "Per task:\n",
            "Task\t\tROC AUC\n",
            "NR-AR\t\t0.735\n"
          ]
        }
      ],
      "source": [
        "# this line tells deepchem what metric to use to score the datasets\n",
        "metric = dc.metrics.Metric(dc.metrics.roc_auc_score)\n",
        "\n",
        "# model.evaluate() tests the model.\n",
        "# we have to give it the data to use, the metric (or set of metrics) and the transformer used\n",
        "print('Over all tasks:')\n",
        "print(\"Training set score:\", model.evaluate(NR_train_dataset, [metric], transformers))\n",
        "print(\"Valid set score:\", model.evaluate(NR_valid_dataset, [metric], transformers))\n",
        "print(\"Test set score:\", model.evaluate(NR_test_dataset, [metric], transformers))\n",
        "ground_truth = NR_test_dataset.y\n",
        "predictions = model.predict(NR_test_dataset)\n",
        "metric = dc.metrics.roc_auc_score\n",
        "print('Per task:')\n",
        "print('Task\\t\\tROC AUC')\n",
        "for i in range(len(NR_test_dataset.tasks)):\n",
        "    score = metric(dc.metrics.to_one_hot(ground_truth[:,i]), predictions[:,i])\n",
        "    print('{:}\\t\\t{:.3}'.format(tasks[i],score))"
      ]
    },
    {
      "attachments": {},
      "cell_type": "markdown",
      "id": "b3acb6b7",
      "metadata": {
        "id": "b3acb6b7"
      },
      "source": [
        "Here is a ROC AUC for one of the tasks. It looks OK."
      ]
    },
    {
      "cell_type": "code",
      "execution_count": 201,
      "id": "653c169c",
      "metadata": {
        "colab": {
          "base_uri": "https://localhost:8080/",
          "height": 489
        },
        "id": "653c169c",
        "outputId": "09c6ac87-0415-4030-d2e4-f0f625ec5e67"
      },
      "outputs": [
        {
          "name": "stdout",
          "output_type": "stream",
          "text": [
            "[[[7.7162810e-02 9.2283714e-01]]\n",
            "\n",
            " [[9.9999988e-01 1.3786203e-07]]\n",
            "\n",
            " [[9.9986851e-01 1.3148940e-04]]\n",
            "\n",
            " ...\n",
            "\n",
            " [[1.0000000e+00 4.4170896e-08]]\n",
            "\n",
            " [[9.9803632e-01 1.9636275e-03]]\n",
            "\n",
            " [[5.4887671e-02 9.4511229e-01]]]\n",
            "[[7.7162810e-02 9.2283714e-01]\n",
            " [9.9999988e-01 1.3786203e-07]\n",
            " [9.9986851e-01 1.3148940e-04]\n",
            " ...\n",
            " [1.0000000e+00 4.4170896e-08]\n",
            " [9.9803632e-01 1.9636275e-03]\n",
            " [5.4887671e-02 9.4511229e-01]]\n"
          ]
        },
        {
          "data": {
            "text/plain": [
              "Text(0.5, 1.0, 'toxicity')"
            ]
          },
          "execution_count": 201,
          "metadata": {},
          "output_type": "execute_result"
        },
        {
          "data": {
            "image/png": "[encoded data removed]",
            "text/plain": [
              "<Figure size 640x480 with 1 Axes>"
            ]
          },
          "metadata": {},
          "output_type": "display_data"
        }
      ],
      "source": [
        "print(predictions)\n",
        "print(predictions[:,0])\n",
        "\n",
        "metrics.RocCurveDisplay.from_predictions(ground_truth, predictions[:,0][:,1])\n",
        "plt.plot([0,1], [0,1])\n",
        "plt.axis('square')\n",
        "plt.title(NR_test_dataset.tasks[0])"
      ]
    },
    {
      "attachments": {},
      "cell_type": "markdown",
      "id": "124f5c11",
      "metadata": {
        "id": "124f5c11"
      },
      "source": [
        "But, in this feild you can score the accuracy of your model in several ways, the metric you use for classificiation where you have unbalanced datasets is the F1 score (there are also other valid choices). And the f1 score for this task is terrible! (F1 goes between 0 and 1)"
      ]
    },
    {
      "cell_type": "code",
      "execution_count": 202,
      "id": "aebe22fc",
      "metadata": {
        "colab": {
          "base_uri": "https://localhost:8080/"
        },
        "id": "aebe22fc",
        "outputId": "4377eb57-b386-41dc-a87d-938f9a9c05bf"
      },
      "outputs": [
        {
          "data": {
            "text/plain": [
              "0.0"
            ]
          },
          "execution_count": 202,
          "metadata": {},
          "output_type": "execute_result"
        }
      ],
      "source": [
        "\n",
        "f1_score(\n",
        "    ground_truth,\n",
        "    [int(x) for x in predictions[:,0][:,1]],\n",
        "    average='binary')"
      ]
    },
    {
      "attachments": {},
      "cell_type": "markdown",
      "id": "0c92439b",
      "metadata": {
        "id": "0c92439b"
      },
      "source": [
        "This code counts how many molecules were predicted to be toxic:"
      ]
    },
    {
      "cell_type": "code",
      "execution_count": 21,
      "id": "9d5ccc75",
      "metadata": {
        "colab": {
          "base_uri": "https://localhost:8080/"
        },
        "id": "9d5ccc75",
        "outputId": "16b3a04b-7813-4463-83f9-d1b424b97504"
      },
      "outputs": [
        {
          "data": {
            "text/plain": [
              "0"
            ]
          },
          "execution_count": 21,
          "metadata": {},
          "output_type": "execute_result"
        }
      ],
      "source": [
        "sum([int(x) for x in predictions[:,task_number][:,1]])"
      ]
    },
    {
      "attachments": {},
      "cell_type": "markdown",
      "id": "1480a9e1",
      "metadata": {
        "id": "1480a9e1"
      },
      "source": [
        "This model has solved the problem by just saying everything is non-toxic, this is not what we want!"
      ]
    },
    {
      "attachments": {},
      "cell_type": "markdown",
      "id": "05abfa22",
      "metadata": {
        "id": "05abfa22"
      },
      "source": [
        "Here's the results for another task"
      ]
    },
    {
      "cell_type": "code",
      "execution_count": 22,
      "id": "ccc51b1f",
      "metadata": {
        "colab": {
          "base_uri": "https://localhost:8080/",
          "height": 489
        },
        "id": "ccc51b1f",
        "outputId": "a295ed5f-9535-4756-9dc9-c79cccc197e2"
      },
      "outputs": [
        {
          "data": {
            "text/plain": [
              "0.0"
            ]
          },
          "execution_count": 22,
          "metadata": {},
          "output_type": "execute_result"
        },
        {
          "data": {
            "image/png": "[encoded data removed]",
            "text/plain": [
              "<Figure size 640x480 with 1 Axes>"
            ]
          },
          "metadata": {},
          "output_type": "display_data"
        }
      ],
      "source": [
        "task_number = 4\n",
        "metrics.RocCurveDisplay.from_predictions(ground_truth[:,task_number], predictions[:,task_number][:,1])\n",
        "plt.plot([0,1], [0,1])\n",
        "plt.axis('square')\n",
        "plt.title(NR_test_dataset.tasks[task_number])\n",
        "f1_score(ground_truth[:,task_number], [int(x) for x in predictions[:,task_number][:,1]], average='binary')"
      ]
    },
    {
      "attachments": {},
      "cell_type": "markdown",
      "id": "1d43a11c",
      "metadata": {
        "id": "1d43a11c"
      },
      "source": [
        "# Training models\n",
        "\n",
        "This approach (GC + multiclass classifier) isn't very good, it's gotten nice AUC ROC curves but this is misleading. You will have to have a look at how to train with unbalanced classes.\n",
        "\n",
        "See for example:\n",
        "https://machinelearningmastery.com/roc-curves-and-precision-recall-curves-for-imbalanced-classification/\n",
        "https://machinelearningmastery.com/tour-of-evaluation-metrics-for-imbalanced-classification/\n",
        "https://machinelearningmastery.com/precision-recall-and-f-measure-for-imbalanced-classification/\n",
        "and the balancing and unbalancing transformers\n",
        "https://deepchem.readthedocs.io/en/latest/api_reference/transformers.html?highlight=dc.trans.BalancingTransformer#deepchem.trans.BalancingTransformer"
      ]
    },
    {
      "attachments": {},
      "cell_type": "markdown",
      "id": "2550b3a7",
      "metadata": {
        "id": "2550b3a7"
      },
      "source": [
        "Now go and have a play"
      ]
    },
    {
      "cell_type": "code",
      "execution_count": 23,
      "id": "43fc08a7",
      "metadata": {
        "colab": {
          "base_uri": "https://localhost:8080/",
          "height": 1000
        },
        "id": "43fc08a7",
        "outputId": "c4619e17-1a80-4b11-d3e6-bd118c17b303"
      },
      "outputs": [
        {
          "data": {
            "image/png": "[encoded data removed]",
            "text/plain": [
              "<Figure size 800x900 with 8 Axes>"
            ]
          },
          "metadata": {},
          "output_type": "display_data"
        }
      ],
      "source": [
        "\n",
        "def plot_roc_curves(clf):\n",
        "  fig, axes = plt.subplots(4,2, figsize=(8,9))\n",
        "\n",
        "  ground_truth = NR_test_dataset.y\n",
        "  predictions = clf.predict(NR_test_dataset)\n",
        "\n",
        "  for i in range(7):\n",
        "    task_number = i\n",
        "    plt.sca(axes[i // 2, i % 2])\n",
        "    metrics.RocCurveDisplay.from_predictions(ground_truth[:,task_number], predictions[:,task_number][:,1], ax=axes[i // 2, i % 2])\n",
        "    plt.plot([0,1], [0,1], 'r-', label='Random Classifier')\n",
        "    plt.legend()\n",
        "    plt.title(f'Task: {i}, {test_dataset.tasks[i]}')\n",
        "\n",
        "  fig.tight_layout()\n",
        "\n",
        "\n",
        "\n",
        "plot_roc_curves(model)"
      ]
    },
    {
      "cell_type": "code",
      "execution_count": null,
      "id": "f1d856ce",
      "metadata": {},
      "outputs": [],
      "source": []
    },
    {
      "cell_type": "code",
      "execution_count": 8,
      "id": "VbIUhb6J5LF9",
      "metadata": {
        "id": "VbIUhb6J5LF9"
      },
      "outputs": [
        {
          "data": {
            "text/html": [
              "<div>\n",
              "<style scoped>\n",
              "    .dataframe tbody tr th:only-of-type {\n",
              "        vertical-align: middle;\n",
              "    }\n",
              "\n",
              "    .dataframe tbody tr th {\n",
              "        vertical-align: top;\n",
              "    }\n",
              "\n",
              "    .dataframe thead th {\n",
              "        text-align: right;\n",
              "    }\n",
              "</style>\n",
              "<table border=\"1\" class=\"dataframe\">\n",
              "  <thead>\n",
              "    <tr style=\"text-align: right;\">\n",
              "      <th></th>\n",
              "      <th>SMILES</th>\n",
              "      <th>mol_wts</th>\n",
              "      <th>log_p</th>\n",
              "      <th>h_bond_acceptors</th>\n",
              "      <th>h_bond_donors</th>\n",
              "      <th>rot_bond</th>\n",
              "      <th>toxic_grp</th>\n",
              "      <th>total_hal</th>\n",
              "      <th>total_heaviest_atoms</th>\n",
              "      <th>tox</th>\n",
              "    </tr>\n",
              "  </thead>\n",
              "  <tbody>\n",
              "    <tr>\n",
              "      <th>0</th>\n",
              "      <td>CCc1nn(C2CCCCC2)c2cc([C@]3(C#N)CC[C@@H](C(=O)O...</td>\n",
              "      <td>379.225977</td>\n",
              "      <td>5.14008</td>\n",
              "      <td>4</td>\n",
              "      <td>1</td>\n",
              "      <td>4</td>\n",
              "      <td>1</td>\n",
              "      <td>0</td>\n",
              "      <td>0</td>\n",
              "      <td>1</td>\n",
              "    </tr>\n",
              "    <tr>\n",
              "      <th>1</th>\n",
              "      <td>O=C(O)CBr</td>\n",
              "      <td>137.931641</td>\n",
              "      <td>0.46590</td>\n",
              "      <td>1</td>\n",
              "      <td>1</td>\n",
              "      <td>1</td>\n",
              "      <td>1</td>\n",
              "      <td>1</td>\n",
              "      <td>1</td>\n",
              "      <td>0</td>\n",
              "    </tr>\n",
              "    <tr>\n",
              "      <th>2</th>\n",
              "      <td>CCc1cc(C(N)=S)ccn1</td>\n",
              "      <td>166.056469</td>\n",
              "      <td>1.27820</td>\n",
              "      <td>2</td>\n",
              "      <td>1</td>\n",
              "      <td>2</td>\n",
              "      <td>1</td>\n",
              "      <td>0</td>\n",
              "      <td>1</td>\n",
              "      <td>1</td>\n",
              "    </tr>\n",
              "    <tr>\n",
              "      <th>3</th>\n",
              "      <td>C=CCCCC</td>\n",
              "      <td>84.093900</td>\n",
              "      <td>2.36260</td>\n",
              "      <td>0</td>\n",
              "      <td>0</td>\n",
              "      <td>3</td>\n",
              "      <td>0</td>\n",
              "      <td>0</td>\n",
              "      <td>0</td>\n",
              "      <td>0</td>\n",
              "    </tr>\n",
              "    <tr>\n",
              "      <th>4</th>\n",
              "      <td>O=C1OC2(c3ccc(O)cc3Oc3cc(O)ccc32)c2ccccc21</td>\n",
              "      <td>332.068473</td>\n",
              "      <td>3.66580</td>\n",
              "      <td>5</td>\n",
              "      <td>2</td>\n",
              "      <td>0</td>\n",
              "      <td>2</td>\n",
              "      <td>0</td>\n",
              "      <td>0</td>\n",
              "      <td>1</td>\n",
              "    </tr>\n",
              "    <tr>\n",
              "      <th>...</th>\n",
              "      <td>...</td>\n",
              "      <td>...</td>\n",
              "      <td>...</td>\n",
              "      <td>...</td>\n",
              "      <td>...</td>\n",
              "      <td>...</td>\n",
              "      <td>...</td>\n",
              "      <td>...</td>\n",
              "      <td>...</td>\n",
              "      <td>...</td>\n",
              "    </tr>\n",
              "    <tr>\n",
              "      <th>779</th>\n",
              "      <td>NC(=O)c1ccccc1</td>\n",
              "      <td>121.052764</td>\n",
              "      <td>0.78550</td>\n",
              "      <td>1</td>\n",
              "      <td>1</td>\n",
              "      <td>1</td>\n",
              "      <td>0</td>\n",
              "      <td>0</td>\n",
              "      <td>0</td>\n",
              "      <td>0</td>\n",
              "    </tr>\n",
              "    <tr>\n",
              "      <th>780</th>\n",
              "      <td>Cc1ccc(S)cc1</td>\n",
              "      <td>124.034671</td>\n",
              "      <td>2.28372</td>\n",
              "      <td>1</td>\n",
              "      <td>1</td>\n",
              "      <td>0</td>\n",
              "      <td>0</td>\n",
              "      <td>0</td>\n",
              "      <td>1</td>\n",
              "      <td>0</td>\n",
              "    </tr>\n",
              "    <tr>\n",
              "      <th>781</th>\n",
              "      <td>CC(C)(S)C(=O)N[C@@H](CS)C(=O)O</td>\n",
              "      <td>223.033685</td>\n",
              "      <td>0.19400</td>\n",
              "      <td>4</td>\n",
              "      <td>4</td>\n",
              "      <td>4</td>\n",
              "      <td>1</td>\n",
              "      <td>0</td>\n",
              "      <td>2</td>\n",
              "      <td>0</td>\n",
              "    </tr>\n",
              "    <tr>\n",
              "      <th>782</th>\n",
              "      <td>CC1(C)C(/C=C\\C=C/C=C\\C=C2\\N(CCCCS(=O)(=O)[O-])...</td>\n",
              "      <td>751.288103</td>\n",
              "      <td>8.37030</td>\n",
              "      <td>7</td>\n",
              "      <td>0</td>\n",
              "      <td>14</td>\n",
              "      <td>0</td>\n",
              "      <td>0</td>\n",
              "      <td>2</td>\n",
              "      <td>0</td>\n",
              "    </tr>\n",
              "    <tr>\n",
              "      <th>783</th>\n",
              "      <td>C[C@]12CCC(=O)C[C@@H]1CC[C@@H]1[C@@H]2CC[C@@]2...</td>\n",
              "      <td>304.240230</td>\n",
              "      <td>4.34920</td>\n",
              "      <td>2</td>\n",
              "      <td>1</td>\n",
              "      <td>0</td>\n",
              "      <td>0</td>\n",
              "      <td>0</td>\n",
              "      <td>0</td>\n",
              "      <td>1</td>\n",
              "    </tr>\n",
              "  </tbody>\n",
              "</table>\n",
              "<p>784 rows × 10 columns</p>\n",
              "</div>"
            ],
            "text/plain": [
              "                                                SMILES     mol_wts    log_p  \\\n",
              "0    CCc1nn(C2CCCCC2)c2cc([C@]3(C#N)CC[C@@H](C(=O)O...  379.225977  5.14008   \n",
              "1                                            O=C(O)CBr  137.931641  0.46590   \n",
              "2                                   CCc1cc(C(N)=S)ccn1  166.056469  1.27820   \n",
              "3                                              C=CCCCC   84.093900  2.36260   \n",
              "4           O=C1OC2(c3ccc(O)cc3Oc3cc(O)ccc32)c2ccccc21  332.068473  3.66580   \n",
              "..                                                 ...         ...      ...   \n",
              "779                                     NC(=O)c1ccccc1  121.052764  0.78550   \n",
              "780                                       Cc1ccc(S)cc1  124.034671  2.28372   \n",
              "781                     CC(C)(S)C(=O)N[C@@H](CS)C(=O)O  223.033685  0.19400   \n",
              "782  CC1(C)C(/C=C\\C=C/C=C\\C=C2\\N(CCCCS(=O)(=O)[O-])...  751.288103  8.37030   \n",
              "783  C[C@]12CCC(=O)C[C@@H]1CC[C@@H]1[C@@H]2CC[C@@]2...  304.240230  4.34920   \n",
              "\n",
              "     h_bond_acceptors  h_bond_donors  rot_bond  toxic_grp  total_hal  \\\n",
              "0                   4              1         4          1          0   \n",
              "1                   1              1         1          1          1   \n",
              "2                   2              1         2          1          0   \n",
              "3                   0              0         3          0          0   \n",
              "4                   5              2         0          2          0   \n",
              "..                ...            ...       ...        ...        ...   \n",
              "779                 1              1         1          0          0   \n",
              "780                 1              1         0          0          0   \n",
              "781                 4              4         4          1          0   \n",
              "782                 7              0        14          0          0   \n",
              "783                 2              1         0          0          0   \n",
              "\n",
              "     total_heaviest_atoms  tox  \n",
              "0                       0    1  \n",
              "1                       1    0  \n",
              "2                       1    1  \n",
              "3                       0    0  \n",
              "4                       0    1  \n",
              "..                    ...  ...  \n",
              "779                     0    0  \n",
              "780                     1    0  \n",
              "781                     2    0  \n",
              "782                     2    0  \n",
              "783                     0    1  \n",
              "\n",
              "[784 rows x 10 columns]"
            ]
          },
          "execution_count": 8,
          "metadata": {},
          "output_type": "execute_result"
        }
      ],
      "source": [
        "from rdkit.Chem import Fragments\n",
        "from rdkit.Chem import Descriptors\n",
        "\n",
        "train_dataset, valid_dataset, test_dataset = datasets\n",
        "\n",
        "metric = dc.metrics.Metric(dc.metrics.roc_auc_score, np.mean)\n",
        "\n",
        "\n",
        "SMILES_strings = test_dataset.ids\n",
        "\n",
        "mol = [Chem.MolFromSmiles(formula) for formula in SMILES_strings]\n",
        "\n",
        "def toxic_functional_groups(formula):\n",
        "    total = 0\n",
        "    total += Chem.Fragments.fr_ArN(formula)\n",
        "    total += Chem.Fragments.fr_Al_COO(formula)\n",
        "    total += Chem.Fragments.fr_Ar_COO(formula)\n",
        "    total += Chem.Fragments.fr_Ar_OH(formula)\n",
        "    total += Chem.Fragments.fr_nitro_arom(formula)\n",
        "    total += Chem.Fragments.fr_C_S(formula)\n",
        "    total += Chem.Fragments.fr_epoxide(formula)\n",
        "\n",
        "\n",
        "\n",
        "    return total\n",
        "\n",
        "def total_halogens(formula):\n",
        "    return Chem.Fragments.fr_halogen(formula)\n",
        "\n",
        "def total_heaviest_atoms(formula):\n",
        "    count = 0\n",
        "    for atom in formula.GetAtoms():\n",
        "        if atom.GetAtomicNum() > 10:\n",
        "            count += 1\n",
        "    \n",
        "    return count\n",
        "\n",
        "    \n",
        "\n",
        "mol_wts = [Chem.rdMolDescriptors.CalcExactMolWt(formula) for formula in mol]\n",
        "log_p = [Chem.rdMolDescriptors.CalcCrippenDescriptors(formula)[0] for formula in mol]\n",
        "h_bond_acceptors = [Chem.rdMolDescriptors.CalcNumHBA(formula) for formula in mol]\n",
        "h_bond_donors = [Chem.rdMolDescriptors.CalcNumHBD(formula) for formula in mol]\n",
        "rot_bond = [Chem.rdMolDescriptors.CalcNumRotatableBonds(formula) for formula in mol]\n",
        "toxic_grp = [toxic_functional_groups(formula) for formula in mol]\n",
        "total_hal = [total_halogens(formula) for formula in mol]\n",
        "heaviest_at = [total_heaviest_atoms(formula) for formula in mol]\n",
        "\n",
        "\n",
        "\n",
        "dataframe = pd.DataFrame(data={'SMILES':SMILES_strings, \n",
        "                               'mol_wts': mol_wts, \n",
        "                               'log_p': log_p, \n",
        "                               'h_bond_acceptors': h_bond_acceptors, \n",
        "                               'h_bond_donors':h_bond_donors, \n",
        "                               'rot_bond':rot_bond, \n",
        "                               'toxic_grp':toxic_grp,\n",
        "                               'total_hal':total_hal,\n",
        "                               'total_heaviest_atoms':heaviest_at,\n",
        "                               'tox': test_tox_df['tox_bin']\n",
        "                               })\n",
        "\n",
        "dataframe\n"
      ]
    },
    {
      "cell_type": "code",
      "execution_count": 13,
      "metadata": {},
      "outputs": [
        {
          "data": {
            "text/plain": [
              "<matplotlib.legend.Legend at 0x21afc355a88>"
            ]
          },
          "execution_count": 13,
          "metadata": {},
          "output_type": "execute_result"
        },
        {
          "data": {
            "image/png": "[encoded data removed]",
            "text/plain": [
              "<Figure size 800x600 with 1 Axes>"
            ]
          },
          "metadata": {},
          "output_type": "display_data"
        }
      ],
      "source": [
        "from matplotlib import colors\n",
        "import seaborn as sns\n",
        "\n",
        "\n",
        "plt.figure(figsize=(8,6))\n",
        "\n",
        "sns.scatterplot(x='total_hal', y='toxic_grp', hue='tox', data=dataframe, palette={0: 'blue', 1:'red'}, legend=True)\n",
        "\n",
        "plt.legend(title='Toxicology', labels=['Non-Toxic', 'Toxic'])\n",
        "\n"
      ]
    },
    {
      "cell_type": "code",
      "execution_count": null,
      "id": "5f64ac8a",
      "metadata": {},
      "outputs": [],
      "source": []
    }
  ],
  "metadata": {
    "colab": {
      "provenance": []
    },
    "kernelspec": {
      "display_name": "Python 3 (ipykernel)",
      "language": "python",
      "name": "python3"
    },
    "language_info": {
      "codemirror_mode": {
        "name": "ipython",
        "version": 3
      },
      "file_extension": ".py",
      "mimetype": "text/x-python",
      "name": "python",
      "nbconvert_exporter": "python",
      "pygments_lexer": "ipython3",
      "version": "3.7.12"
    }
  },
  "nbformat": 4,
  "nbformat_minor": 5
}
