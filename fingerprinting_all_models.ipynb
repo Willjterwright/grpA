{
 "cells": [
  {
   "cell_type": "code",
   "execution_count": 1,
   "metadata": {},
   "outputs": [],
   "source": [
    "#Loading modules\n",
    "\n",
    "import deepchem as dc\n",
    "from rdkit import Chem\n",
    "from rdkit.Chem import Draw\n",
    "from rdkit.Chem import Features\n",
    "from rdkit.Chem import Fragments as fr\n",
    "from rdkit.Chem import rdMolDescriptors\n",
    "import tensorflow as tf\n",
    "\n",
    "import pandas as pd\n",
    "\n",
    "from matplotlib import pyplot as plt\n",
    "\n",
    "import numpy as np\n",
    "\n",
    "from sklearn import metrics\n",
    "from sklearn.metrics import f1_score\n",
    "\n",
    "import warnings\n",
    "warnings.filterwarnings(\"ignore\")"
   ]
  },
  {
   "cell_type": "code",
   "execution_count": 2,
   "metadata": {},
   "outputs": [],
   "source": [
    "import model_stats"
   ]
  },
  {
   "cell_type": "code",
   "execution_count": 32,
   "metadata": {},
   "outputs": [
    {
     "name": "stderr",
     "output_type": "stream",
     "text": [
      "[10:08:10] WARNING: not removing hydrogen atom without neighbors\n"
     ]
    },
    {
     "name": "stdout",
     "output_type": "stream",
     "text": [
      "<DiskDataset X.shape: (6264, 1024), y.shape: (6264, 12), w.shape: (6264, 12), task_names: ['NR-AR' 'NR-AR-LBD' 'NR-AhR' ... 'SR-HSE' 'SR-MMP' 'SR-p53']>\n"
     ]
    }
   ],
   "source": [
    "tasks, datasets, transformers = dc.molnet.load_tox21(featurizer='ECFP', splitter='random', reload=False)\n",
    "train_dataset, valid_dataset, test_dataset = datasets\n",
    "print(train_dataset)"
   ]
  },
  {
   "cell_type": "code",
   "execution_count": 41,
   "metadata": {},
   "outputs": [],
   "source": [
    "train_df = train_dataset.to_dataframe()\n",
    "test_df = test_dataset.to_dataframe()\n",
    "valid_df = valid_dataset.to_dataframe()"
   ]
  },
  {
   "cell_type": "code",
   "execution_count": 42,
   "metadata": {},
   "outputs": [],
   "source": [
    "X_train = train_df.filter(like='X', axis=1)\n",
    "X_test = test_df.filter(like='X', axis=1)\n",
    "X_valid = valid_df.filter(like='X', axis=1)\n"
   ]
  },
  {
   "cell_type": "code",
   "execution_count": 54,
   "metadata": {},
   "outputs": [],
   "source": [
    "y_train_df = train_df[['y1', 'y2', 'y3', 'y4', 'y5', 'y6', 'y7']]\n",
    "y_test_df = test_df[['y1', 'y2', 'y3', 'y4', 'y5', 'y6', 'y7']]\n",
    "y_valid_df = valid_df[['y1', 'y2', 'y3', 'y4', 'y5', 'y6', 'y7']]"
   ]
  },
  {
   "cell_type": "code",
   "execution_count": 55,
   "metadata": {},
   "outputs": [],
   "source": [
    "y_train_df = np.where(y_train_df.sum(axis=1) > 0, 1, 0)\n",
    "y_test_df = np.where(y_test_df.sum(axis=1) > 0, 1, 0)\n",
    "y_valid_df = np.where(y_valid_df.sum(axis=1) > 0, 1, 0)\n"
   ]
  },
  {
   "cell_type": "code",
   "execution_count": 59,
   "metadata": {},
   "outputs": [],
   "source": [
    "train = X_train\n",
    "train['tox'] = y_train_df\n",
    "\n",
    "test = X_test\n",
    "test['tox'] = y_test_df\n",
    "\n",
    "valid = X_valid\n",
    "valid['tox'] = y_valid_df"
   ]
  },
  {
   "cell_type": "code",
   "execution_count": 95,
   "metadata": {},
   "outputs": [
    {
     "data": {
      "text/plain": [
       "784"
      ]
     },
     "execution_count": 95,
     "metadata": {},
     "output_type": "execute_result"
    }
   ],
   "source": [
    "y_test = y_test_df\n",
    "y_valid = y_valid_df\n",
    "\n",
    "len(y_test)"
   ]
  },
  {
   "cell_type": "code",
   "execution_count": 96,
   "metadata": {},
   "outputs": [
    {
     "data": {
      "text/plain": [
       "784"
      ]
     },
     "execution_count": 96,
     "metadata": {},
     "output_type": "execute_result"
    }
   ],
   "source": [
    "len(X_test)"
   ]
  },
  {
   "cell_type": "code",
   "execution_count": 61,
   "metadata": {},
   "outputs": [],
   "source": [
    "from sklearn.utils import resample\n",
    "\n",
    "percent_toxic = 100*sum(train['tox'])/len(train)\n",
    "percent_non_toxic = 100 - percent_toxic\n",
    "\n",
    "df_majority = train[train['tox']==0]\n",
    "df_minority = train[train['tox']==1]\n",
    "\n"
   ]
  },
  {
   "cell_type": "code",
   "execution_count": 62,
   "metadata": {},
   "outputs": [
    {
     "name": "stdout",
     "output_type": "stream",
     "text": [
      "4757 1507\n"
     ]
    }
   ],
   "source": [
    "print(len(df_majority), len(df_minority))"
   ]
  },
  {
   "cell_type": "code",
   "execution_count": 63,
   "metadata": {},
   "outputs": [
    {
     "data": {
      "text/html": [
       "<div>\n",
       "<style scoped>\n",
       "    .dataframe tbody tr th:only-of-type {\n",
       "        vertical-align: middle;\n",
       "    }\n",
       "\n",
       "    .dataframe tbody tr th {\n",
       "        vertical-align: top;\n",
       "    }\n",
       "\n",
       "    .dataframe thead th {\n",
       "        text-align: right;\n",
       "    }\n",
       "</style>\n",
       "<table border=\"1\" class=\"dataframe\">\n",
       "  <thead>\n",
       "    <tr style=\"text-align: right;\">\n",
       "      <th></th>\n",
       "      <th>X1</th>\n",
       "      <th>X2</th>\n",
       "      <th>X3</th>\n",
       "      <th>X4</th>\n",
       "      <th>X5</th>\n",
       "      <th>X6</th>\n",
       "      <th>X7</th>\n",
       "      <th>X8</th>\n",
       "      <th>X9</th>\n",
       "      <th>X10</th>\n",
       "      <th>...</th>\n",
       "      <th>X1016</th>\n",
       "      <th>X1017</th>\n",
       "      <th>X1018</th>\n",
       "      <th>X1019</th>\n",
       "      <th>X1020</th>\n",
       "      <th>X1021</th>\n",
       "      <th>X1022</th>\n",
       "      <th>X1023</th>\n",
       "      <th>X1024</th>\n",
       "      <th>tox</th>\n",
       "    </tr>\n",
       "  </thead>\n",
       "  <tbody>\n",
       "    <tr>\n",
       "      <th>0</th>\n",
       "      <td>0.0</td>\n",
       "      <td>0.0</td>\n",
       "      <td>0.0</td>\n",
       "      <td>0.0</td>\n",
       "      <td>0.0</td>\n",
       "      <td>0.0</td>\n",
       "      <td>0.0</td>\n",
       "      <td>0.0</td>\n",
       "      <td>0.0</td>\n",
       "      <td>0.0</td>\n",
       "      <td>...</td>\n",
       "      <td>0.0</td>\n",
       "      <td>0.0</td>\n",
       "      <td>0.0</td>\n",
       "      <td>0.0</td>\n",
       "      <td>0.0</td>\n",
       "      <td>0.0</td>\n",
       "      <td>0.0</td>\n",
       "      <td>0.0</td>\n",
       "      <td>0.0</td>\n",
       "      <td>0</td>\n",
       "    </tr>\n",
       "    <tr>\n",
       "      <th>1</th>\n",
       "      <td>0.0</td>\n",
       "      <td>0.0</td>\n",
       "      <td>0.0</td>\n",
       "      <td>0.0</td>\n",
       "      <td>0.0</td>\n",
       "      <td>0.0</td>\n",
       "      <td>0.0</td>\n",
       "      <td>0.0</td>\n",
       "      <td>0.0</td>\n",
       "      <td>0.0</td>\n",
       "      <td>...</td>\n",
       "      <td>0.0</td>\n",
       "      <td>0.0</td>\n",
       "      <td>0.0</td>\n",
       "      <td>0.0</td>\n",
       "      <td>0.0</td>\n",
       "      <td>0.0</td>\n",
       "      <td>0.0</td>\n",
       "      <td>0.0</td>\n",
       "      <td>0.0</td>\n",
       "      <td>0</td>\n",
       "    </tr>\n",
       "    <tr>\n",
       "      <th>2</th>\n",
       "      <td>0.0</td>\n",
       "      <td>0.0</td>\n",
       "      <td>0.0</td>\n",
       "      <td>0.0</td>\n",
       "      <td>0.0</td>\n",
       "      <td>0.0</td>\n",
       "      <td>0.0</td>\n",
       "      <td>0.0</td>\n",
       "      <td>0.0</td>\n",
       "      <td>0.0</td>\n",
       "      <td>...</td>\n",
       "      <td>0.0</td>\n",
       "      <td>0.0</td>\n",
       "      <td>0.0</td>\n",
       "      <td>0.0</td>\n",
       "      <td>0.0</td>\n",
       "      <td>0.0</td>\n",
       "      <td>0.0</td>\n",
       "      <td>0.0</td>\n",
       "      <td>0.0</td>\n",
       "      <td>0</td>\n",
       "    </tr>\n",
       "    <tr>\n",
       "      <th>3</th>\n",
       "      <td>0.0</td>\n",
       "      <td>0.0</td>\n",
       "      <td>0.0</td>\n",
       "      <td>0.0</td>\n",
       "      <td>0.0</td>\n",
       "      <td>0.0</td>\n",
       "      <td>0.0</td>\n",
       "      <td>0.0</td>\n",
       "      <td>0.0</td>\n",
       "      <td>0.0</td>\n",
       "      <td>...</td>\n",
       "      <td>0.0</td>\n",
       "      <td>0.0</td>\n",
       "      <td>0.0</td>\n",
       "      <td>0.0</td>\n",
       "      <td>1.0</td>\n",
       "      <td>0.0</td>\n",
       "      <td>0.0</td>\n",
       "      <td>0.0</td>\n",
       "      <td>0.0</td>\n",
       "      <td>0</td>\n",
       "    </tr>\n",
       "    <tr>\n",
       "      <th>4</th>\n",
       "      <td>0.0</td>\n",
       "      <td>0.0</td>\n",
       "      <td>0.0</td>\n",
       "      <td>0.0</td>\n",
       "      <td>0.0</td>\n",
       "      <td>0.0</td>\n",
       "      <td>0.0</td>\n",
       "      <td>0.0</td>\n",
       "      <td>0.0</td>\n",
       "      <td>0.0</td>\n",
       "      <td>...</td>\n",
       "      <td>0.0</td>\n",
       "      <td>0.0</td>\n",
       "      <td>0.0</td>\n",
       "      <td>0.0</td>\n",
       "      <td>0.0</td>\n",
       "      <td>0.0</td>\n",
       "      <td>0.0</td>\n",
       "      <td>0.0</td>\n",
       "      <td>0.0</td>\n",
       "      <td>0</td>\n",
       "    </tr>\n",
       "    <tr>\n",
       "      <th>...</th>\n",
       "      <td>...</td>\n",
       "      <td>...</td>\n",
       "      <td>...</td>\n",
       "      <td>...</td>\n",
       "      <td>...</td>\n",
       "      <td>...</td>\n",
       "      <td>...</td>\n",
       "      <td>...</td>\n",
       "      <td>...</td>\n",
       "      <td>...</td>\n",
       "      <td>...</td>\n",
       "      <td>...</td>\n",
       "      <td>...</td>\n",
       "      <td>...</td>\n",
       "      <td>...</td>\n",
       "      <td>...</td>\n",
       "      <td>...</td>\n",
       "      <td>...</td>\n",
       "      <td>...</td>\n",
       "      <td>...</td>\n",
       "      <td>...</td>\n",
       "    </tr>\n",
       "    <tr>\n",
       "      <th>3742</th>\n",
       "      <td>0.0</td>\n",
       "      <td>0.0</td>\n",
       "      <td>0.0</td>\n",
       "      <td>0.0</td>\n",
       "      <td>0.0</td>\n",
       "      <td>0.0</td>\n",
       "      <td>0.0</td>\n",
       "      <td>0.0</td>\n",
       "      <td>0.0</td>\n",
       "      <td>0.0</td>\n",
       "      <td>...</td>\n",
       "      <td>0.0</td>\n",
       "      <td>0.0</td>\n",
       "      <td>0.0</td>\n",
       "      <td>0.0</td>\n",
       "      <td>0.0</td>\n",
       "      <td>0.0</td>\n",
       "      <td>0.0</td>\n",
       "      <td>0.0</td>\n",
       "      <td>0.0</td>\n",
       "      <td>1</td>\n",
       "    </tr>\n",
       "    <tr>\n",
       "      <th>294</th>\n",
       "      <td>0.0</td>\n",
       "      <td>0.0</td>\n",
       "      <td>0.0</td>\n",
       "      <td>0.0</td>\n",
       "      <td>0.0</td>\n",
       "      <td>0.0</td>\n",
       "      <td>0.0</td>\n",
       "      <td>0.0</td>\n",
       "      <td>0.0</td>\n",
       "      <td>0.0</td>\n",
       "      <td>...</td>\n",
       "      <td>0.0</td>\n",
       "      <td>0.0</td>\n",
       "      <td>0.0</td>\n",
       "      <td>0.0</td>\n",
       "      <td>0.0</td>\n",
       "      <td>0.0</td>\n",
       "      <td>0.0</td>\n",
       "      <td>0.0</td>\n",
       "      <td>0.0</td>\n",
       "      <td>1</td>\n",
       "    </tr>\n",
       "    <tr>\n",
       "      <th>5975</th>\n",
       "      <td>0.0</td>\n",
       "      <td>0.0</td>\n",
       "      <td>0.0</td>\n",
       "      <td>0.0</td>\n",
       "      <td>0.0</td>\n",
       "      <td>0.0</td>\n",
       "      <td>0.0</td>\n",
       "      <td>0.0</td>\n",
       "      <td>0.0</td>\n",
       "      <td>0.0</td>\n",
       "      <td>...</td>\n",
       "      <td>0.0</td>\n",
       "      <td>0.0</td>\n",
       "      <td>0.0</td>\n",
       "      <td>0.0</td>\n",
       "      <td>0.0</td>\n",
       "      <td>0.0</td>\n",
       "      <td>0.0</td>\n",
       "      <td>0.0</td>\n",
       "      <td>0.0</td>\n",
       "      <td>1</td>\n",
       "    </tr>\n",
       "    <tr>\n",
       "      <th>3668</th>\n",
       "      <td>0.0</td>\n",
       "      <td>0.0</td>\n",
       "      <td>0.0</td>\n",
       "      <td>0.0</td>\n",
       "      <td>0.0</td>\n",
       "      <td>0.0</td>\n",
       "      <td>0.0</td>\n",
       "      <td>0.0</td>\n",
       "      <td>0.0</td>\n",
       "      <td>0.0</td>\n",
       "      <td>...</td>\n",
       "      <td>0.0</td>\n",
       "      <td>0.0</td>\n",
       "      <td>0.0</td>\n",
       "      <td>0.0</td>\n",
       "      <td>1.0</td>\n",
       "      <td>0.0</td>\n",
       "      <td>0.0</td>\n",
       "      <td>0.0</td>\n",
       "      <td>0.0</td>\n",
       "      <td>1</td>\n",
       "    </tr>\n",
       "    <tr>\n",
       "      <th>5841</th>\n",
       "      <td>0.0</td>\n",
       "      <td>1.0</td>\n",
       "      <td>0.0</td>\n",
       "      <td>0.0</td>\n",
       "      <td>0.0</td>\n",
       "      <td>0.0</td>\n",
       "      <td>0.0</td>\n",
       "      <td>0.0</td>\n",
       "      <td>0.0</td>\n",
       "      <td>0.0</td>\n",
       "      <td>...</td>\n",
       "      <td>0.0</td>\n",
       "      <td>0.0</td>\n",
       "      <td>0.0</td>\n",
       "      <td>0.0</td>\n",
       "      <td>0.0</td>\n",
       "      <td>0.0</td>\n",
       "      <td>0.0</td>\n",
       "      <td>0.0</td>\n",
       "      <td>0.0</td>\n",
       "      <td>1</td>\n",
       "    </tr>\n",
       "  </tbody>\n",
       "</table>\n",
       "<p>9514 rows × 1025 columns</p>\n",
       "</div>"
      ],
      "text/plain": [
       "       X1   X2   X3   X4   X5   X6   X7   X8   X9  X10  ...  X1016  X1017  \\\n",
       "0     0.0  0.0  0.0  0.0  0.0  0.0  0.0  0.0  0.0  0.0  ...    0.0    0.0   \n",
       "1     0.0  0.0  0.0  0.0  0.0  0.0  0.0  0.0  0.0  0.0  ...    0.0    0.0   \n",
       "2     0.0  0.0  0.0  0.0  0.0  0.0  0.0  0.0  0.0  0.0  ...    0.0    0.0   \n",
       "3     0.0  0.0  0.0  0.0  0.0  0.0  0.0  0.0  0.0  0.0  ...    0.0    0.0   \n",
       "4     0.0  0.0  0.0  0.0  0.0  0.0  0.0  0.0  0.0  0.0  ...    0.0    0.0   \n",
       "...   ...  ...  ...  ...  ...  ...  ...  ...  ...  ...  ...    ...    ...   \n",
       "3742  0.0  0.0  0.0  0.0  0.0  0.0  0.0  0.0  0.0  0.0  ...    0.0    0.0   \n",
       "294   0.0  0.0  0.0  0.0  0.0  0.0  0.0  0.0  0.0  0.0  ...    0.0    0.0   \n",
       "5975  0.0  0.0  0.0  0.0  0.0  0.0  0.0  0.0  0.0  0.0  ...    0.0    0.0   \n",
       "3668  0.0  0.0  0.0  0.0  0.0  0.0  0.0  0.0  0.0  0.0  ...    0.0    0.0   \n",
       "5841  0.0  1.0  0.0  0.0  0.0  0.0  0.0  0.0  0.0  0.0  ...    0.0    0.0   \n",
       "\n",
       "      X1018  X1019  X1020  X1021  X1022  X1023  X1024  tox  \n",
       "0       0.0    0.0    0.0    0.0    0.0    0.0    0.0    0  \n",
       "1       0.0    0.0    0.0    0.0    0.0    0.0    0.0    0  \n",
       "2       0.0    0.0    0.0    0.0    0.0    0.0    0.0    0  \n",
       "3       0.0    0.0    1.0    0.0    0.0    0.0    0.0    0  \n",
       "4       0.0    0.0    0.0    0.0    0.0    0.0    0.0    0  \n",
       "...     ...    ...    ...    ...    ...    ...    ...  ...  \n",
       "3742    0.0    0.0    0.0    0.0    0.0    0.0    0.0    1  \n",
       "294     0.0    0.0    0.0    0.0    0.0    0.0    0.0    1  \n",
       "5975    0.0    0.0    0.0    0.0    0.0    0.0    0.0    1  \n",
       "3668    0.0    0.0    1.0    0.0    0.0    0.0    0.0    1  \n",
       "5841    0.0    0.0    0.0    0.0    0.0    0.0    0.0    1  \n",
       "\n",
       "[9514 rows x 1025 columns]"
      ]
     },
     "execution_count": 63,
     "metadata": {},
     "output_type": "execute_result"
    }
   ],
   "source": [
    "df_minority_oversampled = resample(df_minority, \n",
    "                                 replace=True, \n",
    "                                 n_samples= len(df_majority))\n",
    "\n",
    "df_oversampled = pd.concat([df_majority, df_minority_oversampled])\n",
    "\n",
    "df_oversampled"
   ]
  },
  {
   "cell_type": "code",
   "execution_count": 65,
   "metadata": {},
   "outputs": [
    {
     "data": {
      "text/plain": [
       "<matplotlib.legend.Legend at 0x27e101b59c8>"
      ]
     },
     "execution_count": 65,
     "metadata": {},
     "output_type": "execute_result"
    },
    {
     "data": {
      "image/png": "[encoded data removed]",
      "text/plain": [
       "<Figure size 640x480 with 1 Axes>"
      ]
     },
     "metadata": {},
     "output_type": "display_data"
    }
   ],
   "source": [
    "from matplotlib import pyplot as plt\n",
    "\n",
    "percent_toxic = 100*sum(df_oversampled['tox'])/len(df_oversampled)\n",
    "percent_non_toxic = 100-percent_toxic\n",
    "\n",
    "ax=plt.bar('Toxicity',percent_toxic, label='Toxic')\n",
    "plt.bar('Toxicity',percent_non_toxic, bottom= percent_toxic, label='Non-Toxic')\n",
    "plt.xticks(rotation=-45, ha='left')\n",
    "plt.ylabel(\"Molecules %\")\n",
    "plt.legend()"
   ]
  },
  {
   "cell_type": "code",
   "execution_count": 67,
   "metadata": {},
   "outputs": [],
   "source": [
    "X_train = df_oversampled.drop(['tox'], axis = 1)\n",
    "\n",
    "y_train = df_oversampled[['tox']]"
   ]
  },
  {
   "cell_type": "code",
   "execution_count": 97,
   "metadata": {},
   "outputs": [],
   "source": [
    "from sklearn.ensemble import RandomForestClassifier\n",
    "\n",
    "rf_clf = RandomForestClassifier(criterion='gini',   # gini criteron measures the probability of misclassification for each split - values close to zero are ideal.\n",
    "                             max_depth = 10,     # maximum depth of each decision tree\n",
    "                             min_samples_split = 20,  # minimum number of samples required to split an internal node\n",
    "                             random_state = 5)"
   ]
  },
  {
   "cell_type": "code",
   "execution_count": 98,
   "metadata": {},
   "outputs": [
    {
     "data": {
      "text/plain": [
       "RandomForestClassifier(max_depth=10, min_samples_split=20, random_state=5)"
      ]
     },
     "execution_count": 98,
     "metadata": {},
     "output_type": "execute_result"
    }
   ],
   "source": [
    "rf_clf.fit(X_train, y_train)"
   ]
  },
  {
   "cell_type": "code",
   "execution_count": 99,
   "metadata": {},
   "outputs": [],
   "source": [
    "from sklearn.linear_model import SGDClassifier\n",
    "\n",
    "sgd_clf = SGDClassifier()"
   ]
  },
  {
   "cell_type": "code",
   "execution_count": 100,
   "metadata": {},
   "outputs": [
    {
     "data": {
      "text/plain": [
       "SGDClassifier()"
      ]
     },
     "execution_count": 100,
     "metadata": {},
     "output_type": "execute_result"
    }
   ],
   "source": [
    "sgd_clf.fit(X_train, y_train)"
   ]
  },
  {
   "cell_type": "code",
   "execution_count": 101,
   "metadata": {},
   "outputs": [],
   "source": [
    "from sklearn.svm import SVC\n",
    "\n",
    "svm_clf = SVC()"
   ]
  },
  {
   "cell_type": "code",
   "execution_count": 102,
   "metadata": {},
   "outputs": [
    {
     "data": {
      "text/plain": [
       "SVC()"
      ]
     },
     "execution_count": 102,
     "metadata": {},
     "output_type": "execute_result"
    }
   ],
   "source": [
    "svm_clf.fit(X_train, y_train)"
   ]
  },
  {
   "cell_type": "code",
   "execution_count": 103,
   "metadata": {},
   "outputs": [],
   "source": [
    "from sklearn.neighbors import KNeighborsClassifier\n",
    "\n",
    "knn = KNeighborsClassifier()\n"
   ]
  },
  {
   "cell_type": "code",
   "execution_count": 104,
   "metadata": {},
   "outputs": [
    {
     "data": {
      "text/plain": [
       "KNeighborsClassifier()"
      ]
     },
     "execution_count": 104,
     "metadata": {},
     "output_type": "execute_result"
    }
   ],
   "source": [
    "knn.fit(X_train, y_train)"
   ]
  },
  {
   "cell_type": "code",
   "execution_count": 105,
   "metadata": {},
   "outputs": [],
   "source": [
    "from sklearn.naive_bayes import GaussianNB\n",
    "\n",
    "nb_clf = GaussianNB()"
   ]
  },
  {
   "cell_type": "code",
   "execution_count": 106,
   "metadata": {},
   "outputs": [
    {
     "data": {
      "text/plain": [
       "GaussianNB()"
      ]
     },
     "execution_count": 106,
     "metadata": {},
     "output_type": "execute_result"
    }
   ],
   "source": [
    "nb_clf.fit(X_train, y_train)"
   ]
  },
  {
   "cell_type": "code",
   "execution_count": 125,
   "metadata": {},
   "outputs": [
    {
     "ename": "TypeError",
     "evalue": "__init__() got an unexpected keyword argument 'probability'",
     "output_type": "error",
     "traceback": [
      "\u001b[1;31m---------------------------------------------------------------------------\u001b[0m",
      "\u001b[1;31mTypeError\u001b[0m                                 Traceback (most recent call last)",
      "\u001b[1;32m~\\AppData\\Local\\Temp\\ipykernel_25404\\1343793370.py\u001b[0m in \u001b[0;36m<module>\u001b[1;34m\u001b[0m\n\u001b[0;32m     17\u001b[0m                 \u001b[1;33m(\u001b[0m\u001b[1;34m'knn'\u001b[0m\u001b[1;33m,\u001b[0m \u001b[0mclf4\u001b[0m\u001b[1;33m)\u001b[0m\u001b[1;33m,\u001b[0m\u001b[1;33m\u001b[0m\u001b[1;33m\u001b[0m\u001b[0m\n\u001b[0;32m     18\u001b[0m                 \u001b[1;33m(\u001b[0m\u001b[1;34m'svc'\u001b[0m\u001b[1;33m,\u001b[0m \u001b[0mclf5\u001b[0m\u001b[1;33m)\u001b[0m\u001b[1;33m,\u001b[0m\u001b[1;33m\u001b[0m\u001b[1;33m\u001b[0m\u001b[0m\n\u001b[1;32m---> 19\u001b[1;33m                 ('rf', clf6)], voting='soft', probability=True)\n\u001b[0m\u001b[0;32m     20\u001b[0m \u001b[1;33m\u001b[0m\u001b[0m\n",
      "\u001b[1;31mTypeError\u001b[0m: __init__() got an unexpected keyword argument 'probability'"
     ]
    }
   ],
   "source": [
    "from sklearn.ensemble import VotingClassifier\n",
    "from sklearn.linear_model import LogisticRegression\n",
    "from sklearn.tree import DecisionTreeClassifier\n",
    "\n",
    "\n",
    "clf1 = LogisticRegression()\n",
    "clf2 = DecisionTreeClassifier()\n",
    "clf3 = nb_clf\n",
    "clf4 = knn\n",
    "clf5 = svm_clf\n",
    "clf6 = rf_clf\n",
    "\n",
    "ensemble = VotingClassifier(\n",
    "    estimators=[('lr', clf1), \n",
    "                ('dt', clf2), \n",
    "                ('nb', clf3), \n",
    "                ('knn', clf4), \n",
    "                ('svc', clf5), \n",
    "                ('rf', clf6)], voting='soft')\n",
    "\n"
   ]
  },
  {
   "cell_type": "code",
   "execution_count": 124,
   "metadata": {},
   "outputs": [
    {
     "ename": "TypeError",
     "evalue": "fit() got an unexpected keyword argument 'probability'",
     "output_type": "error",
     "traceback": [
      "\u001b[1;31m---------------------------------------------------------------------------\u001b[0m",
      "\u001b[1;31mTypeError\u001b[0m                                 Traceback (most recent call last)",
      "\u001b[1;32m~\\AppData\\Local\\Temp\\ipykernel_25404\\1321080434.py\u001b[0m in \u001b[0;36m<module>\u001b[1;34m\u001b[0m\n\u001b[1;32m----> 1\u001b[1;33m \u001b[0mensemble\u001b[0m\u001b[1;33m.\u001b[0m\u001b[0mfit\u001b[0m\u001b[1;33m(\u001b[0m\u001b[0mX_train\u001b[0m\u001b[1;33m,\u001b[0m \u001b[0my_train\u001b[0m\u001b[1;33m,\u001b[0m \u001b[0mprobability\u001b[0m\u001b[1;33m=\u001b[0m\u001b[1;32mTrue\u001b[0m\u001b[1;33m)\u001b[0m\u001b[1;33m\u001b[0m\u001b[1;33m\u001b[0m\u001b[0m\n\u001b[0m",
      "\u001b[1;31mTypeError\u001b[0m: fit() got an unexpected keyword argument 'probability'"
     ]
    }
   ],
   "source": [
    "ensemble.fit(X_train, y_train)"
   ]
  },
  {
   "cell_type": "code",
   "execution_count": 109,
   "metadata": {},
   "outputs": [],
   "source": [
    "from sklearn.neural_network import MLPClassifier\n",
    "\n",
    "mlp = MLPClassifier(hidden_layer_sizes=(1000,300, 50), max_iter=400, activation='relu', solver='adam')\n"
   ]
  },
  {
   "cell_type": "code",
   "execution_count": 110,
   "metadata": {},
   "outputs": [
    {
     "data": {
      "text/plain": [
       "MLPClassifier(hidden_layer_sizes=(1000, 300, 50), max_iter=400)"
      ]
     },
     "execution_count": 110,
     "metadata": {},
     "output_type": "execute_result"
    }
   ],
   "source": [
    "mlp.fit(X_train, y_train)"
   ]
  },
  {
   "cell_type": "code",
   "execution_count": 111,
   "metadata": {},
   "outputs": [],
   "source": [
    "tf_model = tf.keras.models.Sequential([\n",
    "    tf.keras.layers.Dense(750, activation='relu'), # Create a fully connected dense layer with dense1 number of neurons\n",
    "    tf.keras.layers.BatchNormalization(), # Batch normalisation reduces variability of our model\n",
    "    tf.keras.layers.Dropout(rate=0.8), # Dropout will reduce overtraining\n",
    "    tf.keras.layers.Dense(150, activation='relu'),\n",
    "    tf.keras.layers.BatchNormalization(),\n",
    "    tf.keras.layers.Dropout(rate=0.8),\n",
    "    tf.keras.layers.Dense(50, activation='relu'),\n",
    "    tf.keras.layers.BatchNormalization(),\n",
    "    tf.keras.layers.Dropout(rate=0.3),\n",
    "    tf.keras.layers.Dense(1, activation='sigmoid') # output layer\n",
    "])\n",
    "\n",
    "tf_model.compile(optimizer='sgd', loss='binary_crossentropy', metrics=['accuracy'])"
   ]
  },
  {
   "cell_type": "code",
   "execution_count": 112,
   "metadata": {},
   "outputs": [
    {
     "name": "stdout",
     "output_type": "stream",
     "text": [
      "Epoch 1/500\n",
      "298/298 [==============================] - 8s 17ms/step - loss: 0.8385 - accuracy: 0.5120 - val_loss: 0.6936 - val_accuracy: 0.5036\n",
      "Epoch 2/500\n",
      "298/298 [==============================] - 5s 15ms/step - loss: 0.7167 - accuracy: 0.5377 - val_loss: 0.6801 - val_accuracy: 0.5316\n",
      "Epoch 3/500\n",
      "298/298 [==============================] - 5s 15ms/step - loss: 0.6930 - accuracy: 0.5494 - val_loss: 0.6762 - val_accuracy: 0.5429\n",
      "Epoch 4/500\n",
      "298/298 [==============================] - 5s 15ms/step - loss: 0.6843 - accuracy: 0.5575 - val_loss: 0.6827 - val_accuracy: 0.5289\n",
      "Epoch 5/500\n",
      "298/298 [==============================] - 5s 16ms/step - loss: 0.6783 - accuracy: 0.5661 - val_loss: 0.6774 - val_accuracy: 0.5379\n",
      "Epoch 6/500\n",
      "298/298 [==============================] - 4s 14ms/step - loss: 0.6760 - accuracy: 0.5708 - val_loss: 0.6742 - val_accuracy: 0.5399\n",
      "Epoch 7/500\n",
      "298/298 [==============================] - 4s 14ms/step - loss: 0.6731 - accuracy: 0.5783 - val_loss: 0.6640 - val_accuracy: 0.5690\n",
      "Epoch 8/500\n",
      "298/298 [==============================] - 4s 14ms/step - loss: 0.6713 - accuracy: 0.5860 - val_loss: 0.6576 - val_accuracy: 0.5856\n",
      "Epoch 9/500\n",
      "298/298 [==============================] - 4s 13ms/step - loss: 0.6603 - accuracy: 0.6035 - val_loss: 0.6498 - val_accuracy: 0.5981\n",
      "Epoch 10/500\n",
      "298/298 [==============================] - 4s 14ms/step - loss: 0.6532 - accuracy: 0.6111 - val_loss: 0.6395 - val_accuracy: 0.6216\n",
      "Epoch 11/500\n",
      "298/298 [==============================] - 5s 17ms/step - loss: 0.6484 - accuracy: 0.6202 - val_loss: 0.6412 - val_accuracy: 0.6120\n",
      "Epoch 12/500\n",
      "298/298 [==============================] - 5s 16ms/step - loss: 0.6500 - accuracy: 0.6202 - val_loss: 0.6361 - val_accuracy: 0.6237\n",
      "Epoch 13/500\n",
      "298/298 [==============================] - 5s 15ms/step - loss: 0.6432 - accuracy: 0.6325 - val_loss: 0.6264 - val_accuracy: 0.6385\n",
      "Epoch 14/500\n",
      "298/298 [==============================] - 4s 15ms/step - loss: 0.6390 - accuracy: 0.6358 - val_loss: 0.6207 - val_accuracy: 0.6453\n",
      "Epoch 15/500\n",
      "298/298 [==============================] - 4s 14ms/step - loss: 0.6309 - accuracy: 0.6445 - val_loss: 0.6179 - val_accuracy: 0.6490\n",
      "Epoch 16/500\n",
      "298/298 [==============================] - 5s 15ms/step - loss: 0.6248 - accuracy: 0.6495 - val_loss: 0.6059 - val_accuracy: 0.6649\n",
      "Epoch 17/500\n",
      "298/298 [==============================] - 4s 14ms/step - loss: 0.6238 - accuracy: 0.6504 - val_loss: 0.6070 - val_accuracy: 0.6593\n",
      "Epoch 18/500\n",
      "298/298 [==============================] - 5s 15ms/step - loss: 0.6167 - accuracy: 0.6662 - val_loss: 0.5887 - val_accuracy: 0.6881\n",
      "Epoch 19/500\n",
      "298/298 [==============================] - 4s 14ms/step - loss: 0.6080 - accuracy: 0.6668 - val_loss: 0.5891 - val_accuracy: 0.6812\n",
      "Epoch 20/500\n",
      "298/298 [==============================] - 5s 15ms/step - loss: 0.6110 - accuracy: 0.6697 - val_loss: 0.5834 - val_accuracy: 0.6863\n",
      "Epoch 21/500\n",
      "298/298 [==============================] - 5s 16ms/step - loss: 0.6018 - accuracy: 0.6767 - val_loss: 0.5814 - val_accuracy: 0.6845\n",
      "Epoch 22/500\n",
      "298/298 [==============================] - 5s 15ms/step - loss: 0.5957 - accuracy: 0.6757 - val_loss: 0.5725 - val_accuracy: 0.6920\n",
      "Epoch 23/500\n",
      "298/298 [==============================] - 4s 15ms/step - loss: 0.5916 - accuracy: 0.6819 - val_loss: 0.5669 - val_accuracy: 0.7010\n",
      "Epoch 24/500\n",
      "298/298 [==============================] - 4s 15ms/step - loss: 0.5888 - accuracy: 0.6912 - val_loss: 0.5587 - val_accuracy: 0.7081\n",
      "Epoch 25/500\n",
      "298/298 [==============================] - 4s 15ms/step - loss: 0.5939 - accuracy: 0.6852 - val_loss: 0.5584 - val_accuracy: 0.7076\n",
      "Epoch 26/500\n",
      "298/298 [==============================] - 4s 15ms/step - loss: 0.5826 - accuracy: 0.6956 - val_loss: 0.5552 - val_accuracy: 0.7090\n",
      "Epoch 27/500\n",
      "298/298 [==============================] - 4s 15ms/step - loss: 0.5775 - accuracy: 0.6998 - val_loss: 0.5468 - val_accuracy: 0.7140\n",
      "Epoch 28/500\n",
      "298/298 [==============================] - 4s 15ms/step - loss: 0.5744 - accuracy: 0.7055 - val_loss: 0.5408 - val_accuracy: 0.7182\n",
      "Epoch 29/500\n",
      "298/298 [==============================] - 4s 15ms/step - loss: 0.5719 - accuracy: 0.7080 - val_loss: 0.5369 - val_accuracy: 0.7218\n",
      "Epoch 30/500\n",
      "298/298 [==============================] - 4s 14ms/step - loss: 0.5630 - accuracy: 0.7124 - val_loss: 0.5297 - val_accuracy: 0.7284\n",
      "Epoch 31/500\n",
      "298/298 [==============================] - 4s 15ms/step - loss: 0.5607 - accuracy: 0.7138 - val_loss: 0.5209 - val_accuracy: 0.7395\n",
      "Epoch 32/500\n",
      "298/298 [==============================] - 5s 15ms/step - loss: 0.5546 - accuracy: 0.7220 - val_loss: 0.5180 - val_accuracy: 0.7362\n",
      "Epoch 33/500\n",
      "298/298 [==============================] - 4s 15ms/step - loss: 0.5466 - accuracy: 0.7224 - val_loss: 0.5045 - val_accuracy: 0.7502\n",
      "Epoch 34/500\n",
      "298/298 [==============================] - 4s 15ms/step - loss: 0.5377 - accuracy: 0.7361 - val_loss: 0.4972 - val_accuracy: 0.7523\n",
      "Epoch 35/500\n",
      "298/298 [==============================] - 4s 15ms/step - loss: 0.5371 - accuracy: 0.7352 - val_loss: 0.4876 - val_accuracy: 0.7661\n",
      "Epoch 36/500\n",
      "298/298 [==============================] - 4s 15ms/step - loss: 0.5327 - accuracy: 0.7381 - val_loss: 0.4846 - val_accuracy: 0.7703\n",
      "Epoch 37/500\n",
      "298/298 [==============================] - 4s 15ms/step - loss: 0.5236 - accuracy: 0.7410 - val_loss: 0.4765 - val_accuracy: 0.7733\n",
      "Epoch 38/500\n",
      "298/298 [==============================] - 5s 15ms/step - loss: 0.5208 - accuracy: 0.7493 - val_loss: 0.4699 - val_accuracy: 0.7774\n",
      "Epoch 39/500\n",
      "298/298 [==============================] - 5s 15ms/step - loss: 0.5136 - accuracy: 0.7487 - val_loss: 0.4712 - val_accuracy: 0.7720\n",
      "Epoch 40/500\n",
      "298/298 [==============================] - 5s 15ms/step - loss: 0.5137 - accuracy: 0.7523 - val_loss: 0.4590 - val_accuracy: 0.7839\n",
      "Epoch 41/500\n",
      "298/298 [==============================] - 4s 14ms/step - loss: 0.5052 - accuracy: 0.7583 - val_loss: 0.4421 - val_accuracy: 0.7976\n",
      "Epoch 42/500\n",
      "298/298 [==============================] - 4s 14ms/step - loss: 0.4987 - accuracy: 0.7624 - val_loss: 0.4288 - val_accuracy: 0.8062\n",
      "Epoch 43/500\n",
      "298/298 [==============================] - 4s 14ms/step - loss: 0.4997 - accuracy: 0.7653 - val_loss: 0.4327 - val_accuracy: 0.8021\n",
      "Epoch 44/500\n",
      "298/298 [==============================] - 5s 15ms/step - loss: 0.4842 - accuracy: 0.7716 - val_loss: 0.4152 - val_accuracy: 0.8164\n",
      "Epoch 45/500\n",
      "298/298 [==============================] - 4s 15ms/step - loss: 0.4816 - accuracy: 0.7700 - val_loss: 0.4130 - val_accuracy: 0.8177\n",
      "Epoch 46/500\n",
      "298/298 [==============================] - 4s 15ms/step - loss: 0.4814 - accuracy: 0.7731 - val_loss: 0.4011 - val_accuracy: 0.8281\n",
      "Epoch 47/500\n",
      "298/298 [==============================] - 4s 15ms/step - loss: 0.4721 - accuracy: 0.7806 - val_loss: 0.3875 - val_accuracy: 0.8371\n",
      "Epoch 48/500\n",
      "298/298 [==============================] - 4s 14ms/step - loss: 0.4673 - accuracy: 0.7844 - val_loss: 0.3928 - val_accuracy: 0.8297\n",
      "Epoch 49/500\n",
      "298/298 [==============================] - 4s 15ms/step - loss: 0.4533 - accuracy: 0.7887 - val_loss: 0.3659 - val_accuracy: 0.8487\n",
      "Epoch 50/500\n",
      "298/298 [==============================] - 4s 15ms/step - loss: 0.4548 - accuracy: 0.7957 - val_loss: 0.3681 - val_accuracy: 0.8466\n",
      "Epoch 51/500\n",
      "298/298 [==============================] - 4s 15ms/step - loss: 0.4399 - accuracy: 0.7998 - val_loss: 0.3574 - val_accuracy: 0.8470\n",
      "Epoch 52/500\n",
      "298/298 [==============================] - 4s 15ms/step - loss: 0.4382 - accuracy: 0.7989 - val_loss: 0.3511 - val_accuracy: 0.8510\n",
      "Epoch 53/500\n",
      "298/298 [==============================] - 5s 17ms/step - loss: 0.4345 - accuracy: 0.8024 - val_loss: 0.3378 - val_accuracy: 0.8620\n",
      "Epoch 54/500\n",
      "298/298 [==============================] - 4s 15ms/step - loss: 0.4257 - accuracy: 0.8123 - val_loss: 0.3198 - val_accuracy: 0.8736\n",
      "Epoch 55/500\n",
      "298/298 [==============================] - 4s 15ms/step - loss: 0.4158 - accuracy: 0.8191 - val_loss: 0.3106 - val_accuracy: 0.8732\n",
      "Epoch 56/500\n",
      "298/298 [==============================] - 4s 15ms/step - loss: 0.4056 - accuracy: 0.8233 - val_loss: 0.3020 - val_accuracy: 0.8811\n",
      "Epoch 57/500\n",
      "298/298 [==============================] - 5s 15ms/step - loss: 0.4093 - accuracy: 0.8161 - val_loss: 0.2907 - val_accuracy: 0.8891\n",
      "Epoch 58/500\n",
      "298/298 [==============================] - 5s 16ms/step - loss: 0.3926 - accuracy: 0.8304 - val_loss: 0.2877 - val_accuracy: 0.8882\n",
      "Epoch 59/500\n",
      "298/298 [==============================] - 4s 15ms/step - loss: 0.3905 - accuracy: 0.8262 - val_loss: 0.2763 - val_accuracy: 0.8941\n",
      "Epoch 60/500\n",
      "298/298 [==============================] - 4s 15ms/step - loss: 0.3782 - accuracy: 0.8365 - val_loss: 0.2681 - val_accuracy: 0.8954\n",
      "Epoch 61/500\n",
      "298/298 [==============================] - 4s 15ms/step - loss: 0.3752 - accuracy: 0.8355 - val_loss: 0.2544 - val_accuracy: 0.9037\n",
      "Epoch 62/500\n",
      "298/298 [==============================] - 5s 15ms/step - loss: 0.3664 - accuracy: 0.8422 - val_loss: 0.2491 - val_accuracy: 0.9053\n",
      "Epoch 63/500\n",
      "298/298 [==============================] - 5s 16ms/step - loss: 0.3654 - accuracy: 0.8451 - val_loss: 0.2405 - val_accuracy: 0.9119\n",
      "Epoch 64/500\n",
      "298/298 [==============================] - 5s 16ms/step - loss: 0.3582 - accuracy: 0.8446 - val_loss: 0.2352 - val_accuracy: 0.9159\n",
      "Epoch 65/500\n",
      "298/298 [==============================] - 4s 15ms/step - loss: 0.3563 - accuracy: 0.8468 - val_loss: 0.2248 - val_accuracy: 0.9174\n",
      "Epoch 66/500\n",
      "298/298 [==============================] - 4s 15ms/step - loss: 0.3501 - accuracy: 0.8505 - val_loss: 0.2169 - val_accuracy: 0.9244\n",
      "Epoch 67/500\n",
      "298/298 [==============================] - 4s 15ms/step - loss: 0.3410 - accuracy: 0.8522 - val_loss: 0.2098 - val_accuracy: 0.9287\n",
      "Epoch 68/500\n",
      "298/298 [==============================] - 5s 15ms/step - loss: 0.3350 - accuracy: 0.8617 - val_loss: 0.1986 - val_accuracy: 0.9344\n",
      "Epoch 69/500\n",
      "298/298 [==============================] - 5s 16ms/step - loss: 0.3328 - accuracy: 0.8574 - val_loss: 0.1955 - val_accuracy: 0.9373\n",
      "Epoch 70/500\n",
      "298/298 [==============================] - 4s 15ms/step - loss: 0.3206 - accuracy: 0.8667 - val_loss: 0.1854 - val_accuracy: 0.9384\n",
      "Epoch 71/500\n",
      "298/298 [==============================] - 5s 16ms/step - loss: 0.3143 - accuracy: 0.8685 - val_loss: 0.1850 - val_accuracy: 0.9391\n",
      "Epoch 72/500\n",
      "298/298 [==============================] - 5s 16ms/step - loss: 0.3024 - accuracy: 0.8733 - val_loss: 0.1667 - val_accuracy: 0.9470\n",
      "Epoch 73/500\n",
      "298/298 [==============================] - 5s 15ms/step - loss: 0.3105 - accuracy: 0.8713 - val_loss: 0.1756 - val_accuracy: 0.9435\n",
      "Epoch 74/500\n",
      "298/298 [==============================] - 4s 15ms/step - loss: 0.2974 - accuracy: 0.8750 - val_loss: 0.1676 - val_accuracy: 0.9484\n",
      "Epoch 75/500\n",
      "298/298 [==============================] - 4s 15ms/step - loss: 0.2958 - accuracy: 0.8758 - val_loss: 0.1579 - val_accuracy: 0.9512\n",
      "Epoch 76/500\n",
      "298/298 [==============================] - 4s 14ms/step - loss: 0.2904 - accuracy: 0.8829 - val_loss: 0.1492 - val_accuracy: 0.9563\n",
      "Epoch 77/500\n",
      "298/298 [==============================] - 4s 14ms/step - loss: 0.2870 - accuracy: 0.8791 - val_loss: 0.1516 - val_accuracy: 0.9544\n",
      "Epoch 78/500\n",
      "298/298 [==============================] - 5s 15ms/step - loss: 0.2799 - accuracy: 0.8849 - val_loss: 0.1458 - val_accuracy: 0.9549\n",
      "Epoch 79/500\n",
      "298/298 [==============================] - 4s 15ms/step - loss: 0.2768 - accuracy: 0.8850 - val_loss: 0.1380 - val_accuracy: 0.9567\n",
      "Epoch 80/500\n",
      "298/298 [==============================] - 4s 14ms/step - loss: 0.2732 - accuracy: 0.8878 - val_loss: 0.1336 - val_accuracy: 0.9580\n",
      "Epoch 81/500\n",
      "298/298 [==============================] - 4s 14ms/step - loss: 0.2749 - accuracy: 0.8880 - val_loss: 0.1284 - val_accuracy: 0.9629\n",
      "Epoch 82/500\n",
      "298/298 [==============================] - 4s 15ms/step - loss: 0.2700 - accuracy: 0.8916 - val_loss: 0.1292 - val_accuracy: 0.9614\n",
      "Epoch 83/500\n",
      "298/298 [==============================] - 5s 15ms/step - loss: 0.2626 - accuracy: 0.8935 - val_loss: 0.1237 - val_accuracy: 0.9648\n",
      "Epoch 84/500\n",
      "298/298 [==============================] - 4s 15ms/step - loss: 0.2601 - accuracy: 0.8956 - val_loss: 0.1210 - val_accuracy: 0.9634\n",
      "Epoch 85/500\n",
      "298/298 [==============================] - 5s 16ms/step - loss: 0.2544 - accuracy: 0.8995 - val_loss: 0.1157 - val_accuracy: 0.9659\n",
      "Epoch 86/500\n",
      "298/298 [==============================] - 5s 15ms/step - loss: 0.2557 - accuracy: 0.8986 - val_loss: 0.1142 - val_accuracy: 0.9668\n",
      "Epoch 87/500\n",
      "298/298 [==============================] - 5s 16ms/step - loss: 0.2569 - accuracy: 0.8966 - val_loss: 0.1085 - val_accuracy: 0.9688\n",
      "Epoch 88/500\n",
      "111/298 [==========>...................] - ETA: 2s - loss: 0.2313 - accuracy: 0.9023"
     ]
    },
    {
     "ename": "KeyboardInterrupt",
     "evalue": "",
     "output_type": "error",
     "traceback": [
      "\u001b[1;31m---------------------------------------------------------------------------\u001b[0m",
      "\u001b[1;31mKeyboardInterrupt\u001b[0m                         Traceback (most recent call last)",
      "\u001b[1;32m~\\AppData\\Local\\Temp\\ipykernel_25404\\1792989370.py\u001b[0m in \u001b[0;36m<module>\u001b[1;34m\u001b[0m\n\u001b[1;32m----> 1\u001b[1;33m \u001b[0mtf_model\u001b[0m\u001b[1;33m.\u001b[0m\u001b[0mfit\u001b[0m\u001b[1;33m(\u001b[0m\u001b[0mX_train\u001b[0m\u001b[1;33m,\u001b[0m \u001b[0my_train\u001b[0m\u001b[1;33m,\u001b[0m \u001b[0mvalidation_data\u001b[0m\u001b[1;33m=\u001b[0m\u001b[1;33m(\u001b[0m\u001b[0mX_train\u001b[0m\u001b[1;33m,\u001b[0m \u001b[0my_train\u001b[0m\u001b[1;33m)\u001b[0m\u001b[1;33m,\u001b[0m \u001b[0mepochs\u001b[0m\u001b[1;33m=\u001b[0m\u001b[1;36m500\u001b[0m\u001b[1;33m)\u001b[0m\u001b[1;33m\u001b[0m\u001b[1;33m\u001b[0m\u001b[0m\n\u001b[0m",
      "\u001b[1;32m~\\AppData\\Roaming\\Python\\Python37\\site-packages\\keras\\utils\\traceback_utils.py\u001b[0m in \u001b[0;36merror_handler\u001b[1;34m(*args, **kwargs)\u001b[0m\n\u001b[0;32m     63\u001b[0m         \u001b[0mfiltered_tb\u001b[0m \u001b[1;33m=\u001b[0m \u001b[1;32mNone\u001b[0m\u001b[1;33m\u001b[0m\u001b[1;33m\u001b[0m\u001b[0m\n\u001b[0;32m     64\u001b[0m         \u001b[1;32mtry\u001b[0m\u001b[1;33m:\u001b[0m\u001b[1;33m\u001b[0m\u001b[1;33m\u001b[0m\u001b[0m\n\u001b[1;32m---> 65\u001b[1;33m             \u001b[1;32mreturn\u001b[0m \u001b[0mfn\u001b[0m\u001b[1;33m(\u001b[0m\u001b[1;33m*\u001b[0m\u001b[0margs\u001b[0m\u001b[1;33m,\u001b[0m \u001b[1;33m**\u001b[0m\u001b[0mkwargs\u001b[0m\u001b[1;33m)\u001b[0m\u001b[1;33m\u001b[0m\u001b[1;33m\u001b[0m\u001b[0m\n\u001b[0m\u001b[0;32m     66\u001b[0m         \u001b[1;32mexcept\u001b[0m \u001b[0mException\u001b[0m \u001b[1;32mas\u001b[0m \u001b[0me\u001b[0m\u001b[1;33m:\u001b[0m\u001b[1;33m\u001b[0m\u001b[1;33m\u001b[0m\u001b[0m\n\u001b[0;32m     67\u001b[0m             \u001b[0mfiltered_tb\u001b[0m \u001b[1;33m=\u001b[0m \u001b[0m_process_traceback_frames\u001b[0m\u001b[1;33m(\u001b[0m\u001b[0me\u001b[0m\u001b[1;33m.\u001b[0m\u001b[0m__traceback__\u001b[0m\u001b[1;33m)\u001b[0m\u001b[1;33m\u001b[0m\u001b[1;33m\u001b[0m\u001b[0m\n",
      "\u001b[1;32m~\\AppData\\Roaming\\Python\\Python37\\site-packages\\keras\\engine\\training.py\u001b[0m in \u001b[0;36mfit\u001b[1;34m(self, x, y, batch_size, epochs, verbose, callbacks, validation_split, validation_data, shuffle, class_weight, sample_weight, initial_epoch, steps_per_epoch, validation_steps, validation_batch_size, validation_freq, max_queue_size, workers, use_multiprocessing)\u001b[0m\n\u001b[0;32m   1648\u001b[0m                         ):\n\u001b[0;32m   1649\u001b[0m                             \u001b[0mcallbacks\u001b[0m\u001b[1;33m.\u001b[0m\u001b[0mon_train_batch_begin\u001b[0m\u001b[1;33m(\u001b[0m\u001b[0mstep\u001b[0m\u001b[1;33m)\u001b[0m\u001b[1;33m\u001b[0m\u001b[1;33m\u001b[0m\u001b[0m\n\u001b[1;32m-> 1650\u001b[1;33m                             \u001b[0mtmp_logs\u001b[0m \u001b[1;33m=\u001b[0m \u001b[0mself\u001b[0m\u001b[1;33m.\u001b[0m\u001b[0mtrain_function\u001b[0m\u001b[1;33m(\u001b[0m\u001b[0miterator\u001b[0m\u001b[1;33m)\u001b[0m\u001b[1;33m\u001b[0m\u001b[1;33m\u001b[0m\u001b[0m\n\u001b[0m\u001b[0;32m   1651\u001b[0m                             \u001b[1;32mif\u001b[0m \u001b[0mdata_handler\u001b[0m\u001b[1;33m.\u001b[0m\u001b[0mshould_sync\u001b[0m\u001b[1;33m:\u001b[0m\u001b[1;33m\u001b[0m\u001b[1;33m\u001b[0m\u001b[0m\n\u001b[0;32m   1652\u001b[0m                                 \u001b[0mcontext\u001b[0m\u001b[1;33m.\u001b[0m\u001b[0masync_wait\u001b[0m\u001b[1;33m(\u001b[0m\u001b[1;33m)\u001b[0m\u001b[1;33m\u001b[0m\u001b[1;33m\u001b[0m\u001b[0m\n",
      "\u001b[1;32m~\\AppData\\Roaming\\Python\\Python37\\site-packages\\tensorflow\\python\\util\\traceback_utils.py\u001b[0m in \u001b[0;36merror_handler\u001b[1;34m(*args, **kwargs)\u001b[0m\n\u001b[0;32m    148\u001b[0m     \u001b[0mfiltered_tb\u001b[0m \u001b[1;33m=\u001b[0m \u001b[1;32mNone\u001b[0m\u001b[1;33m\u001b[0m\u001b[1;33m\u001b[0m\u001b[0m\n\u001b[0;32m    149\u001b[0m     \u001b[1;32mtry\u001b[0m\u001b[1;33m:\u001b[0m\u001b[1;33m\u001b[0m\u001b[1;33m\u001b[0m\u001b[0m\n\u001b[1;32m--> 150\u001b[1;33m       \u001b[1;32mreturn\u001b[0m \u001b[0mfn\u001b[0m\u001b[1;33m(\u001b[0m\u001b[1;33m*\u001b[0m\u001b[0margs\u001b[0m\u001b[1;33m,\u001b[0m \u001b[1;33m**\u001b[0m\u001b[0mkwargs\u001b[0m\u001b[1;33m)\u001b[0m\u001b[1;33m\u001b[0m\u001b[1;33m\u001b[0m\u001b[0m\n\u001b[0m\u001b[0;32m    151\u001b[0m     \u001b[1;32mexcept\u001b[0m \u001b[0mException\u001b[0m \u001b[1;32mas\u001b[0m \u001b[0me\u001b[0m\u001b[1;33m:\u001b[0m\u001b[1;33m\u001b[0m\u001b[1;33m\u001b[0m\u001b[0m\n\u001b[0;32m    152\u001b[0m       \u001b[0mfiltered_tb\u001b[0m \u001b[1;33m=\u001b[0m \u001b[0m_process_traceback_frames\u001b[0m\u001b[1;33m(\u001b[0m\u001b[0me\u001b[0m\u001b[1;33m.\u001b[0m\u001b[0m__traceback__\u001b[0m\u001b[1;33m)\u001b[0m\u001b[1;33m\u001b[0m\u001b[1;33m\u001b[0m\u001b[0m\n",
      "\u001b[1;32m~\\AppData\\Roaming\\Python\\Python37\\site-packages\\tensorflow\\python\\eager\\polymorphic_function\\polymorphic_function.py\u001b[0m in \u001b[0;36m__call__\u001b[1;34m(self, *args, **kwds)\u001b[0m\n\u001b[0;32m    878\u001b[0m \u001b[1;33m\u001b[0m\u001b[0m\n\u001b[0;32m    879\u001b[0m       \u001b[1;32mwith\u001b[0m \u001b[0mOptionalXlaContext\u001b[0m\u001b[1;33m(\u001b[0m\u001b[0mself\u001b[0m\u001b[1;33m.\u001b[0m\u001b[0m_jit_compile\u001b[0m\u001b[1;33m)\u001b[0m\u001b[1;33m:\u001b[0m\u001b[1;33m\u001b[0m\u001b[1;33m\u001b[0m\u001b[0m\n\u001b[1;32m--> 880\u001b[1;33m         \u001b[0mresult\u001b[0m \u001b[1;33m=\u001b[0m \u001b[0mself\u001b[0m\u001b[1;33m.\u001b[0m\u001b[0m_call\u001b[0m\u001b[1;33m(\u001b[0m\u001b[1;33m*\u001b[0m\u001b[0margs\u001b[0m\u001b[1;33m,\u001b[0m \u001b[1;33m**\u001b[0m\u001b[0mkwds\u001b[0m\u001b[1;33m)\u001b[0m\u001b[1;33m\u001b[0m\u001b[1;33m\u001b[0m\u001b[0m\n\u001b[0m\u001b[0;32m    881\u001b[0m \u001b[1;33m\u001b[0m\u001b[0m\n\u001b[0;32m    882\u001b[0m       \u001b[0mnew_tracing_count\u001b[0m \u001b[1;33m=\u001b[0m \u001b[0mself\u001b[0m\u001b[1;33m.\u001b[0m\u001b[0mexperimental_get_tracing_count\u001b[0m\u001b[1;33m(\u001b[0m\u001b[1;33m)\u001b[0m\u001b[1;33m\u001b[0m\u001b[1;33m\u001b[0m\u001b[0m\n",
      "\u001b[1;32m~\\AppData\\Roaming\\Python\\Python37\\site-packages\\tensorflow\\python\\eager\\polymorphic_function\\polymorphic_function.py\u001b[0m in \u001b[0;36m_call\u001b[1;34m(self, *args, **kwds)\u001b[0m\n\u001b[0;32m    910\u001b[0m       \u001b[1;31m# In this case we have created variables on the first call, so we run the\u001b[0m\u001b[1;33m\u001b[0m\u001b[1;33m\u001b[0m\u001b[1;33m\u001b[0m\u001b[0m\n\u001b[0;32m    911\u001b[0m       \u001b[1;31m# defunned version which is guaranteed to never create variables.\u001b[0m\u001b[1;33m\u001b[0m\u001b[1;33m\u001b[0m\u001b[1;33m\u001b[0m\u001b[0m\n\u001b[1;32m--> 912\u001b[1;33m       \u001b[1;32mreturn\u001b[0m \u001b[0mself\u001b[0m\u001b[1;33m.\u001b[0m\u001b[0m_no_variable_creation_fn\u001b[0m\u001b[1;33m(\u001b[0m\u001b[1;33m*\u001b[0m\u001b[0margs\u001b[0m\u001b[1;33m,\u001b[0m \u001b[1;33m**\u001b[0m\u001b[0mkwds\u001b[0m\u001b[1;33m)\u001b[0m  \u001b[1;31m# pylint: disable=not-callable\u001b[0m\u001b[1;33m\u001b[0m\u001b[1;33m\u001b[0m\u001b[0m\n\u001b[0m\u001b[0;32m    913\u001b[0m     \u001b[1;32melif\u001b[0m \u001b[0mself\u001b[0m\u001b[1;33m.\u001b[0m\u001b[0m_variable_creation_fn\u001b[0m \u001b[1;32mis\u001b[0m \u001b[1;32mnot\u001b[0m \u001b[1;32mNone\u001b[0m\u001b[1;33m:\u001b[0m\u001b[1;33m\u001b[0m\u001b[1;33m\u001b[0m\u001b[0m\n\u001b[0;32m    914\u001b[0m       \u001b[1;31m# Release the lock early so that multiple threads can perform the call\u001b[0m\u001b[1;33m\u001b[0m\u001b[1;33m\u001b[0m\u001b[1;33m\u001b[0m\u001b[0m\n",
      "\u001b[1;32m~\\AppData\\Roaming\\Python\\Python37\\site-packages\\tensorflow\\python\\eager\\polymorphic_function\\tracing_compiler.py\u001b[0m in \u001b[0;36m__call__\u001b[1;34m(self, *args, **kwargs)\u001b[0m\n\u001b[0;32m    133\u001b[0m        filtered_flat_args) = self._maybe_define_function(args, kwargs)\n\u001b[0;32m    134\u001b[0m     return concrete_function._call_flat(\n\u001b[1;32m--> 135\u001b[1;33m         filtered_flat_args, captured_inputs=concrete_function.captured_inputs)  # pylint: disable=protected-access\n\u001b[0m\u001b[0;32m    136\u001b[0m \u001b[1;33m\u001b[0m\u001b[0m\n\u001b[0;32m    137\u001b[0m   \u001b[1;33m@\u001b[0m\u001b[0mproperty\u001b[0m\u001b[1;33m\u001b[0m\u001b[1;33m\u001b[0m\u001b[0m\n",
      "\u001b[1;32m~\\AppData\\Roaming\\Python\\Python37\\site-packages\\tensorflow\\python\\eager\\polymorphic_function\\monomorphic_function.py\u001b[0m in \u001b[0;36m_call_flat\u001b[1;34m(self, args, captured_inputs, cancellation_manager)\u001b[0m\n\u001b[0;32m   1744\u001b[0m       \u001b[1;31m# No tape is watching; skip to running the function.\u001b[0m\u001b[1;33m\u001b[0m\u001b[1;33m\u001b[0m\u001b[1;33m\u001b[0m\u001b[0m\n\u001b[0;32m   1745\u001b[0m       return self._build_call_outputs(self._inference_function.call(\n\u001b[1;32m-> 1746\u001b[1;33m           ctx, args, cancellation_manager=cancellation_manager))\n\u001b[0m\u001b[0;32m   1747\u001b[0m     forward_backward = self._select_forward_and_backward_functions(\n\u001b[0;32m   1748\u001b[0m         \u001b[0margs\u001b[0m\u001b[1;33m,\u001b[0m\u001b[1;33m\u001b[0m\u001b[1;33m\u001b[0m\u001b[0m\n",
      "\u001b[1;32m~\\AppData\\Roaming\\Python\\Python37\\site-packages\\tensorflow\\python\\eager\\polymorphic_function\\monomorphic_function.py\u001b[0m in \u001b[0;36mcall\u001b[1;34m(self, ctx, args, cancellation_manager)\u001b[0m\n\u001b[0;32m    381\u001b[0m               \u001b[0minputs\u001b[0m\u001b[1;33m=\u001b[0m\u001b[0margs\u001b[0m\u001b[1;33m,\u001b[0m\u001b[1;33m\u001b[0m\u001b[1;33m\u001b[0m\u001b[0m\n\u001b[0;32m    382\u001b[0m               \u001b[0mattrs\u001b[0m\u001b[1;33m=\u001b[0m\u001b[0mattrs\u001b[0m\u001b[1;33m,\u001b[0m\u001b[1;33m\u001b[0m\u001b[1;33m\u001b[0m\u001b[0m\n\u001b[1;32m--> 383\u001b[1;33m               ctx=ctx)\n\u001b[0m\u001b[0;32m    384\u001b[0m         \u001b[1;32melse\u001b[0m\u001b[1;33m:\u001b[0m\u001b[1;33m\u001b[0m\u001b[1;33m\u001b[0m\u001b[0m\n\u001b[0;32m    385\u001b[0m           outputs = execute.execute_with_cancellation(\n",
      "\u001b[1;32m~\\AppData\\Roaming\\Python\\Python37\\site-packages\\tensorflow\\python\\eager\\execute.py\u001b[0m in \u001b[0;36mquick_execute\u001b[1;34m(op_name, num_outputs, inputs, attrs, ctx, name)\u001b[0m\n\u001b[0;32m     51\u001b[0m     \u001b[0mctx\u001b[0m\u001b[1;33m.\u001b[0m\u001b[0mensure_initialized\u001b[0m\u001b[1;33m(\u001b[0m\u001b[1;33m)\u001b[0m\u001b[1;33m\u001b[0m\u001b[1;33m\u001b[0m\u001b[0m\n\u001b[0;32m     52\u001b[0m     tensors = pywrap_tfe.TFE_Py_Execute(ctx._handle, device_name, op_name,\n\u001b[1;32m---> 53\u001b[1;33m                                         inputs, attrs, num_outputs)\n\u001b[0m\u001b[0;32m     54\u001b[0m   \u001b[1;32mexcept\u001b[0m \u001b[0mcore\u001b[0m\u001b[1;33m.\u001b[0m\u001b[0m_NotOkStatusException\u001b[0m \u001b[1;32mas\u001b[0m \u001b[0me\u001b[0m\u001b[1;33m:\u001b[0m\u001b[1;33m\u001b[0m\u001b[1;33m\u001b[0m\u001b[0m\n\u001b[0;32m     55\u001b[0m     \u001b[1;32mif\u001b[0m \u001b[0mname\u001b[0m \u001b[1;32mis\u001b[0m \u001b[1;32mnot\u001b[0m \u001b[1;32mNone\u001b[0m\u001b[1;33m:\u001b[0m\u001b[1;33m\u001b[0m\u001b[1;33m\u001b[0m\u001b[0m\n",
      "\u001b[1;31mKeyboardInterrupt\u001b[0m: "
     ]
    }
   ],
   "source": [
    "tf_model.fit(X_train, y_train, validation_data=(X_train, y_train), epochs=500)"
   ]
  },
  {
   "cell_type": "code",
   "execution_count": 126,
   "metadata": {},
   "outputs": [],
   "source": [
    "models = {\n",
    "    'Random Forest': rf_clf,\n",
    "    'SGD': sgd_clf,\n",
    "    'SVM': svm_clf,\n",
    "    'KNN': knn,\n",
    "    'Naive Bayes': nb_clf,\n",
    "    #'Ensemble': ensemble,\n",
    "    'MLP': mlp,\n",
    "    'Tensorflow': tf_model\n",
    "}"
   ]
  },
  {
   "cell_type": "code",
   "execution_count": 128,
   "metadata": {},
   "outputs": [
    {
     "data": {
      "text/plain": [
       "array([1, 0, 1, 0, 0, 0, 0, 0, 1, 1, 0, 0, 0, 0, 1, 0, 0, 0, 0, 1, 0, 0,\n",
       "       0, 0, 0, 0, 0, 0, 1, 0, 1, 0, 0, 0, 1, 0, 1, 0, 0, 1, 0, 1, 0, 0,\n",
       "       0, 1, 0, 0, 0, 1, 0, 0, 0, 0, 0, 0, 1, 1, 0, 0, 1, 0, 1, 0, 0, 0,\n",
       "       0, 0, 0, 0, 0, 0, 0, 0, 0, 1, 0, 0, 0, 0, 0, 0, 1, 0, 0, 0, 0, 1,\n",
       "       0, 0, 1, 0, 0, 0, 1, 0, 1, 0, 1, 0, 0, 0, 0, 0, 0, 0, 0, 0, 0, 1,\n",
       "       1, 0, 0, 0, 0, 0, 1, 0, 0, 0, 0, 0, 0, 0, 0, 0, 0, 0, 0, 0, 1, 0,\n",
       "       0, 1, 0, 1, 0, 0, 0, 0, 0, 0, 0, 0, 0, 0, 0, 1, 1, 1, 0, 0, 0, 1,\n",
       "       0, 0, 0, 0, 0, 0, 1, 0, 0, 0, 0, 1, 1, 0, 1, 0, 1, 0, 0, 0, 1, 0,\n",
       "       1, 0, 0, 0, 0, 0, 0, 1, 0, 1, 1, 1, 1, 0, 0, 0, 0, 1, 0, 0, 0, 1,\n",
       "       1, 0, 1, 1, 0, 0, 0, 0, 0, 1, 1, 0, 1, 0, 0, 1, 0, 1, 1, 1, 0, 1,\n",
       "       0, 0, 0, 0, 1, 1, 0, 1, 0, 0, 1, 0, 0, 0, 0, 0, 1, 0, 1, 0, 0, 0,\n",
       "       0, 0, 1, 0, 0, 0, 0, 0, 0, 0, 0, 1, 0, 1, 0, 0, 0, 1, 0, 1, 0, 0,\n",
       "       0, 0, 0, 0, 0, 1, 0, 0, 0, 1, 0, 0, 1, 0, 0, 0, 0, 0, 1, 1, 0, 0,\n",
       "       0, 0, 1, 0, 0, 0, 0, 0, 0, 0, 0, 1, 0, 1, 0, 0, 0, 0, 0, 0, 0, 0,\n",
       "       0, 0, 0, 0, 0, 0, 1, 0, 0, 0, 0, 1, 0, 0, 0, 1, 0, 0, 0, 1, 0, 0,\n",
       "       0, 1, 0, 0, 1, 0, 0, 1, 1, 0, 1, 1, 0, 1, 0, 1, 0, 1, 0, 1, 1, 1,\n",
       "       0, 1, 0, 0, 1, 0, 0, 1, 0, 0, 0, 0, 0, 1, 0, 0, 0, 0, 0, 0, 0, 0,\n",
       "       1, 0, 0, 1, 0, 1, 0, 1, 0, 0, 0, 0, 0, 0, 1, 0, 1, 0, 0, 0, 0, 1,\n",
       "       1, 0, 0, 0, 0, 0, 0, 0, 0, 0, 1, 0, 1, 0, 1, 1, 1, 0, 0, 1, 0, 1,\n",
       "       0, 0, 0, 0, 1, 0, 0, 0, 0, 0, 1, 0, 0, 1, 0, 0, 0, 0, 0, 1, 0, 0,\n",
       "       1, 1, 0, 0, 0, 0, 0, 1, 1, 0, 0, 0, 1, 0, 0, 0, 0, 0, 0, 0, 0, 1,\n",
       "       0, 0, 1, 1, 0, 0, 0, 0, 0, 0, 0, 1, 1, 1, 1, 0, 0, 1, 0, 0, 0, 1,\n",
       "       0, 0, 0, 1, 0, 0, 0, 0, 1, 0, 0, 1, 0, 0, 0, 0, 0, 1, 0, 0, 0, 0,\n",
       "       1, 0, 1, 1, 0, 0, 0, 1, 1, 1, 0, 0, 0, 0, 0, 0, 0, 0, 1, 0, 0, 0,\n",
       "       0, 0, 0, 0, 0, 1, 0, 0, 0, 0, 0, 0, 1, 1, 1, 0, 1, 0, 0, 1, 0, 0,\n",
       "       0, 0, 1, 1, 0, 1, 1, 0, 1, 0, 0, 0, 0, 1, 0, 0, 0, 0, 1, 1, 0, 1,\n",
       "       0, 0, 0, 0, 1, 0, 0, 1, 1, 0, 0, 1, 1, 1, 0, 0, 0, 0, 0, 0, 0, 1,\n",
       "       0, 0, 0, 0, 0, 0, 0, 0, 0, 0, 1, 0, 1, 0, 0, 0, 0, 0, 0, 0, 0, 0,\n",
       "       0, 0, 0, 0, 0, 0, 0, 0, 1, 0, 0, 1, 0, 1, 1, 0, 0, 0, 0, 0, 0, 0,\n",
       "       0, 0, 0, 1, 0, 0, 0, 0, 0, 1, 0, 1, 0, 1, 0, 0, 0, 1, 0, 0, 0, 0,\n",
       "       0, 1, 0, 0, 0, 0, 0, 0, 0, 0, 1, 1, 0, 1, 0, 1, 1, 0, 0, 1, 1, 0,\n",
       "       0, 0, 1, 1, 1, 0, 0, 0, 0, 0, 0, 0, 0, 1, 0, 0, 0, 1, 0, 1, 0, 0,\n",
       "       1, 0, 0, 0, 0, 0, 1, 0, 0, 0, 0, 0, 0, 0, 0, 1, 1, 0, 0, 0, 0, 0,\n",
       "       0, 1, 0, 0, 0, 1, 0, 0, 0, 1, 0, 1, 0, 0, 0, 0, 0, 0, 1, 1, 1, 0,\n",
       "       0, 0, 0, 0, 0, 0, 1, 0, 0, 0, 0, 1, 0, 1, 0, 0, 0, 1, 0, 0, 1, 1,\n",
       "       0, 0, 0, 0, 0, 1, 0, 0, 0, 1, 0, 0, 0, 0])"
      ]
     },
     "execution_count": 128,
     "metadata": {},
     "output_type": "execute_result"
    }
   ],
   "source": [
    "y_test"
   ]
  },
  {
   "cell_type": "code",
   "execution_count": 129,
   "metadata": {},
   "outputs": [
    {
     "name": "stdout",
     "output_type": "stream",
     "text": [
      "Random Forest _____________________________________________ \n",
      " [[442 133]\n",
      " [ 84 125]] \n",
      " 0.5353319057815845 \n",
      " 0.5712979890310786 \n",
      " 0.7232142857142857\n",
      "SGD _____________________________________________ \n",
      " [[440 135]\n",
      " [ 98 111]] \n",
      " 0.48791208791208796 \n",
      " 0.5129390018484289 \n",
      " 0.7028061224489796\n",
      "SVM _____________________________________________ \n",
      " [[509  66]\n",
      " [114  95]] \n",
      " 0.5135135135135135 \n",
      " 0.4764292878635908 \n",
      " 0.7704081632653061\n",
      "KNN _____________________________________________ \n",
      " [[443 132]\n",
      " [ 88 121]] \n",
      " 0.5238095238095238 \n",
      " 0.5555555555555556 \n",
      " 0.7193877551020408\n",
      "Naive Bayes _____________________________________________ \n",
      " [[439 136]\n",
      " [107 102]] \n",
      " 0.4563758389261745 \n",
      " 0.4748603351955308 \n",
      " 0.6900510204081632\n",
      "MLP _____________________________________________ \n",
      " [[500  75]\n",
      " [125  84]] \n",
      " 0.45652173913043476 \n",
      " 0.42211055276381915 \n",
      " 0.7448979591836735\n",
      "25/25 [==============================] - 1s 7ms/step\n",
      "Tensorflow _____________________________________________ \n",
      " [[519  56]\n",
      " [123  86]] \n",
      " 0.49002849002848997 \n",
      " 0.43967280163599176 \n",
      " 0.7716836734693877\n"
     ]
    }
   ],
   "source": [
    "from sklearn.metrics import f1_score\n",
    "from sklearn.metrics import fbeta_score\n",
    "from sklearn.metrics import accuracy_score\n",
    "from sklearn.metrics import confusion_matrix\n",
    "\n",
    "\n",
    "for key, model in models.items():\n",
    "    y_pred = model.predict(X_test)\n",
    "    \n",
    "    y_pred = np.where(y_pred >= 0.5, 1, 0)\n",
    "\n",
    "    f1_scores = f1_score(y_test, y_pred)\n",
    "    f2_score = fbeta_score(y_test, y_pred, beta=2)\n",
    "    accuracy = accuracy_score(y_test, y_pred)\n",
    "\n",
    "    cm = confusion_matrix(y_test, y_pred)\n",
    "\n",
    "    print(f'{key} _____________________________________________ \\n {cm} \\n {f1_scores} \\n {f2_score} \\n {accuracy}')"
   ]
  },
  {
   "cell_type": "code",
   "execution_count": null,
   "metadata": {},
   "outputs": [],
   "source": []
  }
 ],
 "metadata": {
  "kernelspec": {
   "display_name": "ml-for-chemists-tf2",
   "language": "python",
   "name": "python3"
  },
  "language_info": {
   "codemirror_mode": {
    "name": "ipython",
    "version": 3
   },
   "file_extension": ".py",
   "mimetype": "text/x-python",
   "name": "python",
   "nbconvert_exporter": "python",
   "pygments_lexer": "ipython3",
   "version": "3.7.7"
  },
  "orig_nbformat": 4
 },
 "nbformat": 4,
 "nbformat_minor": 2
}
